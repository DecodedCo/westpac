{
 "cells": [
  {
   "cell_type": "markdown",
   "metadata": {},
   "source": [
    "# Pulling Stock Data\n",
    "This is a Python notebook to analyze Stock data based on ticker symbols.\n"
   ]
  },
  {
   "cell_type": "markdown",
   "metadata": {},
   "source": [
    "## 0. Programming in Python\n",
    "Let's start by seeing how to make variables, functions, and logic in Python."
   ]
  },
  {
   "cell_type": "markdown",
   "metadata": {},
   "source": [
    "### Variables\n",
    "Variables can take on many data types, from `'Strings'` to numbers (`0`), `True`/`False` and even functions.\n",
    "\n",
    "Let's create a variable called `x` and assign it a string. \n",
    "\n",
    "Type **`x = 'Hello world!'`** in the box below, then press **`Shift + Enter`** to execute the code."
   ]
  },
  {
   "cell_type": "code",
   "execution_count": 15,
   "metadata": {
    "collapsed": true
   },
   "outputs": [],
   "source": [
    "x = 'Hello world!'"
   ]
  },
  {
   "cell_type": "markdown",
   "metadata": {},
   "source": [
    "Nothing happened... That's because we've only just created the variable `x`. \n",
    "\n",
    "Now to show the value of the variable, we need to type **`x`**. Again, press **`Shift + Enter`** to execute the code."
   ]
  },
  {
   "cell_type": "code",
   "execution_count": 16,
   "metadata": {},
   "outputs": [
    {
     "data": {
      "text/plain": [
       "'Hello world!'"
      ]
     },
     "execution_count": 16,
     "metadata": {},
     "output_type": "execute_result"
    }
   ],
   "source": [
    "x"
   ]
  },
  {
   "cell_type": "markdown",
   "metadata": {},
   "source": [
    "### Functions\n",
    "\n",
    "We can build and use functions to perform some action.\n",
    "\n",
    "Functions can operate on one or more `variables` that get defined when you initially create the function. When definied, these variables are just placeholders for what to do with any data that gets sent to the function when it is used.\n",
    "\n",
    "Python uses indentation instead of `{` and `}` like in JavaScript or CSS. So be careful how you indent your code.\n",
    "\n",
    "Below, type **`def myFunction(y):`** on the first line, then hit `Enter` and type **`return y + 3`**. The second line should be automatically indented. Press **`Shift + Enter`** to save that function.\n",
    "\n",
    "In the box below that, type **`myFunction(3)`** - what do you expect it to return when you press **`Shift + Enter`**?"
   ]
  },
  {
   "cell_type": "code",
   "execution_count": 17,
   "metadata": {
    "collapsed": true
   },
   "outputs": [],
   "source": [
    "def myFunction(y):\n",
    "    return y + 3"
   ]
  },
  {
   "cell_type": "code",
   "execution_count": 18,
   "metadata": {},
   "outputs": [
    {
     "data": {
      "text/plain": [
       "6"
      ]
     },
     "execution_count": 18,
     "metadata": {},
     "output_type": "execute_result"
    }
   ],
   "source": [
    "myFunction(3)"
   ]
  },
  {
   "cell_type": "markdown",
   "metadata": {},
   "source": [
    "### Logic\n",
    "Logic is the last piece of the programming foundation; this will test some comparison, and depending on whether the comparison is `True` or `False`, one outcome will result.\n",
    "\n",
    "We've put the basic structure in the box below, but you need to add a comparison in the `()` to test: e.g. **`(5 > 3)`** or **`('a' == 'a')`**. Press **`Shift + Enter`** to run the logic below."
   ]
  },
  {
   "cell_type": "code",
   "execution_count": 20,
   "metadata": {},
   "outputs": [
    {
     "name": "stdout",
     "output_type": "stream",
     "text": [
      "The comparison is True\n"
     ]
    }
   ],
   "source": [
    "if (6 < 10):\n",
    "   print 'The comparison is True'\n",
    "else:\n",
    "   print 'The comparison is False'"
   ]
  },
  {
   "cell_type": "markdown",
   "metadata": {},
   "source": [
    "### Packages\n",
    "Packages are the secret sauce of Python - they are the libraries of pre-existing code that we bring in to perform complex functions and streamline our code. To use a package we have to import it before accessing it's contents. To that we just type `import package_name`.\n",
    "\n",
    "Let's start by importing the data scientist's best friend, `numpy`. It is the package for \"scientific computing\", which means it lets us manipulate large arrays of numbers.\n",
    "\n",
    "To save space in our code when we use a package we can shorten it's name when we import it by typing `import package_name as short_name`. Let's **import `numpy`, giving it the shortened name `np`**, as is common practice."
   ]
  },
  {
   "cell_type": "code",
   "execution_count": 21,
   "metadata": {
    "collapsed": true
   },
   "outputs": [],
   "source": [
    "import numpy as np"
   ]
  },
  {
   "cell_type": "markdown",
   "metadata": {},
   "source": [
    "If it worked, nothing should have happened.\n",
    "\n",
    "So let's test it out. \n",
    "\n",
    "A common numpy function is `np.array()`, which  will take any list of numbers, formatted like this: `[1,2,3,4,5,6,7]`, and convert them in to an array.\n",
    "\n",
    "Another common function is `np.log()`. This takes the log of any number. This function is useful for scaling down numbers across a big range. \n",
    "\n",
    "Using numpy functions, create an array of the following numbers: `[1,8,27,64]`, and take the log of that array. Type **`np.log(np.array([1,8,27,64])`** and run the code below:"
   ]
  },
  {
   "cell_type": "code",
   "execution_count": 22,
   "metadata": {},
   "outputs": [
    {
     "data": {
      "text/plain": [
       "array([ 0.        ,  2.07944154,  3.29583687,  4.15888308])"
      ]
     },
     "execution_count": 22,
     "metadata": {},
     "output_type": "execute_result"
    }
   ],
   "source": [
    "np.log(np.array([1,8,27,64]))"
   ]
  },
  {
   "cell_type": "markdown",
   "metadata": {},
   "source": [
    "Your output should look like this:\n",
    "\n",
    "`array([ 0.        ,  2.07944154,  3.29583687,  4.15888308])`"
   ]
  },
  {
   "cell_type": "markdown",
   "metadata": {},
   "source": [
    "### Wrap Up\n",
    "So that's it!  Variables, functions, logic and packages are the building blocks of programming in any language.\n",
    "\n",
    "Now that you've got a handle on those, we're going to get a bit more complicated working with our data.\n",
    "\n",
    "*Note: Just like above, you'll need to press `Shift + Enter` to run any code in an `In [ ]:` box.*\n",
    "\n",
    "## <font color='green'>You're now finished with this section! Let your facilitators know, and have a break.</font>\n",
    "\n",
    "![done](https://media.giphy.com/media/XreQmk7ETCak0/giphy.gif)"
   ]
  },
  {
   "cell_type": "markdown",
   "metadata": {},
   "source": [
    "## 1. Sourcing Data\n",
    "To begin working with our data, let's use an API called [Quandl](https://www.quandl.com) to bring in stock data.\n",
    "\n",
    "We need to first `import quandl` to get the Quandl library of functions, then give the API our API key to get access to the data. The key for today is **`Byjzu4U8rmR1iEhZnp7V`** - copy and paste that between the `\"\"` below."
   ]
  },
  {
   "cell_type": "code",
   "execution_count": 23,
   "metadata": {},
   "outputs": [],
   "source": [
    "import quandl"
   ]
  },
  {
   "cell_type": "markdown",
   "metadata": {},
   "source": [
    "Now that we've got our connection to quandl, let's pull a single stock (`AAPL`) and store that in a variable called `data`.\n",
    "\n",
    "Add **`WIKI/AAPL`** between the `\"\"` below."
   ]
  },
  {
   "cell_type": "code",
   "execution_count": 24,
   "metadata": {},
   "outputs": [],
   "source": [
    "data = quandl.get(\"WIKI/AAPL\", rows=5)"
   ]
  },
  {
   "cell_type": "markdown",
   "metadata": {},
   "source": [
    "To find out the type of data, we can type **`print type(data)`**."
   ]
  },
  {
   "cell_type": "code",
   "execution_count": 25,
   "metadata": {},
   "outputs": [
    {
     "name": "stdout",
     "output_type": "stream",
     "text": [
      "<class 'pandas.core.frame.DataFrame'>\n"
     ]
    }
   ],
   "source": [
    "print type(data)"
   ]
  },
  {
   "cell_type": "markdown",
   "metadata": {},
   "source": [
    "And if we want to look at the data itself, we can type **`data`** below."
   ]
  },
  {
   "cell_type": "code",
   "execution_count": 26,
   "metadata": {},
   "outputs": [
    {
     "data": {
      "text/html": [
       "<div>\n",
       "<style scoped>\n",
       "    .dataframe tbody tr th:only-of-type {\n",
       "        vertical-align: middle;\n",
       "    }\n",
       "\n",
       "    .dataframe tbody tr th {\n",
       "        vertical-align: top;\n",
       "    }\n",
       "\n",
       "    .dataframe thead th {\n",
       "        text-align: right;\n",
       "    }\n",
       "</style>\n",
       "<table border=\"1\" class=\"dataframe\">\n",
       "  <thead>\n",
       "    <tr style=\"text-align: right;\">\n",
       "      <th></th>\n",
       "      <th>Open</th>\n",
       "      <th>High</th>\n",
       "      <th>Low</th>\n",
       "      <th>Close</th>\n",
       "      <th>Volume</th>\n",
       "      <th>Ex-Dividend</th>\n",
       "      <th>Split Ratio</th>\n",
       "      <th>Adj. Open</th>\n",
       "      <th>Adj. High</th>\n",
       "      <th>Adj. Low</th>\n",
       "      <th>Adj. Close</th>\n",
       "      <th>Adj. Volume</th>\n",
       "    </tr>\n",
       "    <tr>\n",
       "      <th>Date</th>\n",
       "      <th></th>\n",
       "      <th></th>\n",
       "      <th></th>\n",
       "      <th></th>\n",
       "      <th></th>\n",
       "      <th></th>\n",
       "      <th></th>\n",
       "      <th></th>\n",
       "      <th></th>\n",
       "      <th></th>\n",
       "      <th></th>\n",
       "      <th></th>\n",
       "    </tr>\n",
       "  </thead>\n",
       "  <tbody>\n",
       "    <tr>\n",
       "      <th>2017-10-25</th>\n",
       "      <td>156.91</td>\n",
       "      <td>157.5500</td>\n",
       "      <td>155.27</td>\n",
       "      <td>156.405</td>\n",
       "      <td>20126554.0</td>\n",
       "      <td>0.0</td>\n",
       "      <td>1.0</td>\n",
       "      <td>156.91</td>\n",
       "      <td>157.5500</td>\n",
       "      <td>155.27</td>\n",
       "      <td>156.405</td>\n",
       "      <td>20126554.0</td>\n",
       "    </tr>\n",
       "    <tr>\n",
       "      <th>2017-10-26</th>\n",
       "      <td>157.23</td>\n",
       "      <td>157.8295</td>\n",
       "      <td>156.78</td>\n",
       "      <td>157.410</td>\n",
       "      <td>16751691.0</td>\n",
       "      <td>0.0</td>\n",
       "      <td>1.0</td>\n",
       "      <td>157.23</td>\n",
       "      <td>157.8295</td>\n",
       "      <td>156.78</td>\n",
       "      <td>157.410</td>\n",
       "      <td>16751691.0</td>\n",
       "    </tr>\n",
       "    <tr>\n",
       "      <th>2017-10-27</th>\n",
       "      <td>159.29</td>\n",
       "      <td>163.6000</td>\n",
       "      <td>158.70</td>\n",
       "      <td>163.050</td>\n",
       "      <td>43904150.0</td>\n",
       "      <td>0.0</td>\n",
       "      <td>1.0</td>\n",
       "      <td>159.29</td>\n",
       "      <td>163.6000</td>\n",
       "      <td>158.70</td>\n",
       "      <td>163.050</td>\n",
       "      <td>43904150.0</td>\n",
       "    </tr>\n",
       "    <tr>\n",
       "      <th>2017-10-30</th>\n",
       "      <td>163.89</td>\n",
       "      <td>168.0700</td>\n",
       "      <td>163.72</td>\n",
       "      <td>166.720</td>\n",
       "      <td>43923292.0</td>\n",
       "      <td>0.0</td>\n",
       "      <td>1.0</td>\n",
       "      <td>163.89</td>\n",
       "      <td>168.0700</td>\n",
       "      <td>163.72</td>\n",
       "      <td>166.720</td>\n",
       "      <td>43923292.0</td>\n",
       "    </tr>\n",
       "    <tr>\n",
       "      <th>2017-10-31</th>\n",
       "      <td>167.90</td>\n",
       "      <td>169.6499</td>\n",
       "      <td>166.94</td>\n",
       "      <td>169.040</td>\n",
       "      <td>35474672.0</td>\n",
       "      <td>0.0</td>\n",
       "      <td>1.0</td>\n",
       "      <td>167.90</td>\n",
       "      <td>169.6499</td>\n",
       "      <td>166.94</td>\n",
       "      <td>169.040</td>\n",
       "      <td>35474672.0</td>\n",
       "    </tr>\n",
       "  </tbody>\n",
       "</table>\n",
       "</div>"
      ],
      "text/plain": [
       "              Open      High     Low    Close      Volume  Ex-Dividend  \\\n",
       "Date                                                                     \n",
       "2017-10-25  156.91  157.5500  155.27  156.405  20126554.0          0.0   \n",
       "2017-10-26  157.23  157.8295  156.78  157.410  16751691.0          0.0   \n",
       "2017-10-27  159.29  163.6000  158.70  163.050  43904150.0          0.0   \n",
       "2017-10-30  163.89  168.0700  163.72  166.720  43923292.0          0.0   \n",
       "2017-10-31  167.90  169.6499  166.94  169.040  35474672.0          0.0   \n",
       "\n",
       "            Split Ratio  Adj. Open  Adj. High  Adj. Low  Adj. Close  \\\n",
       "Date                                                                  \n",
       "2017-10-25          1.0     156.91   157.5500    155.27     156.405   \n",
       "2017-10-26          1.0     157.23   157.8295    156.78     157.410   \n",
       "2017-10-27          1.0     159.29   163.6000    158.70     163.050   \n",
       "2017-10-30          1.0     163.89   168.0700    163.72     166.720   \n",
       "2017-10-31          1.0     167.90   169.6499    166.94     169.040   \n",
       "\n",
       "            Adj. Volume  \n",
       "Date                     \n",
       "2017-10-25   20126554.0  \n",
       "2017-10-26   16751691.0  \n",
       "2017-10-27   43904150.0  \n",
       "2017-10-30   43923292.0  \n",
       "2017-10-31   35474672.0  "
      ]
     },
     "execution_count": 26,
     "metadata": {},
     "output_type": "execute_result"
    }
   ],
   "source": [
    "data"
   ]
  },
  {
   "cell_type": "markdown",
   "metadata": {},
   "source": [
    "To assess the health of each stock, let's find the `Close` price for each stock. If you notice above, that's the 4th column.\n",
    "\n",
    "Based on Quandl's [API documentation](https://docs.quandl.com/docs/time-series-2), we can extract just that column by adding **`.4`** after `WIKI/AAPL` to get **`WIKI/AAPL.4`**:"
   ]
  },
  {
   "cell_type": "code",
   "execution_count": 27,
   "metadata": {},
   "outputs": [
    {
     "data": {
      "text/html": [
       "<div>\n",
       "<style scoped>\n",
       "    .dataframe tbody tr th:only-of-type {\n",
       "        vertical-align: middle;\n",
       "    }\n",
       "\n",
       "    .dataframe tbody tr th {\n",
       "        vertical-align: top;\n",
       "    }\n",
       "\n",
       "    .dataframe thead th {\n",
       "        text-align: right;\n",
       "    }\n",
       "</style>\n",
       "<table border=\"1\" class=\"dataframe\">\n",
       "  <thead>\n",
       "    <tr style=\"text-align: right;\">\n",
       "      <th></th>\n",
       "      <th>Close</th>\n",
       "    </tr>\n",
       "    <tr>\n",
       "      <th>Date</th>\n",
       "      <th></th>\n",
       "    </tr>\n",
       "  </thead>\n",
       "  <tbody>\n",
       "    <tr>\n",
       "      <th>1980-12-31</th>\n",
       "      <td>34.13</td>\n",
       "    </tr>\n",
       "    <tr>\n",
       "      <th>1981-01-31</th>\n",
       "      <td>28.25</td>\n",
       "    </tr>\n",
       "    <tr>\n",
       "      <th>1981-02-28</th>\n",
       "      <td>26.50</td>\n",
       "    </tr>\n",
       "    <tr>\n",
       "      <th>1981-03-31</th>\n",
       "      <td>24.50</td>\n",
       "    </tr>\n",
       "    <tr>\n",
       "      <th>1981-04-30</th>\n",
       "      <td>28.38</td>\n",
       "    </tr>\n",
       "  </tbody>\n",
       "</table>\n",
       "</div>"
      ],
      "text/plain": [
       "            Close\n",
       "Date             \n",
       "1980-12-31  34.13\n",
       "1981-01-31  28.25\n",
       "1981-02-28  26.50\n",
       "1981-03-31  24.50\n",
       "1981-04-30  28.38"
      ]
     },
     "execution_count": 27,
     "metadata": {},
     "output_type": "execute_result"
    }
   ],
   "source": [
    "data = quandl.get(\"WIKI/AAPL.4\", rows=5, collapse='monthly')\n",
    "data"
   ]
  },
  {
   "cell_type": "markdown",
   "metadata": {},
   "source": [
    "That's great! But we want to show data for the last 10 years.\n",
    "\n",
    "First, we need to have Python tell us what today's date is and subtract 10 years from that. Replace `#TODO` with **``print start_date``** after the definition to check the value makes sense:"
   ]
  },
  {
   "cell_type": "code",
   "execution_count": 28,
   "metadata": {},
   "outputs": [],
   "source": [
    "import datetime\n",
    "start_date = (datetime.datetime.now() - datetime.timedelta(days=10*365)).strftime('%Y-%m-01')"
   ]
  },
  {
   "cell_type": "markdown",
   "metadata": {},
   "source": [
    "Now we need to add a new parameter to our Quandl get request. After `collapse='monthly'`, add a comma and then **`start_date=start_date`** inside the parenthesis.\n",
    "\n",
    "Then, to save space in the notebook, we're only going to show the top five rows of data using `data.head(5)`.\n",
    "\n",
    "How could you show the top 10 rows instead?"
   ]
  },
  {
   "cell_type": "code",
   "execution_count": 29,
   "metadata": {},
   "outputs": [
    {
     "data": {
      "text/html": [
       "<div>\n",
       "<style scoped>\n",
       "    .dataframe tbody tr th:only-of-type {\n",
       "        vertical-align: middle;\n",
       "    }\n",
       "\n",
       "    .dataframe tbody tr th {\n",
       "        vertical-align: top;\n",
       "    }\n",
       "\n",
       "    .dataframe thead th {\n",
       "        text-align: right;\n",
       "    }\n",
       "</style>\n",
       "<table border=\"1\" class=\"dataframe\">\n",
       "  <thead>\n",
       "    <tr style=\"text-align: right;\">\n",
       "      <th></th>\n",
       "      <th>Close</th>\n",
       "    </tr>\n",
       "    <tr>\n",
       "      <th>Date</th>\n",
       "      <th></th>\n",
       "    </tr>\n",
       "  </thead>\n",
       "  <tbody>\n",
       "    <tr>\n",
       "      <th>2007-11-30</th>\n",
       "      <td>182.22</td>\n",
       "    </tr>\n",
       "    <tr>\n",
       "      <th>2007-12-31</th>\n",
       "      <td>198.08</td>\n",
       "    </tr>\n",
       "    <tr>\n",
       "      <th>2008-01-31</th>\n",
       "      <td>135.36</td>\n",
       "    </tr>\n",
       "    <tr>\n",
       "      <th>2008-02-29</th>\n",
       "      <td>125.02</td>\n",
       "    </tr>\n",
       "    <tr>\n",
       "      <th>2008-03-31</th>\n",
       "      <td>143.50</td>\n",
       "    </tr>\n",
       "    <tr>\n",
       "      <th>2008-04-30</th>\n",
       "      <td>173.95</td>\n",
       "    </tr>\n",
       "    <tr>\n",
       "      <th>2008-05-31</th>\n",
       "      <td>188.75</td>\n",
       "    </tr>\n",
       "    <tr>\n",
       "      <th>2008-06-30</th>\n",
       "      <td>167.44</td>\n",
       "    </tr>\n",
       "    <tr>\n",
       "      <th>2008-07-31</th>\n",
       "      <td>158.95</td>\n",
       "    </tr>\n",
       "    <tr>\n",
       "      <th>2008-08-31</th>\n",
       "      <td>169.53</td>\n",
       "    </tr>\n",
       "  </tbody>\n",
       "</table>\n",
       "</div>"
      ],
      "text/plain": [
       "             Close\n",
       "Date              \n",
       "2007-11-30  182.22\n",
       "2007-12-31  198.08\n",
       "2008-01-31  135.36\n",
       "2008-02-29  125.02\n",
       "2008-03-31  143.50\n",
       "2008-04-30  173.95\n",
       "2008-05-31  188.75\n",
       "2008-06-30  167.44\n",
       "2008-07-31  158.95\n",
       "2008-08-31  169.53"
      ]
     },
     "execution_count": 29,
     "metadata": {},
     "output_type": "execute_result"
    }
   ],
   "source": [
    "data = quandl.get(\"WIKI/AAPL.4\", rows=120, collapse='monthly', start_date=start_date)\n",
    "data.head(10)"
   ]
  },
  {
   "cell_type": "markdown",
   "metadata": {},
   "source": [
    "Python comes with a number of great visualization tools built in.\n",
    "\n",
    "Let's do a quick visualization of the data to see if it looks right:"
   ]
  },
  {
   "cell_type": "code",
   "execution_count": 30,
   "metadata": {},
   "outputs": [
    {
     "name": "stdout",
     "output_type": "stream",
     "text": [
      "Requirement already satisfied: mpld3 in /home/nbcommon/anaconda2_410/lib/python2.7/site-packages\r\n"
     ]
    },
    {
     "data": {
      "image/png": "[encoded data removed]",
      "text/html": [
       "\n",
       "\n",
       "<style>\n",
       "\n",
       "</style>\n",
       "\n",
       "<div id=\"fig_el2021400208286770722105141687\"></div>\n",
       "<script>\n",
       "function mpld3_load_lib(url, callback){\n",
       "  var s = document.createElement('script');\n",
       "  s.src = url;\n",
       "  s.async = true;\n",
       "  s.onreadystatechange = s.onload = callback;\n",
       "  s.onerror = function(){console.warn(\"failed to load library \" + url);};\n",
       "  document.getElementsByTagName(\"head\")[0].appendChild(s);\n",
       "}\n",
       "\n",
       "if(typeof(mpld3) !== \"undefined\" && mpld3._mpld3IsLoaded){\n",
       "   // already loaded: just create the figure\n",
       "   !function(mpld3){\n",
       "       \n",
       "       mpld3.draw_figure(\"fig_el2021400208286770722105141687\", {\"axes\": [{\"xlim\": [448.05, 578.95], \"yscale\": \"linear\", \"axesbg\": \"#FFFFFF\", \"texts\": [{\"v_baseline\": \"hanging\", \"h_anchor\": \"middle\", \"color\": \"#000000\", \"text\": \"Date\", \"coordinates\": \"axes\", \"zorder\": 3, \"alpha\": 1, \"fontsize\": 10.0, \"position\": [0.49999999999999994, -0.09657836644591611], \"rotation\": -0.0, \"id\": \"el202140020826155024\"}, {\"v_baseline\": \"auto\", \"h_anchor\": \"start\", \"color\": \"#000000\", \"text\": \"Close\", \"coordinates\": \"axes\", \"zorder\": 1000003.0, \"alpha\": 1, \"fontsize\": 10.0, \"position\": [0.892099761051374, 0.9218175128771156], \"rotation\": -0.0, \"id\": \"el202140021270435728\"}], \"zoomable\": true, \"images\": [], \"xdomain\": [[2007, 4, 31, 0, 0, 0, 0], [2018, 2, 31, 0, 0, 0, 0]], \"ylim\": [56.262249999999995, 696.19275], \"paths\": [{\"edgecolor\": \"#CCCCCC\", \"facecolor\": \"#FFFFFF\", \"edgewidth\": 1.0, \"pathcodes\": [\"M\", \"L\", \"S\", \"L\", \"S\", \"L\", \"S\", \"L\", \"S\", \"Z\"], \"yindex\": 1, \"coordinates\": \"axes\", \"dasharray\": \"none\", \"zorder\": 1000000.0, \"alpha\": 0.8, \"xindex\": 0, \"data\": \"data03\", \"id\": \"el202140020826153296\"}], \"sharey\": [], \"sharex\": [], \"axesbgalpha\": null, \"axes\": [{\"scale\": \"linear\", \"tickformat\": null, \"grid\": {\"gridOn\": false}, \"visible\": true, \"fontsize\": 10.0, \"position\": \"bottom\", \"nticks\": 11, \"tickvalues\": null}, {\"scale\": \"linear\", \"tickformat\": null, \"grid\": {\"gridOn\": false}, \"visible\": true, \"fontsize\": 10.0, \"position\": \"left\", \"nticks\": 8, \"tickvalues\": null}], \"lines\": [{\"drawstyle\": \"default\", \"color\": \"#1F77B4\", \"yindex\": 1, \"coordinates\": \"data\", \"dasharray\": \"none\", \"zorder\": 2, \"alpha\": 1, \"xindex\": 0, \"linewidth\": 1.5, \"data\": \"data01\", \"id\": \"el202140020826113296\"}, {\"drawstyle\": \"default\", \"color\": \"#1F77B4\", \"yindex\": 1, \"coordinates\": \"axes\", \"dasharray\": \"none\", \"zorder\": 1000002.0, \"alpha\": 1, \"xindex\": 0, \"linewidth\": 1.5, \"data\": \"data02\", \"id\": \"el202140021270859408\"}], \"markers\": [], \"id\": \"el202140020826955600\", \"ydomain\": [56.262249999999995, 696.19275], \"collections\": [], \"xscale\": \"date\", \"bbox\": [0.125, 0.125, 0.775, 0.755]}], \"height\": 288.0, \"width\": 432.0, \"plugins\": [{\"type\": \"reset\"}, {\"enabled\": false, \"button\": true, \"type\": \"zoom\"}, {\"enabled\": false, \"button\": true, \"type\": \"boxzoom\"}], \"data\": {\"data02\": [[0.8084677419354839, 0.9379139072847682], [0.8682048984468339, 0.9379139072847682]], \"data03\": [[0.8024940262843488, 0.8942236938925681], [0.9790919952210274, 0.8942236938925681], [0.9850657108721624, 0.8942236938925681], [0.9850657108721624, 0.9034216335540839], [0.9850657108721624, 0.9678072111846947], [0.9850657108721624, 0.9770051508462105], [0.9790919952210274, 0.9770051508462105], [0.8024940262843488, 0.9770051508462105], [0.7965203106332138, 0.9770051508462105], [0.7965203106332138, 0.9678072111846947], [0.7965203106332138, 0.9034216335540839], [0.7965203106332138, 0.8942236938925681], [0.8024940262843488, 0.8942236938925681]], \"data01\": [[454.0, 182.22], [455.0, 198.08], [456.0, 135.36], [457.0, 125.02], [458.0, 143.5], [459.0, 173.95], [460.0, 188.75], [461.0, 167.44], [462.0, 158.95], [463.0, 169.53], [464.0, 113.66], [465.0, 107.59], [466.0, 92.67], [467.0, 85.35], [468.0, 90.13], [469.0, 89.31], [470.0, 105.12], [471.0, 125.83], [472.0, 135.81], [473.0, 142.43], [474.0, 163.39], [475.0, 168.21], [476.0, 185.35], [477.0, 188.5], [478.0, 199.91], [479.0, 210.732], [480.0, 192.063], [481.0, 204.62], [482.0, 235.0], [483.0, 261.09], [484.0, 256.88], [485.0, 251.53], [486.0, 257.25], [487.0, 243.1], [488.0, 283.75], [489.0, 300.98], [490.0, 311.15], [491.0, 322.56], [492.0, 339.32], [493.0, 353.21], [494.0, 348.5075], [495.0, 350.13], [496.0, 347.83], [497.0, 335.67], [498.0, 390.48], [499.0, 384.83], [500.0, 381.32], [501.0, 404.78], [502.0, 382.2], [503.0, 405.0], [504.0, 456.48], [505.0, 542.44], [506.0, 599.55], [507.0, 583.98], [508.0, 577.73], [509.0, 584.0], [510.0, 610.76], [511.0, 665.24], [512.0, 667.105], [513.0, 595.32], [514.0, 585.28], [515.0, 532.1729], [516.0, 455.49], [517.0, 441.4], [518.0, 442.66], [519.0, 442.78], [520.0, 449.735], [521.0, 396.53], [522.0, 452.53], [523.0, 487.216], [524.0, 476.75], [525.0, 522.702], [526.0, 556.07], [527.0, 561.02], [528.0, 500.6], [529.0, 526.24], [530.0, 536.74], [531.0, 590.09], [532.0, 633.0], [533.0, 92.93], [534.0, 95.6], [535.0, 102.5], [536.0, 100.75], [537.0, 108.0], [538.0, 118.93], [539.0, 110.38], [540.0, 117.16], [541.0, 128.46], [542.0, 124.43], [543.0, 125.15], [544.0, 130.28], [545.0, 125.425], [546.0, 121.3], [547.0, 112.76], [548.0, 109.95], [549.0, 119.5], [550.0, 118.3], [551.0, 105.26], [552.0, 97.34], [553.0, 96.69], [554.0, 108.99], [555.0, 93.74], [556.0, 99.86], [557.0, 95.6], [558.0, 104.21], [559.0, 106.1], [560.0, 113.05], [561.0, 113.54], [562.0, 110.52], [563.0, 115.82], [564.0, 121.35], [565.0, 136.99], [566.0, 143.66], [567.0, 143.65], [568.0, 152.76], [569.0, 144.02], [570.0, 148.85], [571.0, 164.0], [572.0, 154.12], [573.0, 169.04]]}, \"id\": \"el202140020828677072\"});\n",
       "   }(mpld3);\n",
       "}else if(typeof define === \"function\" && define.amd){\n",
       "   // require.js is available: use it to load d3/mpld3\n",
       "   require.config({paths: {d3: \"https://mpld3.github.io/js/d3.v3.min\"}});\n",
       "   require([\"d3\"], function(d3){\n",
       "      window.d3 = d3;\n",
       "      mpld3_load_lib(\"https://mpld3.github.io/js/mpld3.v0.3.js\", function(){\n",
       "         \n",
       "         mpld3.draw_figure(\"fig_el2021400208286770722105141687\", {\"axes\": [{\"xlim\": [448.05, 578.95], \"yscale\": \"linear\", \"axesbg\": \"#FFFFFF\", \"texts\": [{\"v_baseline\": \"hanging\", \"h_anchor\": \"middle\", \"color\": \"#000000\", \"text\": \"Date\", \"coordinates\": \"axes\", \"zorder\": 3, \"alpha\": 1, \"fontsize\": 10.0, \"position\": [0.49999999999999994, -0.09657836644591611], \"rotation\": -0.0, \"id\": \"el202140020826155024\"}, {\"v_baseline\": \"auto\", \"h_anchor\": \"start\", \"color\": \"#000000\", \"text\": \"Close\", \"coordinates\": \"axes\", \"zorder\": 1000003.0, \"alpha\": 1, \"fontsize\": 10.0, \"position\": [0.892099761051374, 0.9218175128771156], \"rotation\": -0.0, \"id\": \"el202140021270435728\"}], \"zoomable\": true, \"images\": [], \"xdomain\": [[2007, 4, 31, 0, 0, 0, 0], [2018, 2, 31, 0, 0, 0, 0]], \"ylim\": [56.262249999999995, 696.19275], \"paths\": [{\"edgecolor\": \"#CCCCCC\", \"facecolor\": \"#FFFFFF\", \"edgewidth\": 1.0, \"pathcodes\": [\"M\", \"L\", \"S\", \"L\", \"S\", \"L\", \"S\", \"L\", \"S\", \"Z\"], \"yindex\": 1, \"coordinates\": \"axes\", \"dasharray\": \"none\", \"zorder\": 1000000.0, \"alpha\": 0.8, \"xindex\": 0, \"data\": \"data03\", \"id\": \"el202140020826153296\"}], \"sharey\": [], \"sharex\": [], \"axesbgalpha\": null, \"axes\": [{\"scale\": \"linear\", \"tickformat\": null, \"grid\": {\"gridOn\": false}, \"visible\": true, \"fontsize\": 10.0, \"position\": \"bottom\", \"nticks\": 11, \"tickvalues\": null}, {\"scale\": \"linear\", \"tickformat\": null, \"grid\": {\"gridOn\": false}, \"visible\": true, \"fontsize\": 10.0, \"position\": \"left\", \"nticks\": 8, \"tickvalues\": null}], \"lines\": [{\"drawstyle\": \"default\", \"color\": \"#1F77B4\", \"yindex\": 1, \"coordinates\": \"data\", \"dasharray\": \"none\", \"zorder\": 2, \"alpha\": 1, \"xindex\": 0, \"linewidth\": 1.5, \"data\": \"data01\", \"id\": \"el202140020826113296\"}, {\"drawstyle\": \"default\", \"color\": \"#1F77B4\", \"yindex\": 1, \"coordinates\": \"axes\", \"dasharray\": \"none\", \"zorder\": 1000002.0, \"alpha\": 1, \"xindex\": 0, \"linewidth\": 1.5, \"data\": \"data02\", \"id\": \"el202140021270859408\"}], \"markers\": [], \"id\": \"el202140020826955600\", \"ydomain\": [56.262249999999995, 696.19275], \"collections\": [], \"xscale\": \"date\", \"bbox\": [0.125, 0.125, 0.775, 0.755]}], \"height\": 288.0, \"width\": 432.0, \"plugins\": [{\"type\": \"reset\"}, {\"enabled\": false, \"button\": true, \"type\": \"zoom\"}, {\"enabled\": false, \"button\": true, \"type\": \"boxzoom\"}], \"data\": {\"data02\": [[0.8084677419354839, 0.9379139072847682], [0.8682048984468339, 0.9379139072847682]], \"data03\": [[0.8024940262843488, 0.8942236938925681], [0.9790919952210274, 0.8942236938925681], [0.9850657108721624, 0.8942236938925681], [0.9850657108721624, 0.9034216335540839], [0.9850657108721624, 0.9678072111846947], [0.9850657108721624, 0.9770051508462105], [0.9790919952210274, 0.9770051508462105], [0.8024940262843488, 0.9770051508462105], [0.7965203106332138, 0.9770051508462105], [0.7965203106332138, 0.9678072111846947], [0.7965203106332138, 0.9034216335540839], [0.7965203106332138, 0.8942236938925681], [0.8024940262843488, 0.8942236938925681]], \"data01\": [[454.0, 182.22], [455.0, 198.08], [456.0, 135.36], [457.0, 125.02], [458.0, 143.5], [459.0, 173.95], [460.0, 188.75], [461.0, 167.44], [462.0, 158.95], [463.0, 169.53], [464.0, 113.66], [465.0, 107.59], [466.0, 92.67], [467.0, 85.35], [468.0, 90.13], [469.0, 89.31], [470.0, 105.12], [471.0, 125.83], [472.0, 135.81], [473.0, 142.43], [474.0, 163.39], [475.0, 168.21], [476.0, 185.35], [477.0, 188.5], [478.0, 199.91], [479.0, 210.732], [480.0, 192.063], [481.0, 204.62], [482.0, 235.0], [483.0, 261.09], [484.0, 256.88], [485.0, 251.53], [486.0, 257.25], [487.0, 243.1], [488.0, 283.75], [489.0, 300.98], [490.0, 311.15], [491.0, 322.56], [492.0, 339.32], [493.0, 353.21], [494.0, 348.5075], [495.0, 350.13], [496.0, 347.83], [497.0, 335.67], [498.0, 390.48], [499.0, 384.83], [500.0, 381.32], [501.0, 404.78], [502.0, 382.2], [503.0, 405.0], [504.0, 456.48], [505.0, 542.44], [506.0, 599.55], [507.0, 583.98], [508.0, 577.73], [509.0, 584.0], [510.0, 610.76], [511.0, 665.24], [512.0, 667.105], [513.0, 595.32], [514.0, 585.28], [515.0, 532.1729], [516.0, 455.49], [517.0, 441.4], [518.0, 442.66], [519.0, 442.78], [520.0, 449.735], [521.0, 396.53], [522.0, 452.53], [523.0, 487.216], [524.0, 476.75], [525.0, 522.702], [526.0, 556.07], [527.0, 561.02], [528.0, 500.6], [529.0, 526.24], [530.0, 536.74], [531.0, 590.09], [532.0, 633.0], [533.0, 92.93], [534.0, 95.6], [535.0, 102.5], [536.0, 100.75], [537.0, 108.0], [538.0, 118.93], [539.0, 110.38], [540.0, 117.16], [541.0, 128.46], [542.0, 124.43], [543.0, 125.15], [544.0, 130.28], [545.0, 125.425], [546.0, 121.3], [547.0, 112.76], [548.0, 109.95], [549.0, 119.5], [550.0, 118.3], [551.0, 105.26], [552.0, 97.34], [553.0, 96.69], [554.0, 108.99], [555.0, 93.74], [556.0, 99.86], [557.0, 95.6], [558.0, 104.21], [559.0, 106.1], [560.0, 113.05], [561.0, 113.54], [562.0, 110.52], [563.0, 115.82], [564.0, 121.35], [565.0, 136.99], [566.0, 143.66], [567.0, 143.65], [568.0, 152.76], [569.0, 144.02], [570.0, 148.85], [571.0, 164.0], [572.0, 154.12], [573.0, 169.04]]}, \"id\": \"el202140020828677072\"});\n",
       "      });\n",
       "    });\n",
       "}else{\n",
       "    // require.js not available: dynamically load d3 & mpld3\n",
       "    mpld3_load_lib(\"https://mpld3.github.io/js/d3.v3.min.js\", function(){\n",
       "         mpld3_load_lib(\"https://mpld3.github.io/js/mpld3.v0.3.js\", function(){\n",
       "                 \n",
       "                 mpld3.draw_figure(\"fig_el2021400208286770722105141687\", {\"axes\": [{\"xlim\": [448.05, 578.95], \"yscale\": \"linear\", \"axesbg\": \"#FFFFFF\", \"texts\": [{\"v_baseline\": \"hanging\", \"h_anchor\": \"middle\", \"color\": \"#000000\", \"text\": \"Date\", \"coordinates\": \"axes\", \"zorder\": 3, \"alpha\": 1, \"fontsize\": 10.0, \"position\": [0.49999999999999994, -0.09657836644591611], \"rotation\": -0.0, \"id\": \"el202140020826155024\"}, {\"v_baseline\": \"auto\", \"h_anchor\": \"start\", \"color\": \"#000000\", \"text\": \"Close\", \"coordinates\": \"axes\", \"zorder\": 1000003.0, \"alpha\": 1, \"fontsize\": 10.0, \"position\": [0.892099761051374, 0.9218175128771156], \"rotation\": -0.0, \"id\": \"el202140021270435728\"}], \"zoomable\": true, \"images\": [], \"xdomain\": [[2007, 4, 31, 0, 0, 0, 0], [2018, 2, 31, 0, 0, 0, 0]], \"ylim\": [56.262249999999995, 696.19275], \"paths\": [{\"edgecolor\": \"#CCCCCC\", \"facecolor\": \"#FFFFFF\", \"edgewidth\": 1.0, \"pathcodes\": [\"M\", \"L\", \"S\", \"L\", \"S\", \"L\", \"S\", \"L\", \"S\", \"Z\"], \"yindex\": 1, \"coordinates\": \"axes\", \"dasharray\": \"none\", \"zorder\": 1000000.0, \"alpha\": 0.8, \"xindex\": 0, \"data\": \"data03\", \"id\": \"el202140020826153296\"}], \"sharey\": [], \"sharex\": [], \"axesbgalpha\": null, \"axes\": [{\"scale\": \"linear\", \"tickformat\": null, \"grid\": {\"gridOn\": false}, \"visible\": true, \"fontsize\": 10.0, \"position\": \"bottom\", \"nticks\": 11, \"tickvalues\": null}, {\"scale\": \"linear\", \"tickformat\": null, \"grid\": {\"gridOn\": false}, \"visible\": true, \"fontsize\": 10.0, \"position\": \"left\", \"nticks\": 8, \"tickvalues\": null}], \"lines\": [{\"drawstyle\": \"default\", \"color\": \"#1F77B4\", \"yindex\": 1, \"coordinates\": \"data\", \"dasharray\": \"none\", \"zorder\": 2, \"alpha\": 1, \"xindex\": 0, \"linewidth\": 1.5, \"data\": \"data01\", \"id\": \"el202140020826113296\"}, {\"drawstyle\": \"default\", \"color\": \"#1F77B4\", \"yindex\": 1, \"coordinates\": \"axes\", \"dasharray\": \"none\", \"zorder\": 1000002.0, \"alpha\": 1, \"xindex\": 0, \"linewidth\": 1.5, \"data\": \"data02\", \"id\": \"el202140021270859408\"}], \"markers\": [], \"id\": \"el202140020826955600\", \"ydomain\": [56.262249999999995, 696.19275], \"collections\": [], \"xscale\": \"date\", \"bbox\": [0.125, 0.125, 0.775, 0.755]}], \"height\": 288.0, \"width\": 432.0, \"plugins\": [{\"type\": \"reset\"}, {\"enabled\": false, \"button\": true, \"type\": \"zoom\"}, {\"enabled\": false, \"button\": true, \"type\": \"boxzoom\"}], \"data\": {\"data02\": [[0.8084677419354839, 0.9379139072847682], [0.8682048984468339, 0.9379139072847682]], \"data03\": [[0.8024940262843488, 0.8942236938925681], [0.9790919952210274, 0.8942236938925681], [0.9850657108721624, 0.8942236938925681], [0.9850657108721624, 0.9034216335540839], [0.9850657108721624, 0.9678072111846947], [0.9850657108721624, 0.9770051508462105], [0.9790919952210274, 0.9770051508462105], [0.8024940262843488, 0.9770051508462105], [0.7965203106332138, 0.9770051508462105], [0.7965203106332138, 0.9678072111846947], [0.7965203106332138, 0.9034216335540839], [0.7965203106332138, 0.8942236938925681], [0.8024940262843488, 0.8942236938925681]], \"data01\": [[454.0, 182.22], [455.0, 198.08], [456.0, 135.36], [457.0, 125.02], [458.0, 143.5], [459.0, 173.95], [460.0, 188.75], [461.0, 167.44], [462.0, 158.95], [463.0, 169.53], [464.0, 113.66], [465.0, 107.59], [466.0, 92.67], [467.0, 85.35], [468.0, 90.13], [469.0, 89.31], [470.0, 105.12], [471.0, 125.83], [472.0, 135.81], [473.0, 142.43], [474.0, 163.39], [475.0, 168.21], [476.0, 185.35], [477.0, 188.5], [478.0, 199.91], [479.0, 210.732], [480.0, 192.063], [481.0, 204.62], [482.0, 235.0], [483.0, 261.09], [484.0, 256.88], [485.0, 251.53], [486.0, 257.25], [487.0, 243.1], [488.0, 283.75], [489.0, 300.98], [490.0, 311.15], [491.0, 322.56], [492.0, 339.32], [493.0, 353.21], [494.0, 348.5075], [495.0, 350.13], [496.0, 347.83], [497.0, 335.67], [498.0, 390.48], [499.0, 384.83], [500.0, 381.32], [501.0, 404.78], [502.0, 382.2], [503.0, 405.0], [504.0, 456.48], [505.0, 542.44], [506.0, 599.55], [507.0, 583.98], [508.0, 577.73], [509.0, 584.0], [510.0, 610.76], [511.0, 665.24], [512.0, 667.105], [513.0, 595.32], [514.0, 585.28], [515.0, 532.1729], [516.0, 455.49], [517.0, 441.4], [518.0, 442.66], [519.0, 442.78], [520.0, 449.735], [521.0, 396.53], [522.0, 452.53], [523.0, 487.216], [524.0, 476.75], [525.0, 522.702], [526.0, 556.07], [527.0, 561.02], [528.0, 500.6], [529.0, 526.24], [530.0, 536.74], [531.0, 590.09], [532.0, 633.0], [533.0, 92.93], [534.0, 95.6], [535.0, 102.5], [536.0, 100.75], [537.0, 108.0], [538.0, 118.93], [539.0, 110.38], [540.0, 117.16], [541.0, 128.46], [542.0, 124.43], [543.0, 125.15], [544.0, 130.28], [545.0, 125.425], [546.0, 121.3], [547.0, 112.76], [548.0, 109.95], [549.0, 119.5], [550.0, 118.3], [551.0, 105.26], [552.0, 97.34], [553.0, 96.69], [554.0, 108.99], [555.0, 93.74], [556.0, 99.86], [557.0, 95.6], [558.0, 104.21], [559.0, 106.1], [560.0, 113.05], [561.0, 113.54], [562.0, 110.52], [563.0, 115.82], [564.0, 121.35], [565.0, 136.99], [566.0, 143.66], [567.0, 143.65], [568.0, 152.76], [569.0, 144.02], [570.0, 148.85], [571.0, 164.0], [572.0, 154.12], [573.0, 169.04]]}, \"id\": \"el202140020828677072\"});\n",
       "            })\n",
       "         });\n",
       "}\n",
       "</script>"
      ],
      "text/plain": [
       "<matplotlib.figure.Figure at 0x7f5923c123d0>"
      ]
     },
     "metadata": {},
     "output_type": "display_data"
    }
   ],
   "source": [
    "%matplotlib inline\n",
    "!pip install mpld3 # install a package to let us zoom into our plots\n",
    "import mpld3\n",
    "mpld3.enable_notebook()\n",
    "\n",
    "ax = data.plot()"
   ]
  },
  {
   "cell_type": "code",
   "execution_count": null,
   "metadata": {},
   "outputs": [],
   "source": [
    "start_date"
   ]
  },
  {
   "cell_type": "markdown",
   "metadata": {},
   "source": [
    "Uh-oh! Looks like there's a problem: There's a big drop in AAPL stock in 2014! **If you don't see this, check with a facilitator**\n",
    "\n",
    "Why?!  Well, a quick Google shows they [split their stock](https://www.washingtonpost.com/news/the-switch/wp/2014/06/09/apples-stock-price-just-dropped-more-than-500-a-share-but-dont-panic/). \n",
    "\n",
    "Luckily, Quandl has accounted for that. Instead of `Close`, we'll need to use the `Adjusted Close` price (column 11) from Quandl.\n",
    "\n",
    "Modify the code below to get the **11**th column instead of the 4th."
   ]
  },
  {
   "cell_type": "code",
   "execution_count": 31,
   "metadata": {},
   "outputs": [
    {
     "data": {
      "text/plain": [
       "<matplotlib.axes._subplots.AxesSubplot at 0x7f5923c12d90>"
      ]
     },
     "execution_count": 31,
     "metadata": {},
     "output_type": "execute_result"
    },
    {
     "data": {
      "image/png": "[encoded data removed]",
      "text/html": [
       "\n",
       "\n",
       "<style>\n",
       "\n",
       "</style>\n",
       "\n",
       "<div id=\"fig_el2021400208278519841570480902\"></div>\n",
       "<script>\n",
       "function mpld3_load_lib(url, callback){\n",
       "  var s = document.createElement('script');\n",
       "  s.src = url;\n",
       "  s.async = true;\n",
       "  s.onreadystatechange = s.onload = callback;\n",
       "  s.onerror = function(){console.warn(\"failed to load library \" + url);};\n",
       "  document.getElementsByTagName(\"head\")[0].appendChild(s);\n",
       "}\n",
       "\n",
       "if(typeof(mpld3) !== \"undefined\" && mpld3._mpld3IsLoaded){\n",
       "   // already loaded: just create the figure\n",
       "   !function(mpld3){\n",
       "       \n",
       "       mpld3.draw_figure(\"fig_el2021400208278519841570480902\", {\"axes\": [{\"xlim\": [437.55, 579.45], \"yscale\": \"linear\", \"axesbg\": \"#FFFFFF\", \"texts\": [{\"v_baseline\": \"hanging\", \"h_anchor\": \"middle\", \"color\": \"#000000\", \"text\": \"Date\", \"coordinates\": \"axes\", \"zorder\": 3, \"alpha\": 1, \"fontsize\": 10.0, \"position\": [0.49999999999999994, -0.09657836644591611], \"rotation\": -0.0, \"id\": \"el202140021269813584\"}, {\"v_baseline\": \"auto\", \"h_anchor\": \"start\", \"color\": \"#000000\", \"text\": \"Adj. Close\", \"coordinates\": \"axes\", \"zorder\": 1000003.0, \"alpha\": 1, \"fontsize\": 10.0, \"position\": [0.11051373954599761, 0.9218175128771156], \"rotation\": -0.0, \"id\": \"el202140021252528592\"}], \"zoomable\": true, \"images\": [], \"xdomain\": [[2006, 5, 30, 0, 0, 0, 0], [2018, 3, 30, 0, 0, 0, 0]], \"ylim\": [2.9652424778447006, 176.9483217867693], \"paths\": [{\"edgecolor\": \"#CCCCCC\", \"facecolor\": \"#FFFFFF\", \"edgewidth\": 1.0, \"pathcodes\": [\"M\", \"L\", \"S\", \"L\", \"S\", \"L\", \"S\", \"L\", \"S\", \"Z\"], \"yindex\": 1, \"coordinates\": \"axes\", \"dasharray\": \"none\", \"zorder\": 1000000.0, \"alpha\": 0.8, \"xindex\": 0, \"data\": \"data03\", \"id\": \"el202140021252526608\"}], \"sharey\": [], \"sharex\": [], \"axesbgalpha\": null, \"axes\": [{\"scale\": \"linear\", \"tickformat\": null, \"grid\": {\"gridOn\": false}, \"visible\": true, \"fontsize\": 10.0, \"position\": \"bottom\", \"nticks\": 6, \"tickvalues\": null}, {\"scale\": \"linear\", \"tickformat\": null, \"grid\": {\"gridOn\": false}, \"visible\": true, \"fontsize\": 10.0, \"position\": \"left\", \"nticks\": 10, \"tickvalues\": null}], \"lines\": [{\"drawstyle\": \"default\", \"color\": \"#1F77B4\", \"yindex\": 1, \"coordinates\": \"data\", \"dasharray\": \"none\", \"zorder\": 2, \"alpha\": 1, \"xindex\": 0, \"linewidth\": 1.5, \"data\": \"data01\", \"id\": \"el202140021252296400\"}, {\"drawstyle\": \"default\", \"color\": \"#1F77B4\", \"yindex\": 1, \"coordinates\": \"axes\", \"dasharray\": \"none\", \"zorder\": 1000002.0, \"alpha\": 1, \"xindex\": 0, \"linewidth\": 1.5, \"data\": \"data02\", \"id\": \"el202140021252529104\"}], \"markers\": [], \"id\": \"el202140020828679568\", \"ydomain\": [2.9652424778447006, 176.9483217867693], \"collections\": [], \"xscale\": \"date\", \"bbox\": [0.125, 0.125, 0.775, 0.755]}], \"height\": 288.0, \"width\": 432.0, \"plugins\": [{\"type\": \"reset\"}, {\"enabled\": false, \"button\": true, \"type\": \"zoom\"}, {\"enabled\": false, \"button\": true, \"type\": \"boxzoom\"}], \"data\": {\"data02\": [[0.026881720430107503, 0.9379139072847682], [0.08661887694145756, 0.9379139072847682]], \"data03\": [[0.020908004778972505, 0.8942236938925681], [0.2647102747909199, 0.8942236938925681], [0.27068399044205493, 0.8942236938925681], [0.27068399044205493, 0.9034216335540839], [0.27068399044205493, 0.9678072111846947], [0.27068399044205493, 0.9770051508462105], [0.2647102747909199, 0.9770051508462105], [0.020908004778972505, 0.9770051508462105], [0.014934289127837508, 0.9770051508462105], [0.014934289127837508, 0.9678072111846947], [0.014934289127837508, 0.9034216335540839], [0.014934289127837508, 0.8942236938925681], [0.020908004778972505, 0.8942236938925681]], \"data01\": [[444.0, 11.017499874782], [445.0, 10.873564264614], [446.0, 11.940229947113], [447.0, 12.825690977525], [448.0, 15.574732617808], [449.0, 15.683840950874], [450.0, 16.932996424837], [451.0, 17.796610085849], [452.0, 19.723034011231], [453.0, 24.411222456723], [454.0, 23.417809718684], [455.0, 25.456040769822], [456.0, 17.395646600379], [457.0, 16.066812485072], [458.0, 18.441750052855], [459.0, 22.354999454314], [460.0, 24.257005731542], [461.0, 21.518373720209], [462.0, 20.427290389556], [463.0, 21.786967849899], [464.0, 14.606894153362], [465.0, 13.826814551823], [466.0, 11.909386602077], [467.0, 10.968664578475], [468.0, 11.582961200445], [469.0, 11.477579771571], [470.0, 13.509385125826], [471.0, 16.170908774569], [472.0, 17.453477872322], [473.0, 18.304240139569], [474.0, 20.997892272724], [475.0, 21.6173294522], [476.0, 23.820058343531], [477.0, 24.22487724713], [478.0, 25.691221275723], [479.0, 27.081999108977], [480.0, 24.682772406979], [481.0, 26.296521922057], [482.0, 30.200775347881], [483.0, 33.553703981184], [484.0, 33.012660303675], [485.0, 32.325110737244], [486.0, 33.060210460605], [487.0, 31.24173824285], [488.0, 36.465829808345], [489.0, 38.680124954064], [490.0, 39.98711169997], [491.0, 41.453455728563], [492.0, 43.607349323587], [493.0, 45.392407917553], [494.0, 44.788071125751], [495.0, 44.996584989589], [496.0, 44.701002932993], [497.0, 43.138273451162], [498.0, 50.182122373789], [499.0, 49.456018626063], [500.0, 49.00493470491], [501.0, 52.019871682192], [502.0, 49.118026970042], [503.0, 52.048144748475], [504.0, 58.664042258726], [505.0, 69.711100339167], [506.0, 77.050531318391], [507.0, 75.049569309172], [508.0, 74.246357198856], [509.0, 75.052139587925], [510.0, 78.491172559453], [511.0, 85.857594115654], [512.0, 86.098295836876], [513.0, 76.83353816507], [514.0, 75.896485214554], [515.0, 69.009794690466], [516.0, 59.065900168086], [517.0, 57.562728311726], [518.0, 57.727044210395], [519.0, 57.742693343602], [520.0, 59.041313847026], [521.0, 52.056549256254], [522.0, 59.40824208744], [523.0, 64.384993720396], [524.0, 63.001924723734], [525.0, 69.074424870362], [526.0, 73.914215436527], [527.0, 74.572181819196], [528.0, 66.541004275586], [529.0, 70.365411763138], [530.0, 71.76940390268], [531.0, 78.903021106928], [532.0, 85.114261733663], [533.0, 87.468686256501], [534.0, 89.98177559584], [535.0, 96.956206806577], [536.0, 95.30085693427], [537.0, 102.15873497669], [538.0, 112.98399738955], [539.0, 104.8614616317], [540.0, 111.30248998705], [541.0, 122.5157567099], [542.0, 118.67223733001], [543.0, 119.35892069317], [544.0, 124.76735316852], [545.0, 120.11778685264], [546.0, 116.16733143492], [547.0, 108.47643694077], [548.0, 105.77318412236], [549.0, 114.96039565823], [550.0, 114.29538877569], [551.0, 101.69680999602], [552.0, 94.044912454993], [553.0, 93.919781198699], [554.0, 105.86737979984], [555.0, 91.054300233386], [556.0, 97.591938528951], [557.0, 93.428693404443], [558.0, 101.84313953637], [559.0, 104.24847718874], [560.0, 111.07719459177], [561.0, 111.55864373242], [562.0, 109.15491652711], [563.0, 114.38945378366], [564.0, 119.85115020417], [565.0, 135.8803615489], [566.0, 142.49633360184], [567.0, 142.48641460326], [568.0, 152.14268890314], [569.0, 143.43800769724], [570.0, 148.24848941629], [571.0, 164.0], [572.0, 154.12], [573.0, 169.04]]}, \"id\": \"el202140020827851984\"});\n",
       "   }(mpld3);\n",
       "}else if(typeof define === \"function\" && define.amd){\n",
       "   // require.js is available: use it to load d3/mpld3\n",
       "   require.config({paths: {d3: \"https://mpld3.github.io/js/d3.v3.min\"}});\n",
       "   require([\"d3\"], function(d3){\n",
       "      window.d3 = d3;\n",
       "      mpld3_load_lib(\"https://mpld3.github.io/js/mpld3.v0.3.js\", function(){\n",
       "         \n",
       "         mpld3.draw_figure(\"fig_el2021400208278519841570480902\", {\"axes\": [{\"xlim\": [437.55, 579.45], \"yscale\": \"linear\", \"axesbg\": \"#FFFFFF\", \"texts\": [{\"v_baseline\": \"hanging\", \"h_anchor\": \"middle\", \"color\": \"#000000\", \"text\": \"Date\", \"coordinates\": \"axes\", \"zorder\": 3, \"alpha\": 1, \"fontsize\": 10.0, \"position\": [0.49999999999999994, -0.09657836644591611], \"rotation\": -0.0, \"id\": \"el202140021269813584\"}, {\"v_baseline\": \"auto\", \"h_anchor\": \"start\", \"color\": \"#000000\", \"text\": \"Adj. Close\", \"coordinates\": \"axes\", \"zorder\": 1000003.0, \"alpha\": 1, \"fontsize\": 10.0, \"position\": [0.11051373954599761, 0.9218175128771156], \"rotation\": -0.0, \"id\": \"el202140021252528592\"}], \"zoomable\": true, \"images\": [], \"xdomain\": [[2006, 5, 30, 0, 0, 0, 0], [2018, 3, 30, 0, 0, 0, 0]], \"ylim\": [2.9652424778447006, 176.9483217867693], \"paths\": [{\"edgecolor\": \"#CCCCCC\", \"facecolor\": \"#FFFFFF\", \"edgewidth\": 1.0, \"pathcodes\": [\"M\", \"L\", \"S\", \"L\", \"S\", \"L\", \"S\", \"L\", \"S\", \"Z\"], \"yindex\": 1, \"coordinates\": \"axes\", \"dasharray\": \"none\", \"zorder\": 1000000.0, \"alpha\": 0.8, \"xindex\": 0, \"data\": \"data03\", \"id\": \"el202140021252526608\"}], \"sharey\": [], \"sharex\": [], \"axesbgalpha\": null, \"axes\": [{\"scale\": \"linear\", \"tickformat\": null, \"grid\": {\"gridOn\": false}, \"visible\": true, \"fontsize\": 10.0, \"position\": \"bottom\", \"nticks\": 6, \"tickvalues\": null}, {\"scale\": \"linear\", \"tickformat\": null, \"grid\": {\"gridOn\": false}, \"visible\": true, \"fontsize\": 10.0, \"position\": \"left\", \"nticks\": 10, \"tickvalues\": null}], \"lines\": [{\"drawstyle\": \"default\", \"color\": \"#1F77B4\", \"yindex\": 1, \"coordinates\": \"data\", \"dasharray\": \"none\", \"zorder\": 2, \"alpha\": 1, \"xindex\": 0, \"linewidth\": 1.5, \"data\": \"data01\", \"id\": \"el202140021252296400\"}, {\"drawstyle\": \"default\", \"color\": \"#1F77B4\", \"yindex\": 1, \"coordinates\": \"axes\", \"dasharray\": \"none\", \"zorder\": 1000002.0, \"alpha\": 1, \"xindex\": 0, \"linewidth\": 1.5, \"data\": \"data02\", \"id\": \"el202140021252529104\"}], \"markers\": [], \"id\": \"el202140020828679568\", \"ydomain\": [2.9652424778447006, 176.9483217867693], \"collections\": [], \"xscale\": \"date\", \"bbox\": [0.125, 0.125, 0.775, 0.755]}], \"height\": 288.0, \"width\": 432.0, \"plugins\": [{\"type\": \"reset\"}, {\"enabled\": false, \"button\": true, \"type\": \"zoom\"}, {\"enabled\": false, \"button\": true, \"type\": \"boxzoom\"}], \"data\": {\"data02\": [[0.026881720430107503, 0.9379139072847682], [0.08661887694145756, 0.9379139072847682]], \"data03\": [[0.020908004778972505, 0.8942236938925681], [0.2647102747909199, 0.8942236938925681], [0.27068399044205493, 0.8942236938925681], [0.27068399044205493, 0.9034216335540839], [0.27068399044205493, 0.9678072111846947], [0.27068399044205493, 0.9770051508462105], [0.2647102747909199, 0.9770051508462105], [0.020908004778972505, 0.9770051508462105], [0.014934289127837508, 0.9770051508462105], [0.014934289127837508, 0.9678072111846947], [0.014934289127837508, 0.9034216335540839], [0.014934289127837508, 0.8942236938925681], [0.020908004778972505, 0.8942236938925681]], \"data01\": [[444.0, 11.017499874782], [445.0, 10.873564264614], [446.0, 11.940229947113], [447.0, 12.825690977525], [448.0, 15.574732617808], [449.0, 15.683840950874], [450.0, 16.932996424837], [451.0, 17.796610085849], [452.0, 19.723034011231], [453.0, 24.411222456723], [454.0, 23.417809718684], [455.0, 25.456040769822], [456.0, 17.395646600379], [457.0, 16.066812485072], [458.0, 18.441750052855], [459.0, 22.354999454314], [460.0, 24.257005731542], [461.0, 21.518373720209], [462.0, 20.427290389556], [463.0, 21.786967849899], [464.0, 14.606894153362], [465.0, 13.826814551823], [466.0, 11.909386602077], [467.0, 10.968664578475], [468.0, 11.582961200445], [469.0, 11.477579771571], [470.0, 13.509385125826], [471.0, 16.170908774569], [472.0, 17.453477872322], [473.0, 18.304240139569], [474.0, 20.997892272724], [475.0, 21.6173294522], [476.0, 23.820058343531], [477.0, 24.22487724713], [478.0, 25.691221275723], [479.0, 27.081999108977], [480.0, 24.682772406979], [481.0, 26.296521922057], [482.0, 30.200775347881], [483.0, 33.553703981184], [484.0, 33.012660303675], [485.0, 32.325110737244], [486.0, 33.060210460605], [487.0, 31.24173824285], [488.0, 36.465829808345], [489.0, 38.680124954064], [490.0, 39.98711169997], [491.0, 41.453455728563], [492.0, 43.607349323587], [493.0, 45.392407917553], [494.0, 44.788071125751], [495.0, 44.996584989589], [496.0, 44.701002932993], [497.0, 43.138273451162], [498.0, 50.182122373789], [499.0, 49.456018626063], [500.0, 49.00493470491], [501.0, 52.019871682192], [502.0, 49.118026970042], [503.0, 52.048144748475], [504.0, 58.664042258726], [505.0, 69.711100339167], [506.0, 77.050531318391], [507.0, 75.049569309172], [508.0, 74.246357198856], [509.0, 75.052139587925], [510.0, 78.491172559453], [511.0, 85.857594115654], [512.0, 86.098295836876], [513.0, 76.83353816507], [514.0, 75.896485214554], [515.0, 69.009794690466], [516.0, 59.065900168086], [517.0, 57.562728311726], [518.0, 57.727044210395], [519.0, 57.742693343602], [520.0, 59.041313847026], [521.0, 52.056549256254], [522.0, 59.40824208744], [523.0, 64.384993720396], [524.0, 63.001924723734], [525.0, 69.074424870362], [526.0, 73.914215436527], [527.0, 74.572181819196], [528.0, 66.541004275586], [529.0, 70.365411763138], [530.0, 71.76940390268], [531.0, 78.903021106928], [532.0, 85.114261733663], [533.0, 87.468686256501], [534.0, 89.98177559584], [535.0, 96.956206806577], [536.0, 95.30085693427], [537.0, 102.15873497669], [538.0, 112.98399738955], [539.0, 104.8614616317], [540.0, 111.30248998705], [541.0, 122.5157567099], [542.0, 118.67223733001], [543.0, 119.35892069317], [544.0, 124.76735316852], [545.0, 120.11778685264], [546.0, 116.16733143492], [547.0, 108.47643694077], [548.0, 105.77318412236], [549.0, 114.96039565823], [550.0, 114.29538877569], [551.0, 101.69680999602], [552.0, 94.044912454993], [553.0, 93.919781198699], [554.0, 105.86737979984], [555.0, 91.054300233386], [556.0, 97.591938528951], [557.0, 93.428693404443], [558.0, 101.84313953637], [559.0, 104.24847718874], [560.0, 111.07719459177], [561.0, 111.55864373242], [562.0, 109.15491652711], [563.0, 114.38945378366], [564.0, 119.85115020417], [565.0, 135.8803615489], [566.0, 142.49633360184], [567.0, 142.48641460326], [568.0, 152.14268890314], [569.0, 143.43800769724], [570.0, 148.24848941629], [571.0, 164.0], [572.0, 154.12], [573.0, 169.04]]}, \"id\": \"el202140020827851984\"});\n",
       "      });\n",
       "    });\n",
       "}else{\n",
       "    // require.js not available: dynamically load d3 & mpld3\n",
       "    mpld3_load_lib(\"https://mpld3.github.io/js/d3.v3.min.js\", function(){\n",
       "         mpld3_load_lib(\"https://mpld3.github.io/js/mpld3.v0.3.js\", function(){\n",
       "                 \n",
       "                 mpld3.draw_figure(\"fig_el2021400208278519841570480902\", {\"axes\": [{\"xlim\": [437.55, 579.45], \"yscale\": \"linear\", \"axesbg\": \"#FFFFFF\", \"texts\": [{\"v_baseline\": \"hanging\", \"h_anchor\": \"middle\", \"color\": \"#000000\", \"text\": \"Date\", \"coordinates\": \"axes\", \"zorder\": 3, \"alpha\": 1, \"fontsize\": 10.0, \"position\": [0.49999999999999994, -0.09657836644591611], \"rotation\": -0.0, \"id\": \"el202140021269813584\"}, {\"v_baseline\": \"auto\", \"h_anchor\": \"start\", \"color\": \"#000000\", \"text\": \"Adj. Close\", \"coordinates\": \"axes\", \"zorder\": 1000003.0, \"alpha\": 1, \"fontsize\": 10.0, \"position\": [0.11051373954599761, 0.9218175128771156], \"rotation\": -0.0, \"id\": \"el202140021252528592\"}], \"zoomable\": true, \"images\": [], \"xdomain\": [[2006, 5, 30, 0, 0, 0, 0], [2018, 3, 30, 0, 0, 0, 0]], \"ylim\": [2.9652424778447006, 176.9483217867693], \"paths\": [{\"edgecolor\": \"#CCCCCC\", \"facecolor\": \"#FFFFFF\", \"edgewidth\": 1.0, \"pathcodes\": [\"M\", \"L\", \"S\", \"L\", \"S\", \"L\", \"S\", \"L\", \"S\", \"Z\"], \"yindex\": 1, \"coordinates\": \"axes\", \"dasharray\": \"none\", \"zorder\": 1000000.0, \"alpha\": 0.8, \"xindex\": 0, \"data\": \"data03\", \"id\": \"el202140021252526608\"}], \"sharey\": [], \"sharex\": [], \"axesbgalpha\": null, \"axes\": [{\"scale\": \"linear\", \"tickformat\": null, \"grid\": {\"gridOn\": false}, \"visible\": true, \"fontsize\": 10.0, \"position\": \"bottom\", \"nticks\": 6, \"tickvalues\": null}, {\"scale\": \"linear\", \"tickformat\": null, \"grid\": {\"gridOn\": false}, \"visible\": true, \"fontsize\": 10.0, \"position\": \"left\", \"nticks\": 10, \"tickvalues\": null}], \"lines\": [{\"drawstyle\": \"default\", \"color\": \"#1F77B4\", \"yindex\": 1, \"coordinates\": \"data\", \"dasharray\": \"none\", \"zorder\": 2, \"alpha\": 1, \"xindex\": 0, \"linewidth\": 1.5, \"data\": \"data01\", \"id\": \"el202140021252296400\"}, {\"drawstyle\": \"default\", \"color\": \"#1F77B4\", \"yindex\": 1, \"coordinates\": \"axes\", \"dasharray\": \"none\", \"zorder\": 1000002.0, \"alpha\": 1, \"xindex\": 0, \"linewidth\": 1.5, \"data\": \"data02\", \"id\": \"el202140021252529104\"}], \"markers\": [], \"id\": \"el202140020828679568\", \"ydomain\": [2.9652424778447006, 176.9483217867693], \"collections\": [], \"xscale\": \"date\", \"bbox\": [0.125, 0.125, 0.775, 0.755]}], \"height\": 288.0, \"width\": 432.0, \"plugins\": [{\"type\": \"reset\"}, {\"enabled\": false, \"button\": true, \"type\": \"zoom\"}, {\"enabled\": false, \"button\": true, \"type\": \"boxzoom\"}], \"data\": {\"data02\": [[0.026881720430107503, 0.9379139072847682], [0.08661887694145756, 0.9379139072847682]], \"data03\": [[0.020908004778972505, 0.8942236938925681], [0.2647102747909199, 0.8942236938925681], [0.27068399044205493, 0.8942236938925681], [0.27068399044205493, 0.9034216335540839], [0.27068399044205493, 0.9678072111846947], [0.27068399044205493, 0.9770051508462105], [0.2647102747909199, 0.9770051508462105], [0.020908004778972505, 0.9770051508462105], [0.014934289127837508, 0.9770051508462105], [0.014934289127837508, 0.9678072111846947], [0.014934289127837508, 0.9034216335540839], [0.014934289127837508, 0.8942236938925681], [0.020908004778972505, 0.8942236938925681]], \"data01\": [[444.0, 11.017499874782], [445.0, 10.873564264614], [446.0, 11.940229947113], [447.0, 12.825690977525], [448.0, 15.574732617808], [449.0, 15.683840950874], [450.0, 16.932996424837], [451.0, 17.796610085849], [452.0, 19.723034011231], [453.0, 24.411222456723], [454.0, 23.417809718684], [455.0, 25.456040769822], [456.0, 17.395646600379], [457.0, 16.066812485072], [458.0, 18.441750052855], [459.0, 22.354999454314], [460.0, 24.257005731542], [461.0, 21.518373720209], [462.0, 20.427290389556], [463.0, 21.786967849899], [464.0, 14.606894153362], [465.0, 13.826814551823], [466.0, 11.909386602077], [467.0, 10.968664578475], [468.0, 11.582961200445], [469.0, 11.477579771571], [470.0, 13.509385125826], [471.0, 16.170908774569], [472.0, 17.453477872322], [473.0, 18.304240139569], [474.0, 20.997892272724], [475.0, 21.6173294522], [476.0, 23.820058343531], [477.0, 24.22487724713], [478.0, 25.691221275723], [479.0, 27.081999108977], [480.0, 24.682772406979], [481.0, 26.296521922057], [482.0, 30.200775347881], [483.0, 33.553703981184], [484.0, 33.012660303675], [485.0, 32.325110737244], [486.0, 33.060210460605], [487.0, 31.24173824285], [488.0, 36.465829808345], [489.0, 38.680124954064], [490.0, 39.98711169997], [491.0, 41.453455728563], [492.0, 43.607349323587], [493.0, 45.392407917553], [494.0, 44.788071125751], [495.0, 44.996584989589], [496.0, 44.701002932993], [497.0, 43.138273451162], [498.0, 50.182122373789], [499.0, 49.456018626063], [500.0, 49.00493470491], [501.0, 52.019871682192], [502.0, 49.118026970042], [503.0, 52.048144748475], [504.0, 58.664042258726], [505.0, 69.711100339167], [506.0, 77.050531318391], [507.0, 75.049569309172], [508.0, 74.246357198856], [509.0, 75.052139587925], [510.0, 78.491172559453], [511.0, 85.857594115654], [512.0, 86.098295836876], [513.0, 76.83353816507], [514.0, 75.896485214554], [515.0, 69.009794690466], [516.0, 59.065900168086], [517.0, 57.562728311726], [518.0, 57.727044210395], [519.0, 57.742693343602], [520.0, 59.041313847026], [521.0, 52.056549256254], [522.0, 59.40824208744], [523.0, 64.384993720396], [524.0, 63.001924723734], [525.0, 69.074424870362], [526.0, 73.914215436527], [527.0, 74.572181819196], [528.0, 66.541004275586], [529.0, 70.365411763138], [530.0, 71.76940390268], [531.0, 78.903021106928], [532.0, 85.114261733663], [533.0, 87.468686256501], [534.0, 89.98177559584], [535.0, 96.956206806577], [536.0, 95.30085693427], [537.0, 102.15873497669], [538.0, 112.98399738955], [539.0, 104.8614616317], [540.0, 111.30248998705], [541.0, 122.5157567099], [542.0, 118.67223733001], [543.0, 119.35892069317], [544.0, 124.76735316852], [545.0, 120.11778685264], [546.0, 116.16733143492], [547.0, 108.47643694077], [548.0, 105.77318412236], [549.0, 114.96039565823], [550.0, 114.29538877569], [551.0, 101.69680999602], [552.0, 94.044912454993], [553.0, 93.919781198699], [554.0, 105.86737979984], [555.0, 91.054300233386], [556.0, 97.591938528951], [557.0, 93.428693404443], [558.0, 101.84313953637], [559.0, 104.24847718874], [560.0, 111.07719459177], [561.0, 111.55864373242], [562.0, 109.15491652711], [563.0, 114.38945378366], [564.0, 119.85115020417], [565.0, 135.8803615489], [566.0, 142.49633360184], [567.0, 142.48641460326], [568.0, 152.14268890314], [569.0, 143.43800769724], [570.0, 148.24848941629], [571.0, 164.0], [572.0, 154.12], [573.0, 169.04]]}, \"id\": \"el202140020827851984\"});\n",
       "            })\n",
       "         });\n",
       "}\n",
       "</script>"
      ],
      "text/plain": [
       "<matplotlib.figure.Figure at 0x7f5923b48cd0>"
      ]
     },
     "metadata": {},
     "output_type": "display_data"
    }
   ],
   "source": [
    "data = quandl.get(\"WIKI/AAPL.11\", collapse='monthly', start_date = '2007-01-01')\n",
    "\n",
    "# Now plot the data:\n",
    "data.plot()"
   ]
  },
  {
   "cell_type": "markdown",
   "metadata": {},
   "source": [
    "Great! Let's now focus on the full portfolio.\n",
    "\n",
    "\n",
    "## <font color='green'>You're now finished with this section! Let your facilitators know, and have a break.</font>\n",
    "\n",
    "![done](https://media.giphy.com/media/3o7TKLpxzkbvjwEgSc/giphy.gif)"
   ]
  },
  {
   "cell_type": "markdown",
   "metadata": {},
   "source": [
    "## 2. Sourcing more Data\n",
    "\n",
    "Now that we have access to stock data, let's pull in our list of Warren's 2003 aquisitions.\n",
    "\n",
    "First, we need to bring in the cleaned CSV file we exported from Open Refine, and store it as a variable. Let's call it `buffett`.\n",
    "\n",
    "Now let's take the output of the Open Refine scrubbing step and replace **`your_clean_csv.csv`** with that output:"
   ]
  },
  {
   "cell_type": "code",
   "execution_count": 33,
   "metadata": {},
   "outputs": [
    {
     "data": {
      "text/html": [
       "<div>\n",
       "<style scoped>\n",
       "    .dataframe tbody tr th:only-of-type {\n",
       "        vertical-align: middle;\n",
       "    }\n",
       "\n",
       "    .dataframe tbody tr th {\n",
       "        vertical-align: top;\n",
       "    }\n",
       "\n",
       "    .dataframe thead th {\n",
       "        text-align: right;\n",
       "    }\n",
       "</style>\n",
       "<table border=\"1\" class=\"dataframe\">\n",
       "  <thead>\n",
       "    <tr style=\"text-align: right;\">\n",
       "      <th></th>\n",
       "      <th>COMPANY 1</th>\n",
       "      <th>COMPANY 2</th>\n",
       "      <th># OF SHARES</th>\n",
       "      <th>PRICE (8/24/2017)</th>\n",
       "      <th>CITY</th>\n",
       "      <th>PURCHASE DATE</th>\n",
       "      <th>REGION</th>\n",
       "      <th>CEO</th>\n",
       "      <th>EMPLOYEES</th>\n",
       "    </tr>\n",
       "  </thead>\n",
       "  <tbody>\n",
       "    <tr>\n",
       "      <th>0</th>\n",
       "      <td>Kraft Heinz</td>\n",
       "      <td>KHC</td>\n",
       "      <td>325634818</td>\n",
       "      <td>$82.80</td>\n",
       "      <td>Chicago, IL</td>\n",
       "      <td>27/9/05</td>\n",
       "      <td>Central</td>\n",
       "      <td>Bernard Hees (2015-)</td>\n",
       "      <td>41,000 (2017)</td>\n",
       "    </tr>\n",
       "    <tr>\n",
       "      <th>1</th>\n",
       "      <td>Wells Fargo</td>\n",
       "      <td>WFC</td>\n",
       "      <td>467987270</td>\n",
       "      <td>$52.16</td>\n",
       "      <td>San Francisco, CA</td>\n",
       "      <td>7/7/02</td>\n",
       "      <td>West</td>\n",
       "      <td>Timothy J. Sloan (Oct 12, 2016-)</td>\n",
       "      <td>NaN</td>\n",
       "    </tr>\n",
       "    <tr>\n",
       "      <th>2</th>\n",
       "      <td>Apple Inc.</td>\n",
       "      <td>AAPL</td>\n",
       "      <td>130191960</td>\n",
       "      <td>$159.27</td>\n",
       "      <td>Cupertino, CA</td>\n",
       "      <td>23/9/06</td>\n",
       "      <td>West</td>\n",
       "      <td>Tim Cook</td>\n",
       "      <td>NaN</td>\n",
       "    </tr>\n",
       "    <tr>\n",
       "      <th>3</th>\n",
       "      <td>The Coca Cola Company</td>\n",
       "      <td>KO</td>\n",
       "      <td>400000000</td>\n",
       "      <td>$45.41</td>\n",
       "      <td>Atlanta, GA</td>\n",
       "      <td>10/12/03</td>\n",
       "      <td>Southeast</td>\n",
       "      <td>James Quincey (May 1, 2017-)</td>\n",
       "      <td>NaN</td>\n",
       "    </tr>\n",
       "    <tr>\n",
       "      <th>4</th>\n",
       "      <td>American Express Co</td>\n",
       "      <td>AXP</td>\n",
       "      <td>151610700</td>\n",
       "      <td>$85.36</td>\n",
       "      <td>New York City</td>\n",
       "      <td>2/6/13</td>\n",
       "      <td>Northeast</td>\n",
       "      <td>Kenneth I. Chenault (Jan 2001-)</td>\n",
       "      <td>NaN</td>\n",
       "    </tr>\n",
       "  </tbody>\n",
       "</table>\n",
       "</div>"
      ],
      "text/plain": [
       "                COMPANY 1 COMPANY 2  # OF SHARES PRICE (8/24/2017)  \\\n",
       "0            Kraft Heinz        KHC    325634818           $82.80    \n",
       "1            Wells Fargo        WFC    467987270           $52.16    \n",
       "2             Apple Inc.       AAPL    130191960          $159.27    \n",
       "3  The Coca Cola Company         KO    400000000           $45.41    \n",
       "4    American Express Co        AXP    151610700           $85.36    \n",
       "\n",
       "                CITY PURCHASE DATE     REGION  \\\n",
       "0        Chicago, IL       27/9/05    Central   \n",
       "1  San Francisco, CA        7/7/02       West   \n",
       "2      Cupertino, CA       23/9/06       West   \n",
       "3        Atlanta, GA      10/12/03  Southeast   \n",
       "4      New York City        2/6/13  Northeast   \n",
       "\n",
       "                                CEO      EMPLOYEES  \n",
       "0              Bernard Hees (2015-)  41,000 (2017)  \n",
       "1  Timothy J. Sloan (Oct 12, 2016-)            NaN  \n",
       "2                          Tim Cook            NaN  \n",
       "3      James Quincey (May 1, 2017-)            NaN  \n",
       "4   Kenneth I. Chenault (Jan 2001-)            NaN  "
      ]
     },
     "execution_count": 33,
     "metadata": {},
     "output_type": "execute_result"
    }
   ],
   "source": [
    "from pandas import read_csv\n",
    "buffett = read_csv('~/Cleaned WB Data 2.csv')\n",
    "buffett.head(5)"
   ]
  },
  {
   "cell_type": "markdown",
   "metadata": {},
   "source": [
    "Next we want to choose some of those stocks for our analysis. We could either type out the ticker symbol (e.g. `MSFT`) by hand, or we could refer to the `buffett` variable in order to select the ticker symbols. Let's choose the first 3 stocks from `buffett`. Replace `buffett['TICKER'][0:0]` with `buffett['TICKER']`**`[0:3]`**. If your column is called something different (like `Ticker`) then update accordingly:"
   ]
  },
  {
   "cell_type": "code",
   "execution_count": 34,
   "metadata": {},
   "outputs": [
    {
     "data": {
      "text/plain": [
       "['WIKI/KHC.11', 'WIKI/WFC.11', 'WIKI/AAPL.11']"
      ]
     },
     "execution_count": 34,
     "metadata": {},
     "output_type": "execute_result"
    }
   ],
   "source": [
    "symbols = [ 'WIKI/%s.11' % ticker for ticker in buffett['COMPANY 2'][0:3] ]\n",
    "symbols"
   ]
  },
  {
   "cell_type": "markdown",
   "metadata": {},
   "source": [
    "We can now load in the symbol data from quandl.\n",
    "\n",
    "Let's save our progress by pulling this in to a new dataframe, `data2`. This means that if we run in to any problems with `data2`, we'll always have our original `data` to fall back on:"
   ]
  },
  {
   "cell_type": "code",
   "execution_count": 35,
   "metadata": {},
   "outputs": [
    {
     "data": {
      "text/html": [
       "<div>\n",
       "<style scoped>\n",
       "    .dataframe tbody tr th:only-of-type {\n",
       "        vertical-align: middle;\n",
       "    }\n",
       "\n",
       "    .dataframe tbody tr th {\n",
       "        vertical-align: top;\n",
       "    }\n",
       "\n",
       "    .dataframe thead th {\n",
       "        text-align: right;\n",
       "    }\n",
       "</style>\n",
       "<table border=\"1\" class=\"dataframe\">\n",
       "  <thead>\n",
       "    <tr style=\"text-align: right;\">\n",
       "      <th></th>\n",
       "      <th>WIKI/KHC - Adj. Close</th>\n",
       "      <th>WIKI/WFC - Adj. Close</th>\n",
       "      <th>WIKI/AAPL - Adj. Close</th>\n",
       "    </tr>\n",
       "    <tr>\n",
       "      <th>Date</th>\n",
       "      <th></th>\n",
       "      <th></th>\n",
       "      <th></th>\n",
       "    </tr>\n",
       "  </thead>\n",
       "  <tbody>\n",
       "    <tr>\n",
       "      <th>2007-11-30</th>\n",
       "      <td>NaN</td>\n",
       "      <td>25.166378</td>\n",
       "      <td>23.417810</td>\n",
       "    </tr>\n",
       "    <tr>\n",
       "      <th>2007-12-31</th>\n",
       "      <td>NaN</td>\n",
       "      <td>23.428090</td>\n",
       "      <td>25.456041</td>\n",
       "    </tr>\n",
       "    <tr>\n",
       "      <th>2008-01-31</th>\n",
       "      <td>NaN</td>\n",
       "      <td>26.446814</td>\n",
       "      <td>17.395647</td>\n",
       "    </tr>\n",
       "    <tr>\n",
       "      <th>2008-02-29</th>\n",
       "      <td>NaN</td>\n",
       "      <td>22.916878</td>\n",
       "      <td>16.066812</td>\n",
       "    </tr>\n",
       "    <tr>\n",
       "      <th>2008-03-31</th>\n",
       "      <td>NaN</td>\n",
       "      <td>22.814956</td>\n",
       "      <td>18.441750</td>\n",
       "    </tr>\n",
       "  </tbody>\n",
       "</table>\n",
       "</div>"
      ],
      "text/plain": [
       "            WIKI/KHC - Adj. Close  WIKI/WFC - Adj. Close  \\\n",
       "Date                                                       \n",
       "2007-11-30                    NaN              25.166378   \n",
       "2007-12-31                    NaN              23.428090   \n",
       "2008-01-31                    NaN              26.446814   \n",
       "2008-02-29                    NaN              22.916878   \n",
       "2008-03-31                    NaN              22.814956   \n",
       "\n",
       "            WIKI/AAPL - Adj. Close  \n",
       "Date                                \n",
       "2007-11-30               23.417810  \n",
       "2007-12-31               25.456041  \n",
       "2008-01-31               17.395647  \n",
       "2008-02-29               16.066812  \n",
       "2008-03-31               18.441750  "
      ]
     },
     "execution_count": 35,
     "metadata": {},
     "output_type": "execute_result"
    }
   ],
   "source": [
    "data2 = quandl.get(symbols, rows=121, collapse='monthly', start_date=start_date)\n",
    "data2.head(5)"
   ]
  },
  {
   "cell_type": "markdown",
   "metadata": {},
   "source": [
    "You might see `NaN` (\"Not a Number\") where you'd expect to see numbers. That just means we have some missing data; we won't worry too much about that at this point. \n",
    "\n",
    "Let's have a look at the end of the data. To do this we look at the \"tail\". Type **`data2.tail(5)`** below and run the cell:"
   ]
  },
  {
   "cell_type": "code",
   "execution_count": 36,
   "metadata": {},
   "outputs": [
    {
     "data": {
      "text/html": [
       "<div>\n",
       "<style scoped>\n",
       "    .dataframe tbody tr th:only-of-type {\n",
       "        vertical-align: middle;\n",
       "    }\n",
       "\n",
       "    .dataframe tbody tr th {\n",
       "        vertical-align: top;\n",
       "    }\n",
       "\n",
       "    .dataframe thead th {\n",
       "        text-align: right;\n",
       "    }\n",
       "</style>\n",
       "<table border=\"1\" class=\"dataframe\">\n",
       "  <thead>\n",
       "    <tr style=\"text-align: right;\">\n",
       "      <th></th>\n",
       "      <th>WIKI/KHC - Adj. Close</th>\n",
       "      <th>WIKI/WFC - Adj. Close</th>\n",
       "      <th>WIKI/AAPL - Adj. Close</th>\n",
       "    </tr>\n",
       "    <tr>\n",
       "      <th>Date</th>\n",
       "      <th></th>\n",
       "      <th></th>\n",
       "      <th></th>\n",
       "    </tr>\n",
       "  </thead>\n",
       "  <tbody>\n",
       "    <tr>\n",
       "      <th>2017-06-30</th>\n",
       "      <td>85.005796</td>\n",
       "      <td>55.009891</td>\n",
       "      <td>143.438008</td>\n",
       "    </tr>\n",
       "    <tr>\n",
       "      <th>2017-07-31</th>\n",
       "      <td>86.832597</td>\n",
       "      <td>53.550505</td>\n",
       "      <td>148.248489</td>\n",
       "    </tr>\n",
       "    <tr>\n",
       "      <th>2017-08-31</th>\n",
       "      <td>80.750000</td>\n",
       "      <td>51.070000</td>\n",
       "      <td>164.000000</td>\n",
       "    </tr>\n",
       "    <tr>\n",
       "      <th>2017-09-30</th>\n",
       "      <td>77.550000</td>\n",
       "      <td>55.150000</td>\n",
       "      <td>154.120000</td>\n",
       "    </tr>\n",
       "    <tr>\n",
       "      <th>2017-10-31</th>\n",
       "      <td>77.330000</td>\n",
       "      <td>56.140000</td>\n",
       "      <td>169.040000</td>\n",
       "    </tr>\n",
       "  </tbody>\n",
       "</table>\n",
       "</div>"
      ],
      "text/plain": [
       "            WIKI/KHC - Adj. Close  WIKI/WFC - Adj. Close  \\\n",
       "Date                                                       \n",
       "2017-06-30              85.005796              55.009891   \n",
       "2017-07-31              86.832597              53.550505   \n",
       "2017-08-31              80.750000              51.070000   \n",
       "2017-09-30              77.550000              55.150000   \n",
       "2017-10-31              77.330000              56.140000   \n",
       "\n",
       "            WIKI/AAPL - Adj. Close  \n",
       "Date                                \n",
       "2017-06-30              143.438008  \n",
       "2017-07-31              148.248489  \n",
       "2017-08-31              164.000000  \n",
       "2017-09-30              154.120000  \n",
       "2017-10-31              169.040000  "
      ]
     },
     "execution_count": 36,
     "metadata": {},
     "output_type": "execute_result"
    }
   ],
   "source": [
    "data2.tail(5)"
   ]
  },
  {
   "cell_type": "markdown",
   "metadata": {},
   "source": [
    "Let's clean up the column name to just their symbol name by removing `WIKI/` and ` - Close` from each column name.\n",
    "\n",
    "We can iterate over the columns using the `for col in data.columns` syntax. To look at the final 5 rows of our dataframe, **replace `#TODO` with `data2.tail(5)`**:"
   ]
  },
  {
   "cell_type": "code",
   "execution_count": 37,
   "metadata": {},
   "outputs": [
    {
     "data": {
      "text/html": [
       "<div>\n",
       "<style scoped>\n",
       "    .dataframe tbody tr th:only-of-type {\n",
       "        vertical-align: middle;\n",
       "    }\n",
       "\n",
       "    .dataframe tbody tr th {\n",
       "        vertical-align: top;\n",
       "    }\n",
       "\n",
       "    .dataframe thead th {\n",
       "        text-align: right;\n",
       "    }\n",
       "</style>\n",
       "<table border=\"1\" class=\"dataframe\">\n",
       "  <thead>\n",
       "    <tr style=\"text-align: right;\">\n",
       "      <th></th>\n",
       "      <th>KHC</th>\n",
       "      <th>WFC</th>\n",
       "      <th>AAPL</th>\n",
       "    </tr>\n",
       "    <tr>\n",
       "      <th>Date</th>\n",
       "      <th></th>\n",
       "      <th></th>\n",
       "      <th></th>\n",
       "    </tr>\n",
       "  </thead>\n",
       "  <tbody>\n",
       "    <tr>\n",
       "      <th>2017-06-30</th>\n",
       "      <td>85.005796</td>\n",
       "      <td>55.009891</td>\n",
       "      <td>143.438008</td>\n",
       "    </tr>\n",
       "    <tr>\n",
       "      <th>2017-07-31</th>\n",
       "      <td>86.832597</td>\n",
       "      <td>53.550505</td>\n",
       "      <td>148.248489</td>\n",
       "    </tr>\n",
       "    <tr>\n",
       "      <th>2017-08-31</th>\n",
       "      <td>80.750000</td>\n",
       "      <td>51.070000</td>\n",
       "      <td>164.000000</td>\n",
       "    </tr>\n",
       "    <tr>\n",
       "      <th>2017-09-30</th>\n",
       "      <td>77.550000</td>\n",
       "      <td>55.150000</td>\n",
       "      <td>154.120000</td>\n",
       "    </tr>\n",
       "    <tr>\n",
       "      <th>2017-10-31</th>\n",
       "      <td>77.330000</td>\n",
       "      <td>56.140000</td>\n",
       "      <td>169.040000</td>\n",
       "    </tr>\n",
       "  </tbody>\n",
       "</table>\n",
       "</div>"
      ],
      "text/plain": [
       "                  KHC        WFC        AAPL\n",
       "Date                                        \n",
       "2017-06-30  85.005796  55.009891  143.438008\n",
       "2017-07-31  86.832597  53.550505  148.248489\n",
       "2017-08-31  80.750000  51.070000  164.000000\n",
       "2017-09-30  77.550000  55.150000  154.120000\n",
       "2017-10-31  77.330000  56.140000  169.040000"
      ]
     },
     "execution_count": 37,
     "metadata": {},
     "output_type": "execute_result"
    }
   ],
   "source": [
    "data2.columns = [col.replace(' - Adj. Close','').replace('WIKI/','') for col in data2.columns]\n",
    "data2.tail(5)"
   ]
  },
  {
   "cell_type": "markdown",
   "metadata": {},
   "source": [
    "Let's have another quick look at the data, to make sure everything looks good.\n",
    "\n",
    "Add the code to plot `data2` (hint: you've used similar code above already for `data`):"
   ]
  },
  {
   "cell_type": "code",
   "execution_count": 38,
   "metadata": {},
   "outputs": [
    {
     "data": {
      "text/plain": [
       "<matplotlib.axes._subplots.AxesSubplot at 0x7f592752ba90>"
      ]
     },
     "execution_count": 38,
     "metadata": {},
     "output_type": "execute_result"
    },
    {
     "data": {
      "image/png": "[encoded data removed]",
      "text/html": [
       "\n",
       "\n",
       "<style>\n",
       "\n",
       "</style>\n",
       "\n",
       "<div id=\"fig_el2021400212518828324071503068\"></div>\n",
       "<script>\n",
       "function mpld3_load_lib(url, callback){\n",
       "  var s = document.createElement('script');\n",
       "  s.src = url;\n",
       "  s.async = true;\n",
       "  s.onreadystatechange = s.onload = callback;\n",
       "  s.onerror = function(){console.warn(\"failed to load library \" + url);};\n",
       "  document.getElementsByTagName(\"head\")[0].appendChild(s);\n",
       "}\n",
       "\n",
       "if(typeof(mpld3) !== \"undefined\" && mpld3._mpld3IsLoaded){\n",
       "   // already loaded: just create the figure\n",
       "   !function(mpld3){\n",
       "       \n",
       "       mpld3.draw_figure(\"fig_el2021400212518828324071503068\", {\"axes\": [{\"xlim\": [448.05, 578.95], \"yscale\": \"linear\", \"axesbg\": \"#FFFFFF\", \"texts\": [{\"v_baseline\": \"hanging\", \"h_anchor\": \"middle\", \"color\": \"#000000\", \"text\": \"Date\", \"coordinates\": \"axes\", \"zorder\": 3, \"alpha\": 1, \"fontsize\": 10.0, \"position\": [0.49999999999999994, -0.09657836644591611], \"rotation\": -0.0, \"id\": \"el202140020967314704\"}, {\"v_baseline\": \"auto\", \"h_anchor\": \"start\", \"color\": \"#000000\", \"text\": \"KHC\", \"coordinates\": \"axes\", \"zorder\": 1000003.0, \"alpha\": 1, \"fontsize\": 10.0, \"position\": [0.11051373954599761, 0.9218175128771156], \"rotation\": -0.0, \"id\": \"el202140020888738192\"}, {\"v_baseline\": \"auto\", \"h_anchor\": \"start\", \"color\": \"#000000\", \"text\": \"WFC\", \"coordinates\": \"axes\", \"zorder\": 1000003.0, \"alpha\": 1, \"fontsize\": 10.0, \"position\": [0.11051373954599761, 0.8528329654157469], \"rotation\": -0.0, \"id\": \"el202140020888639248\"}, {\"v_baseline\": \"auto\", \"h_anchor\": \"start\", \"color\": \"#000000\", \"text\": \"AAPL\", \"coordinates\": \"axes\", \"zorder\": 1000003.0, \"alpha\": 1, \"fontsize\": 10.0, \"position\": [0.11051373954599761, 0.7838484179543782], \"rotation\": -0.0, \"id\": \"el202140020888640144\"}], \"zoomable\": true, \"images\": [], \"xdomain\": [[2007, 4, 31, 0, 0, 0, 0], [2018, 2, 31, 0, 0, 0, 0]], \"ylim\": [2.0347777196021006, 176.99262963239988], \"paths\": [{\"edgecolor\": \"#CCCCCC\", \"facecolor\": \"#FFFFFF\", \"edgewidth\": 1.0, \"pathcodes\": [\"M\", \"L\", \"S\", \"L\", \"S\", \"L\", \"S\", \"L\", \"S\", \"Z\"], \"yindex\": 1, \"coordinates\": \"axes\", \"dasharray\": \"none\", \"zorder\": 1000000.0, \"alpha\": 0.8, \"xindex\": 0, \"data\": \"data03\", \"id\": \"el202140020989950416\"}], \"sharey\": [], \"sharex\": [], \"axesbgalpha\": null, \"axes\": [{\"scale\": \"linear\", \"tickformat\": null, \"grid\": {\"gridOn\": false}, \"visible\": true, \"fontsize\": 10.0, \"position\": \"bottom\", \"nticks\": 11, \"tickvalues\": null}, {\"scale\": \"linear\", \"tickformat\": null, \"grid\": {\"gridOn\": false}, \"visible\": true, \"fontsize\": 10.0, \"position\": \"left\", \"nticks\": 10, \"tickvalues\": null}], \"lines\": [{\"drawstyle\": \"default\", \"color\": \"#1F77B4\", \"yindex\": 1, \"coordinates\": \"data\", \"dasharray\": \"none\", \"zorder\": 2, \"alpha\": 1, \"xindex\": 0, \"linewidth\": 1.5, \"data\": \"data01\", \"id\": \"el202140021270280848\"}, {\"drawstyle\": \"default\", \"color\": \"#FF7F0E\", \"yindex\": 2, \"coordinates\": \"data\", \"dasharray\": \"none\", \"zorder\": 2, \"alpha\": 1, \"xindex\": 0, \"linewidth\": 1.5, \"data\": \"data01\", \"id\": \"el202140020989950544\"}, {\"drawstyle\": \"default\", \"color\": \"#2CA02C\", \"yindex\": 3, \"coordinates\": \"data\", \"dasharray\": \"none\", \"zorder\": 2, \"alpha\": 1, \"xindex\": 0, \"linewidth\": 1.5, \"data\": \"data01\", \"id\": \"el202140020888738640\"}, {\"drawstyle\": \"default\", \"color\": \"#1F77B4\", \"yindex\": 1, \"coordinates\": \"axes\", \"dasharray\": \"none\", \"zorder\": 1000002.0, \"alpha\": 1, \"xindex\": 0, \"linewidth\": 1.5, \"data\": \"data02\", \"id\": \"el202140020888739088\"}, {\"drawstyle\": \"default\", \"color\": \"#FF7F0E\", \"yindex\": 2, \"coordinates\": \"axes\", \"dasharray\": \"none\", \"zorder\": 1000002.0, \"alpha\": 1, \"xindex\": 0, \"linewidth\": 1.5, \"data\": \"data02\", \"id\": \"el202140020888641168\"}, {\"drawstyle\": \"default\", \"color\": \"#2CA02C\", \"yindex\": 3, \"coordinates\": \"axes\", \"dasharray\": \"none\", \"zorder\": 1000002.0, \"alpha\": 1, \"xindex\": 0, \"linewidth\": 1.5, \"data\": \"data02\", \"id\": \"el202140020888641232\"}], \"markers\": [], \"id\": \"el202140020888550032\", \"ydomain\": [2.0347777196021006, 176.99262963239988], \"collections\": [], \"xscale\": \"date\", \"bbox\": [0.125, 0.125, 0.775, 0.755]}], \"height\": 288.0, \"width\": 432.0, \"plugins\": [{\"type\": \"reset\"}, {\"enabled\": false, \"button\": true, \"type\": \"zoom\"}, {\"enabled\": false, \"button\": true, \"type\": \"boxzoom\"}], \"data\": {\"data02\": [[0.026881720430107503, 0.9379139072847682, 0.8689293598233996, 0.7999448123620309], [0.08661887694145756, 0.9379139072847682, 0.8689293598233996, 0.7999448123620309]], \"data03\": [[0.020908004778972505, 0.7562545989698307], [0.19190561529271202, 0.7562545989698307], [0.19787933094384705, 0.7562545989698307], [0.19787933094384705, 0.7654525386313465], [0.19787933094384705, 0.9678072111846947], [0.19787933094384705, 0.9770051508462105], [0.19190561529271202, 0.9770051508462105], [0.020908004778972505, 0.9770051508462105], [0.014934289127837508, 0.9770051508462105], [0.014934289127837508, 0.9678072111846947], [0.014934289127837508, 0.7654525386313465], [0.014934289127837508, 0.7562545989698307], [0.020908004778972505, 0.7562545989698307]], \"data01\": [[454.0, NaN, 25.166378433743, 23.417809718684], [455.0, NaN, 23.428090191635, 25.456040769822], [456.0, NaN, 26.446813969225, 17.395646600379], [457.0, NaN, 22.916878264786, 16.066812485072], [458.0, NaN, 22.814955781912, 18.441750052855], [459.0, NaN, 23.324568196284, 22.354999454314], [460.0, NaN, 21.839512782252, 24.257005731542], [461.0, NaN, 18.813508472198, 21.518373720209], [462.0, NaN, 23.978311640144, 20.427290389556], [463.0, NaN, 24.247286432544, 21.786967849899], [464.0, NaN, 30.062790215176, 14.606894153362], [465.0, NaN, 27.275193360691, 13.826814551823], [466.0, NaN, 23.390226016419, 11.909386602077], [467.0, NaN, 23.867908029216, 10.968664578475], [468.0, NaN, 15.302017020088, 11.582961200445], [469.0, NaN, 9.987407352002, 11.477579771571], [470.0, NaN, 11.753775263844, 13.509385125826], [471.0, NaN, 16.516365381286, 16.170908774569], [472.0, NaN, 21.087051779849, 17.453477872322], [473.0, NaN, 20.061642203104, 18.304240139569], [474.0, NaN, 20.227030844514, 20.997892272724], [475.0, NaN, 22.798086403311, 21.6173294522], [476.0, NaN, 23.344842835948, 23.820058343531], [477.0, NaN, 22.798086403311, 24.22487724713], [478.0, NaN, 23.272169314678, 25.691221275723], [479.0, NaN, 22.400707910241, 27.081999108977], [480.0, NaN, 23.595854979183, 24.682772406979], [481.0, NaN, 22.731513444209, 26.296521922057], [482.0, NaN, 25.874348880168, 30.200775347881], [483.0, NaN, 27.528910392749, 33.553703981184], [484.0, NaN, 23.890473279224, 33.012660303675], [485.0, NaN, 21.31739686121, 32.325110737244], [486.0, NaN, 23.091070896928, 33.060210460605], [487.0, NaN, 19.64544591999, 31.24173824285], [488.0, NaN, 20.95097130703, 36.465829808345], [489.0, NaN, 21.739291748406, 38.680124954064], [490.0, NaN, 22.741515837121, 39.98711169997], [491.0, NaN, 25.900756184946, 41.453455728563], [492.0, NaN, 27.095918538753, 43.607349323587], [493.0, NaN, 27.003395476407, 45.392407917553], [494.0, NaN, 26.601924878653, 44.788071125751], [495.0, NaN, 24.42075159942, 44.996584989589], [496.0, NaN, 23.899191524973, 44.701002932993], [497.0, NaN, 23.638044208345, 43.138273451162], [498.0, NaN, 23.536954924489, 50.182122373789], [499.0, NaN, 22.083565037547, 49.456018626063], [500.0, NaN, 20.408260103664, 49.00493470491], [501.0, NaN, 21.922803452983, 52.019871682192], [502.0, NaN, 21.984155875193, 49.118026970042], [503.0, NaN, 23.429363337986, 52.048144748475], [504.0, NaN, 24.832064698932, 58.664042258726], [505.0, NaN, 26.70711138368, 69.711100339167], [506.0, NaN, 29.227048519308, 77.050531318391], [507.0, NaN, 28.606380382914, 75.049569309172], [508.0, NaN, 27.617624986873, 74.246357198856], [509.0, NaN, 28.815394058067, 75.052139587925], [510.0, NaN, 29.13422467414, 78.491172559453], [511.0, NaN, 29.514551732024, 85.857594115654], [512.0, NaN, 29.948206620828, 86.098295836876], [513.0, NaN, 29.219666407637, 76.83353816507], [514.0, NaN, 28.821283697695, 75.896485214554], [515.0, NaN, 29.842819654262, 69.009794690466], [516.0, NaN, 30.627742687255, 59.065900168086], [517.0, NaN, 30.8475800594, 57.562728311726], [518.0, NaN, 32.527137582588, 57.727044210395], [519.0, NaN, 33.397693576283, 57.742693343602], [520.0, NaN, 35.935834675552, 59.041313847026], [521.0, NaN, 36.57390621603, 52.056549256254], [522.0, NaN, 38.550155570567, 59.40824208744], [523.0, NaN, 36.657933387445, 64.384993720396], [524.0, NaN, 36.872098528949, 63.001924723734], [525.0, NaN, 38.094624545034, 69.074424870362], [526.0, NaN, 39.559129248138, 73.914215436527], [527.0, NaN, 40.799283686175, 74.572181819196], [528.0, NaN, 40.745363928, 66.541004275586], [529.0, NaN, 41.998867254847, 70.365411763138], [530.0, NaN, 45.002663878847, 71.76940390268], [531.0, NaN, 44.912188076919, 78.903021106928], [532.0, NaN, 46.269189547841, 85.114261733663], [533.0, NaN, 47.891071339789, 87.468686256501], [534.0, NaN, 46.378529893365, 89.98177559584], [535.0, NaN, 47.198262137537, 96.956206806577], [536.0, NaN, 47.592804375467, 95.30085693427], [537.0, NaN, 48.712203283084, 102.15873497669], [538.0, NaN, 50.314422309488, 112.98399738955], [539.0, NaN, 50.628425679261, 104.8614616317], [540.0, NaN, 47.950161642963, 111.30248998705], [541.0, NaN, 50.934686156653, 122.5157567099], [542.0, NaN, 50.572128616936, 118.67223733001], [543.0, NaN, 51.222872918992, 119.35892069317], [544.0, NaN, 52.377573352296, 124.76735316852], [545.0, NaN, 52.639648415531, 120.11778685264], [546.0, 74.490493466069, 54.165299676508, 116.16733143492], [547.0, 68.107200896496, 50.240631438077, 108.47643694077], [548.0, 66.120037864559, 48.375331414687, 105.77318412236], [549.0, 73.084481886868, 51.003708720373, 114.96039565823], [550.0, 69.632842445394, 52.264738901248, 114.29538877569], [551.0, 69.307892228966, 51.562816818001, 101.69680999602], [552.0, 74.356433031791, 47.645332758797, 94.044912454993], [553.0, 73.365775968595, 44.856276527438, 93.919781198699], [554.0, 75.384149765237, 46.232939745672, 105.86737979984], [555.0, 74.913958403412, 47.781685866184, 91.054300233386], [556.0, 80.3716622509, 48.865637028736, 97.591938528951], [557.0, 85.482445918496, 45.599578086949, 93.428693404443], [558.0, 83.463251615041, 46.216179185104, 101.84313953637], [559.0, 87.041420911462, 49.333677703594, 104.24847718874], [560.0, 87.060873681807, 43.001874974707, 111.07719459177], [561.0, 86.51619611213, 44.681939195715, 111.55864373242], [562.0, 79.999518046349, 51.824163421622, 109.15491652711], [563.0, 85.554904051527, 53.968814175464, 114.38945378366], [564.0, 87.485082257911, 55.163551125094, 119.85115020417], [565.0, 89.660206937187, 57.066697924081, 135.8803615489], [566.0, 89.558241906473, 54.877892302252, 142.49633360184], [567.0, 89.104582713906, 53.083466071743, 142.48641460326], [568.0, 91.538593974175, 50.770723940011, 152.14268890314], [569.0, 85.005796269727, 55.00989076097, 143.43800769724], [570.0, 86.832596843615, 53.550505461951, 148.24848941629], [571.0, 80.75, 51.07, 164.0], [572.0, 77.55, 55.15, 154.12], [573.0, 77.33, 56.14, 169.04]]}, \"id\": \"el202140021251882832\"});\n",
       "   }(mpld3);\n",
       "}else if(typeof define === \"function\" && define.amd){\n",
       "   // require.js is available: use it to load d3/mpld3\n",
       "   require.config({paths: {d3: \"https://mpld3.github.io/js/d3.v3.min\"}});\n",
       "   require([\"d3\"], function(d3){\n",
       "      window.d3 = d3;\n",
       "      mpld3_load_lib(\"https://mpld3.github.io/js/mpld3.v0.3.js\", function(){\n",
       "         \n",
       "         mpld3.draw_figure(\"fig_el2021400212518828324071503068\", {\"axes\": [{\"xlim\": [448.05, 578.95], \"yscale\": \"linear\", \"axesbg\": \"#FFFFFF\", \"texts\": [{\"v_baseline\": \"hanging\", \"h_anchor\": \"middle\", \"color\": \"#000000\", \"text\": \"Date\", \"coordinates\": \"axes\", \"zorder\": 3, \"alpha\": 1, \"fontsize\": 10.0, \"position\": [0.49999999999999994, -0.09657836644591611], \"rotation\": -0.0, \"id\": \"el202140020967314704\"}, {\"v_baseline\": \"auto\", \"h_anchor\": \"start\", \"color\": \"#000000\", \"text\": \"KHC\", \"coordinates\": \"axes\", \"zorder\": 1000003.0, \"alpha\": 1, \"fontsize\": 10.0, \"position\": [0.11051373954599761, 0.9218175128771156], \"rotation\": -0.0, \"id\": \"el202140020888738192\"}, {\"v_baseline\": \"auto\", \"h_anchor\": \"start\", \"color\": \"#000000\", \"text\": \"WFC\", \"coordinates\": \"axes\", \"zorder\": 1000003.0, \"alpha\": 1, \"fontsize\": 10.0, \"position\": [0.11051373954599761, 0.8528329654157469], \"rotation\": -0.0, \"id\": \"el202140020888639248\"}, {\"v_baseline\": \"auto\", \"h_anchor\": \"start\", \"color\": \"#000000\", \"text\": \"AAPL\", \"coordinates\": \"axes\", \"zorder\": 1000003.0, \"alpha\": 1, \"fontsize\": 10.0, \"position\": [0.11051373954599761, 0.7838484179543782], \"rotation\": -0.0, \"id\": \"el202140020888640144\"}], \"zoomable\": true, \"images\": [], \"xdomain\": [[2007, 4, 31, 0, 0, 0, 0], [2018, 2, 31, 0, 0, 0, 0]], \"ylim\": [2.0347777196021006, 176.99262963239988], \"paths\": [{\"edgecolor\": \"#CCCCCC\", \"facecolor\": \"#FFFFFF\", \"edgewidth\": 1.0, \"pathcodes\": [\"M\", \"L\", \"S\", \"L\", \"S\", \"L\", \"S\", \"L\", \"S\", \"Z\"], \"yindex\": 1, \"coordinates\": \"axes\", \"dasharray\": \"none\", \"zorder\": 1000000.0, \"alpha\": 0.8, \"xindex\": 0, \"data\": \"data03\", \"id\": \"el202140020989950416\"}], \"sharey\": [], \"sharex\": [], \"axesbgalpha\": null, \"axes\": [{\"scale\": \"linear\", \"tickformat\": null, \"grid\": {\"gridOn\": false}, \"visible\": true, \"fontsize\": 10.0, \"position\": \"bottom\", \"nticks\": 11, \"tickvalues\": null}, {\"scale\": \"linear\", \"tickformat\": null, \"grid\": {\"gridOn\": false}, \"visible\": true, \"fontsize\": 10.0, \"position\": \"left\", \"nticks\": 10, \"tickvalues\": null}], \"lines\": [{\"drawstyle\": \"default\", \"color\": \"#1F77B4\", \"yindex\": 1, \"coordinates\": \"data\", \"dasharray\": \"none\", \"zorder\": 2, \"alpha\": 1, \"xindex\": 0, \"linewidth\": 1.5, \"data\": \"data01\", \"id\": \"el202140021270280848\"}, {\"drawstyle\": \"default\", \"color\": \"#FF7F0E\", \"yindex\": 2, \"coordinates\": \"data\", \"dasharray\": \"none\", \"zorder\": 2, \"alpha\": 1, \"xindex\": 0, \"linewidth\": 1.5, \"data\": \"data01\", \"id\": \"el202140020989950544\"}, {\"drawstyle\": \"default\", \"color\": \"#2CA02C\", \"yindex\": 3, \"coordinates\": \"data\", \"dasharray\": \"none\", \"zorder\": 2, \"alpha\": 1, \"xindex\": 0, \"linewidth\": 1.5, \"data\": \"data01\", \"id\": \"el202140020888738640\"}, {\"drawstyle\": \"default\", \"color\": \"#1F77B4\", \"yindex\": 1, \"coordinates\": \"axes\", \"dasharray\": \"none\", \"zorder\": 1000002.0, \"alpha\": 1, \"xindex\": 0, \"linewidth\": 1.5, \"data\": \"data02\", \"id\": \"el202140020888739088\"}, {\"drawstyle\": \"default\", \"color\": \"#FF7F0E\", \"yindex\": 2, \"coordinates\": \"axes\", \"dasharray\": \"none\", \"zorder\": 1000002.0, \"alpha\": 1, \"xindex\": 0, \"linewidth\": 1.5, \"data\": \"data02\", \"id\": \"el202140020888641168\"}, {\"drawstyle\": \"default\", \"color\": \"#2CA02C\", \"yindex\": 3, \"coordinates\": \"axes\", \"dasharray\": \"none\", \"zorder\": 1000002.0, \"alpha\": 1, \"xindex\": 0, \"linewidth\": 1.5, \"data\": \"data02\", \"id\": \"el202140020888641232\"}], \"markers\": [], \"id\": \"el202140020888550032\", \"ydomain\": [2.0347777196021006, 176.99262963239988], \"collections\": [], \"xscale\": \"date\", \"bbox\": [0.125, 0.125, 0.775, 0.755]}], \"height\": 288.0, \"width\": 432.0, \"plugins\": [{\"type\": \"reset\"}, {\"enabled\": false, \"button\": true, \"type\": \"zoom\"}, {\"enabled\": false, \"button\": true, \"type\": \"boxzoom\"}], \"data\": {\"data02\": [[0.026881720430107503, 0.9379139072847682, 0.8689293598233996, 0.7999448123620309], [0.08661887694145756, 0.9379139072847682, 0.8689293598233996, 0.7999448123620309]], \"data03\": [[0.020908004778972505, 0.7562545989698307], [0.19190561529271202, 0.7562545989698307], [0.19787933094384705, 0.7562545989698307], [0.19787933094384705, 0.7654525386313465], [0.19787933094384705, 0.9678072111846947], [0.19787933094384705, 0.9770051508462105], [0.19190561529271202, 0.9770051508462105], [0.020908004778972505, 0.9770051508462105], [0.014934289127837508, 0.9770051508462105], [0.014934289127837508, 0.9678072111846947], [0.014934289127837508, 0.7654525386313465], [0.014934289127837508, 0.7562545989698307], [0.020908004778972505, 0.7562545989698307]], \"data01\": [[454.0, NaN, 25.166378433743, 23.417809718684], [455.0, NaN, 23.428090191635, 25.456040769822], [456.0, NaN, 26.446813969225, 17.395646600379], [457.0, NaN, 22.916878264786, 16.066812485072], [458.0, NaN, 22.814955781912, 18.441750052855], [459.0, NaN, 23.324568196284, 22.354999454314], [460.0, NaN, 21.839512782252, 24.257005731542], [461.0, NaN, 18.813508472198, 21.518373720209], [462.0, NaN, 23.978311640144, 20.427290389556], [463.0, NaN, 24.247286432544, 21.786967849899], [464.0, NaN, 30.062790215176, 14.606894153362], [465.0, NaN, 27.275193360691, 13.826814551823], [466.0, NaN, 23.390226016419, 11.909386602077], [467.0, NaN, 23.867908029216, 10.968664578475], [468.0, NaN, 15.302017020088, 11.582961200445], [469.0, NaN, 9.987407352002, 11.477579771571], [470.0, NaN, 11.753775263844, 13.509385125826], [471.0, NaN, 16.516365381286, 16.170908774569], [472.0, NaN, 21.087051779849, 17.453477872322], [473.0, NaN, 20.061642203104, 18.304240139569], [474.0, NaN, 20.227030844514, 20.997892272724], [475.0, NaN, 22.798086403311, 21.6173294522], [476.0, NaN, 23.344842835948, 23.820058343531], [477.0, NaN, 22.798086403311, 24.22487724713], [478.0, NaN, 23.272169314678, 25.691221275723], [479.0, NaN, 22.400707910241, 27.081999108977], [480.0, NaN, 23.595854979183, 24.682772406979], [481.0, NaN, 22.731513444209, 26.296521922057], [482.0, NaN, 25.874348880168, 30.200775347881], [483.0, NaN, 27.528910392749, 33.553703981184], [484.0, NaN, 23.890473279224, 33.012660303675], [485.0, NaN, 21.31739686121, 32.325110737244], [486.0, NaN, 23.091070896928, 33.060210460605], [487.0, NaN, 19.64544591999, 31.24173824285], [488.0, NaN, 20.95097130703, 36.465829808345], [489.0, NaN, 21.739291748406, 38.680124954064], [490.0, NaN, 22.741515837121, 39.98711169997], [491.0, NaN, 25.900756184946, 41.453455728563], [492.0, NaN, 27.095918538753, 43.607349323587], [493.0, NaN, 27.003395476407, 45.392407917553], [494.0, NaN, 26.601924878653, 44.788071125751], [495.0, NaN, 24.42075159942, 44.996584989589], [496.0, NaN, 23.899191524973, 44.701002932993], [497.0, NaN, 23.638044208345, 43.138273451162], [498.0, NaN, 23.536954924489, 50.182122373789], [499.0, NaN, 22.083565037547, 49.456018626063], [500.0, NaN, 20.408260103664, 49.00493470491], [501.0, NaN, 21.922803452983, 52.019871682192], [502.0, NaN, 21.984155875193, 49.118026970042], [503.0, NaN, 23.429363337986, 52.048144748475], [504.0, NaN, 24.832064698932, 58.664042258726], [505.0, NaN, 26.70711138368, 69.711100339167], [506.0, NaN, 29.227048519308, 77.050531318391], [507.0, NaN, 28.606380382914, 75.049569309172], [508.0, NaN, 27.617624986873, 74.246357198856], [509.0, NaN, 28.815394058067, 75.052139587925], [510.0, NaN, 29.13422467414, 78.491172559453], [511.0, NaN, 29.514551732024, 85.857594115654], [512.0, NaN, 29.948206620828, 86.098295836876], [513.0, NaN, 29.219666407637, 76.83353816507], [514.0, NaN, 28.821283697695, 75.896485214554], [515.0, NaN, 29.842819654262, 69.009794690466], [516.0, NaN, 30.627742687255, 59.065900168086], [517.0, NaN, 30.8475800594, 57.562728311726], [518.0, NaN, 32.527137582588, 57.727044210395], [519.0, NaN, 33.397693576283, 57.742693343602], [520.0, NaN, 35.935834675552, 59.041313847026], [521.0, NaN, 36.57390621603, 52.056549256254], [522.0, NaN, 38.550155570567, 59.40824208744], [523.0, NaN, 36.657933387445, 64.384993720396], [524.0, NaN, 36.872098528949, 63.001924723734], [525.0, NaN, 38.094624545034, 69.074424870362], [526.0, NaN, 39.559129248138, 73.914215436527], [527.0, NaN, 40.799283686175, 74.572181819196], [528.0, NaN, 40.745363928, 66.541004275586], [529.0, NaN, 41.998867254847, 70.365411763138], [530.0, NaN, 45.002663878847, 71.76940390268], [531.0, NaN, 44.912188076919, 78.903021106928], [532.0, NaN, 46.269189547841, 85.114261733663], [533.0, NaN, 47.891071339789, 87.468686256501], [534.0, NaN, 46.378529893365, 89.98177559584], [535.0, NaN, 47.198262137537, 96.956206806577], [536.0, NaN, 47.592804375467, 95.30085693427], [537.0, NaN, 48.712203283084, 102.15873497669], [538.0, NaN, 50.314422309488, 112.98399738955], [539.0, NaN, 50.628425679261, 104.8614616317], [540.0, NaN, 47.950161642963, 111.30248998705], [541.0, NaN, 50.934686156653, 122.5157567099], [542.0, NaN, 50.572128616936, 118.67223733001], [543.0, NaN, 51.222872918992, 119.35892069317], [544.0, NaN, 52.377573352296, 124.76735316852], [545.0, NaN, 52.639648415531, 120.11778685264], [546.0, 74.490493466069, 54.165299676508, 116.16733143492], [547.0, 68.107200896496, 50.240631438077, 108.47643694077], [548.0, 66.120037864559, 48.375331414687, 105.77318412236], [549.0, 73.084481886868, 51.003708720373, 114.96039565823], [550.0, 69.632842445394, 52.264738901248, 114.29538877569], [551.0, 69.307892228966, 51.562816818001, 101.69680999602], [552.0, 74.356433031791, 47.645332758797, 94.044912454993], [553.0, 73.365775968595, 44.856276527438, 93.919781198699], [554.0, 75.384149765237, 46.232939745672, 105.86737979984], [555.0, 74.913958403412, 47.781685866184, 91.054300233386], [556.0, 80.3716622509, 48.865637028736, 97.591938528951], [557.0, 85.482445918496, 45.599578086949, 93.428693404443], [558.0, 83.463251615041, 46.216179185104, 101.84313953637], [559.0, 87.041420911462, 49.333677703594, 104.24847718874], [560.0, 87.060873681807, 43.001874974707, 111.07719459177], [561.0, 86.51619611213, 44.681939195715, 111.55864373242], [562.0, 79.999518046349, 51.824163421622, 109.15491652711], [563.0, 85.554904051527, 53.968814175464, 114.38945378366], [564.0, 87.485082257911, 55.163551125094, 119.85115020417], [565.0, 89.660206937187, 57.066697924081, 135.8803615489], [566.0, 89.558241906473, 54.877892302252, 142.49633360184], [567.0, 89.104582713906, 53.083466071743, 142.48641460326], [568.0, 91.538593974175, 50.770723940011, 152.14268890314], [569.0, 85.005796269727, 55.00989076097, 143.43800769724], [570.0, 86.832596843615, 53.550505461951, 148.24848941629], [571.0, 80.75, 51.07, 164.0], [572.0, 77.55, 55.15, 154.12], [573.0, 77.33, 56.14, 169.04]]}, \"id\": \"el202140021251882832\"});\n",
       "      });\n",
       "    });\n",
       "}else{\n",
       "    // require.js not available: dynamically load d3 & mpld3\n",
       "    mpld3_load_lib(\"https://mpld3.github.io/js/d3.v3.min.js\", function(){\n",
       "         mpld3_load_lib(\"https://mpld3.github.io/js/mpld3.v0.3.js\", function(){\n",
       "                 \n",
       "                 mpld3.draw_figure(\"fig_el2021400212518828324071503068\", {\"axes\": [{\"xlim\": [448.05, 578.95], \"yscale\": \"linear\", \"axesbg\": \"#FFFFFF\", \"texts\": [{\"v_baseline\": \"hanging\", \"h_anchor\": \"middle\", \"color\": \"#000000\", \"text\": \"Date\", \"coordinates\": \"axes\", \"zorder\": 3, \"alpha\": 1, \"fontsize\": 10.0, \"position\": [0.49999999999999994, -0.09657836644591611], \"rotation\": -0.0, \"id\": \"el202140020967314704\"}, {\"v_baseline\": \"auto\", \"h_anchor\": \"start\", \"color\": \"#000000\", \"text\": \"KHC\", \"coordinates\": \"axes\", \"zorder\": 1000003.0, \"alpha\": 1, \"fontsize\": 10.0, \"position\": [0.11051373954599761, 0.9218175128771156], \"rotation\": -0.0, \"id\": \"el202140020888738192\"}, {\"v_baseline\": \"auto\", \"h_anchor\": \"start\", \"color\": \"#000000\", \"text\": \"WFC\", \"coordinates\": \"axes\", \"zorder\": 1000003.0, \"alpha\": 1, \"fontsize\": 10.0, \"position\": [0.11051373954599761, 0.8528329654157469], \"rotation\": -0.0, \"id\": \"el202140020888639248\"}, {\"v_baseline\": \"auto\", \"h_anchor\": \"start\", \"color\": \"#000000\", \"text\": \"AAPL\", \"coordinates\": \"axes\", \"zorder\": 1000003.0, \"alpha\": 1, \"fontsize\": 10.0, \"position\": [0.11051373954599761, 0.7838484179543782], \"rotation\": -0.0, \"id\": \"el202140020888640144\"}], \"zoomable\": true, \"images\": [], \"xdomain\": [[2007, 4, 31, 0, 0, 0, 0], [2018, 2, 31, 0, 0, 0, 0]], \"ylim\": [2.0347777196021006, 176.99262963239988], \"paths\": [{\"edgecolor\": \"#CCCCCC\", \"facecolor\": \"#FFFFFF\", \"edgewidth\": 1.0, \"pathcodes\": [\"M\", \"L\", \"S\", \"L\", \"S\", \"L\", \"S\", \"L\", \"S\", \"Z\"], \"yindex\": 1, \"coordinates\": \"axes\", \"dasharray\": \"none\", \"zorder\": 1000000.0, \"alpha\": 0.8, \"xindex\": 0, \"data\": \"data03\", \"id\": \"el202140020989950416\"}], \"sharey\": [], \"sharex\": [], \"axesbgalpha\": null, \"axes\": [{\"scale\": \"linear\", \"tickformat\": null, \"grid\": {\"gridOn\": false}, \"visible\": true, \"fontsize\": 10.0, \"position\": \"bottom\", \"nticks\": 11, \"tickvalues\": null}, {\"scale\": \"linear\", \"tickformat\": null, \"grid\": {\"gridOn\": false}, \"visible\": true, \"fontsize\": 10.0, \"position\": \"left\", \"nticks\": 10, \"tickvalues\": null}], \"lines\": [{\"drawstyle\": \"default\", \"color\": \"#1F77B4\", \"yindex\": 1, \"coordinates\": \"data\", \"dasharray\": \"none\", \"zorder\": 2, \"alpha\": 1, \"xindex\": 0, \"linewidth\": 1.5, \"data\": \"data01\", \"id\": \"el202140021270280848\"}, {\"drawstyle\": \"default\", \"color\": \"#FF7F0E\", \"yindex\": 2, \"coordinates\": \"data\", \"dasharray\": \"none\", \"zorder\": 2, \"alpha\": 1, \"xindex\": 0, \"linewidth\": 1.5, \"data\": \"data01\", \"id\": \"el202140020989950544\"}, {\"drawstyle\": \"default\", \"color\": \"#2CA02C\", \"yindex\": 3, \"coordinates\": \"data\", \"dasharray\": \"none\", \"zorder\": 2, \"alpha\": 1, \"xindex\": 0, \"linewidth\": 1.5, \"data\": \"data01\", \"id\": \"el202140020888738640\"}, {\"drawstyle\": \"default\", \"color\": \"#1F77B4\", \"yindex\": 1, \"coordinates\": \"axes\", \"dasharray\": \"none\", \"zorder\": 1000002.0, \"alpha\": 1, \"xindex\": 0, \"linewidth\": 1.5, \"data\": \"data02\", \"id\": \"el202140020888739088\"}, {\"drawstyle\": \"default\", \"color\": \"#FF7F0E\", \"yindex\": 2, \"coordinates\": \"axes\", \"dasharray\": \"none\", \"zorder\": 1000002.0, \"alpha\": 1, \"xindex\": 0, \"linewidth\": 1.5, \"data\": \"data02\", \"id\": \"el202140020888641168\"}, {\"drawstyle\": \"default\", \"color\": \"#2CA02C\", \"yindex\": 3, \"coordinates\": \"axes\", \"dasharray\": \"none\", \"zorder\": 1000002.0, \"alpha\": 1, \"xindex\": 0, \"linewidth\": 1.5, \"data\": \"data02\", \"id\": \"el202140020888641232\"}], \"markers\": [], \"id\": \"el202140020888550032\", \"ydomain\": [2.0347777196021006, 176.99262963239988], \"collections\": [], \"xscale\": \"date\", \"bbox\": [0.125, 0.125, 0.775, 0.755]}], \"height\": 288.0, \"width\": 432.0, \"plugins\": [{\"type\": \"reset\"}, {\"enabled\": false, \"button\": true, \"type\": \"zoom\"}, {\"enabled\": false, \"button\": true, \"type\": \"boxzoom\"}], \"data\": {\"data02\": [[0.026881720430107503, 0.9379139072847682, 0.8689293598233996, 0.7999448123620309], [0.08661887694145756, 0.9379139072847682, 0.8689293598233996, 0.7999448123620309]], \"data03\": [[0.020908004778972505, 0.7562545989698307], [0.19190561529271202, 0.7562545989698307], [0.19787933094384705, 0.7562545989698307], [0.19787933094384705, 0.7654525386313465], [0.19787933094384705, 0.9678072111846947], [0.19787933094384705, 0.9770051508462105], [0.19190561529271202, 0.9770051508462105], [0.020908004778972505, 0.9770051508462105], [0.014934289127837508, 0.9770051508462105], [0.014934289127837508, 0.9678072111846947], [0.014934289127837508, 0.7654525386313465], [0.014934289127837508, 0.7562545989698307], [0.020908004778972505, 0.7562545989698307]], \"data01\": [[454.0, NaN, 25.166378433743, 23.417809718684], [455.0, NaN, 23.428090191635, 25.456040769822], [456.0, NaN, 26.446813969225, 17.395646600379], [457.0, NaN, 22.916878264786, 16.066812485072], [458.0, NaN, 22.814955781912, 18.441750052855], [459.0, NaN, 23.324568196284, 22.354999454314], [460.0, NaN, 21.839512782252, 24.257005731542], [461.0, NaN, 18.813508472198, 21.518373720209], [462.0, NaN, 23.978311640144, 20.427290389556], [463.0, NaN, 24.247286432544, 21.786967849899], [464.0, NaN, 30.062790215176, 14.606894153362], [465.0, NaN, 27.275193360691, 13.826814551823], [466.0, NaN, 23.390226016419, 11.909386602077], [467.0, NaN, 23.867908029216, 10.968664578475], [468.0, NaN, 15.302017020088, 11.582961200445], [469.0, NaN, 9.987407352002, 11.477579771571], [470.0, NaN, 11.753775263844, 13.509385125826], [471.0, NaN, 16.516365381286, 16.170908774569], [472.0, NaN, 21.087051779849, 17.453477872322], [473.0, NaN, 20.061642203104, 18.304240139569], [474.0, NaN, 20.227030844514, 20.997892272724], [475.0, NaN, 22.798086403311, 21.6173294522], [476.0, NaN, 23.344842835948, 23.820058343531], [477.0, NaN, 22.798086403311, 24.22487724713], [478.0, NaN, 23.272169314678, 25.691221275723], [479.0, NaN, 22.400707910241, 27.081999108977], [480.0, NaN, 23.595854979183, 24.682772406979], [481.0, NaN, 22.731513444209, 26.296521922057], [482.0, NaN, 25.874348880168, 30.200775347881], [483.0, NaN, 27.528910392749, 33.553703981184], [484.0, NaN, 23.890473279224, 33.012660303675], [485.0, NaN, 21.31739686121, 32.325110737244], [486.0, NaN, 23.091070896928, 33.060210460605], [487.0, NaN, 19.64544591999, 31.24173824285], [488.0, NaN, 20.95097130703, 36.465829808345], [489.0, NaN, 21.739291748406, 38.680124954064], [490.0, NaN, 22.741515837121, 39.98711169997], [491.0, NaN, 25.900756184946, 41.453455728563], [492.0, NaN, 27.095918538753, 43.607349323587], [493.0, NaN, 27.003395476407, 45.392407917553], [494.0, NaN, 26.601924878653, 44.788071125751], [495.0, NaN, 24.42075159942, 44.996584989589], [496.0, NaN, 23.899191524973, 44.701002932993], [497.0, NaN, 23.638044208345, 43.138273451162], [498.0, NaN, 23.536954924489, 50.182122373789], [499.0, NaN, 22.083565037547, 49.456018626063], [500.0, NaN, 20.408260103664, 49.00493470491], [501.0, NaN, 21.922803452983, 52.019871682192], [502.0, NaN, 21.984155875193, 49.118026970042], [503.0, NaN, 23.429363337986, 52.048144748475], [504.0, NaN, 24.832064698932, 58.664042258726], [505.0, NaN, 26.70711138368, 69.711100339167], [506.0, NaN, 29.227048519308, 77.050531318391], [507.0, NaN, 28.606380382914, 75.049569309172], [508.0, NaN, 27.617624986873, 74.246357198856], [509.0, NaN, 28.815394058067, 75.052139587925], [510.0, NaN, 29.13422467414, 78.491172559453], [511.0, NaN, 29.514551732024, 85.857594115654], [512.0, NaN, 29.948206620828, 86.098295836876], [513.0, NaN, 29.219666407637, 76.83353816507], [514.0, NaN, 28.821283697695, 75.896485214554], [515.0, NaN, 29.842819654262, 69.009794690466], [516.0, NaN, 30.627742687255, 59.065900168086], [517.0, NaN, 30.8475800594, 57.562728311726], [518.0, NaN, 32.527137582588, 57.727044210395], [519.0, NaN, 33.397693576283, 57.742693343602], [520.0, NaN, 35.935834675552, 59.041313847026], [521.0, NaN, 36.57390621603, 52.056549256254], [522.0, NaN, 38.550155570567, 59.40824208744], [523.0, NaN, 36.657933387445, 64.384993720396], [524.0, NaN, 36.872098528949, 63.001924723734], [525.0, NaN, 38.094624545034, 69.074424870362], [526.0, NaN, 39.559129248138, 73.914215436527], [527.0, NaN, 40.799283686175, 74.572181819196], [528.0, NaN, 40.745363928, 66.541004275586], [529.0, NaN, 41.998867254847, 70.365411763138], [530.0, NaN, 45.002663878847, 71.76940390268], [531.0, NaN, 44.912188076919, 78.903021106928], [532.0, NaN, 46.269189547841, 85.114261733663], [533.0, NaN, 47.891071339789, 87.468686256501], [534.0, NaN, 46.378529893365, 89.98177559584], [535.0, NaN, 47.198262137537, 96.956206806577], [536.0, NaN, 47.592804375467, 95.30085693427], [537.0, NaN, 48.712203283084, 102.15873497669], [538.0, NaN, 50.314422309488, 112.98399738955], [539.0, NaN, 50.628425679261, 104.8614616317], [540.0, NaN, 47.950161642963, 111.30248998705], [541.0, NaN, 50.934686156653, 122.5157567099], [542.0, NaN, 50.572128616936, 118.67223733001], [543.0, NaN, 51.222872918992, 119.35892069317], [544.0, NaN, 52.377573352296, 124.76735316852], [545.0, NaN, 52.639648415531, 120.11778685264], [546.0, 74.490493466069, 54.165299676508, 116.16733143492], [547.0, 68.107200896496, 50.240631438077, 108.47643694077], [548.0, 66.120037864559, 48.375331414687, 105.77318412236], [549.0, 73.084481886868, 51.003708720373, 114.96039565823], [550.0, 69.632842445394, 52.264738901248, 114.29538877569], [551.0, 69.307892228966, 51.562816818001, 101.69680999602], [552.0, 74.356433031791, 47.645332758797, 94.044912454993], [553.0, 73.365775968595, 44.856276527438, 93.919781198699], [554.0, 75.384149765237, 46.232939745672, 105.86737979984], [555.0, 74.913958403412, 47.781685866184, 91.054300233386], [556.0, 80.3716622509, 48.865637028736, 97.591938528951], [557.0, 85.482445918496, 45.599578086949, 93.428693404443], [558.0, 83.463251615041, 46.216179185104, 101.84313953637], [559.0, 87.041420911462, 49.333677703594, 104.24847718874], [560.0, 87.060873681807, 43.001874974707, 111.07719459177], [561.0, 86.51619611213, 44.681939195715, 111.55864373242], [562.0, 79.999518046349, 51.824163421622, 109.15491652711], [563.0, 85.554904051527, 53.968814175464, 114.38945378366], [564.0, 87.485082257911, 55.163551125094, 119.85115020417], [565.0, 89.660206937187, 57.066697924081, 135.8803615489], [566.0, 89.558241906473, 54.877892302252, 142.49633360184], [567.0, 89.104582713906, 53.083466071743, 142.48641460326], [568.0, 91.538593974175, 50.770723940011, 152.14268890314], [569.0, 85.005796269727, 55.00989076097, 143.43800769724], [570.0, 86.832596843615, 53.550505461951, 148.24848941629], [571.0, 80.75, 51.07, 164.0], [572.0, 77.55, 55.15, 154.12], [573.0, 77.33, 56.14, 169.04]]}, \"id\": \"el202140021251882832\"});\n",
       "            })\n",
       "         });\n",
       "}\n",
       "</script>"
      ],
      "text/plain": [
       "<matplotlib.figure.Figure at 0x7f593cfabf50>"
      ]
     },
     "metadata": {},
     "output_type": "display_data"
    }
   ],
   "source": [
    "data2.plot()"
   ]
  },
  {
   "cell_type": "markdown",
   "metadata": {},
   "source": [
    "Explore the data by using the icons in the bottom left corner of the plot. \n",
    "\n",
    "It looks like we have some incomplete data.\n",
    "\n",
    "Further investigation reveals that we only have data for Kraft Heinz (KHC) from July 2015 onwards. We'll need to remember this for later, as this might affect our analysis.\n",
    "\n",
    "## <font color='green'>You're now finished with this section! Let your facilitators know, and have a break.</font>\n",
    "\n",
    "![done](https://media.giphy.com/media/26FL2NwYBOq3Z6C6Q/giphy.gif)"
   ]
  },
  {
   "cell_type": "markdown",
   "metadata": {},
   "source": [
    "## 3. Analysis\n",
    "\n",
    "## <font color='orange'>Please wait for your instructor to begin the Analysis section before proceeding</font>\n",
    "\n",
    "Data analysis is all about answering questions. In this case Warren has one question - what will the prices of his stocks be in the future?\n",
    "\n",
    "To answer that question we are going to build our own Time Series Forecasting model. This model will use the historic data that we have collected to forecast predictions for the future. \n",
    "\n",
    "As we build our model, we're going to use some dummy sales data, stored in `hat-sales.csv`, to test our model as we go. Once it's built, we'll apply it to our stock data.\n",
    "\n",
    "Let's start by creating a dataframe variable called `df` and using reading `pd.read_csv` to read our data in. Complete the code below, passing the function three inputs:\n",
    "    - 'hat-sales.csv'\n",
    "    - index_col = ['month']\n",
    "    - parse_dates = ['month']\n",
    "\n",
    "And then view our data on the line below using `data.head(5)`:"
   ]
  },
  {
   "cell_type": "code",
   "execution_count": 41,
   "metadata": {
    "scrolled": true
   },
   "outputs": [
    {
     "data": {
      "text/html": [
       "<div>\n",
       "<style scoped>\n",
       "    .dataframe tbody tr th:only-of-type {\n",
       "        vertical-align: middle;\n",
       "    }\n",
       "\n",
       "    .dataframe tbody tr th {\n",
       "        vertical-align: top;\n",
       "    }\n",
       "\n",
       "    .dataframe thead th {\n",
       "        text-align: right;\n",
       "    }\n",
       "</style>\n",
       "<table border=\"1\" class=\"dataframe\">\n",
       "  <thead>\n",
       "    <tr style=\"text-align: right;\">\n",
       "      <th></th>\n",
       "      <th>hats_sold</th>\n",
       "    </tr>\n",
       "    <tr>\n",
       "      <th>month</th>\n",
       "      <th></th>\n",
       "    </tr>\n",
       "  </thead>\n",
       "  <tbody>\n",
       "    <tr>\n",
       "      <th>2005-11-01</th>\n",
       "      <td>141</td>\n",
       "    </tr>\n",
       "    <tr>\n",
       "      <th>2005-12-01</th>\n",
       "      <td>157</td>\n",
       "    </tr>\n",
       "    <tr>\n",
       "      <th>2006-01-01</th>\n",
       "      <td>185</td>\n",
       "    </tr>\n",
       "    <tr>\n",
       "      <th>2006-02-01</th>\n",
       "      <td>199</td>\n",
       "    </tr>\n",
       "    <tr>\n",
       "      <th>2006-03-01</th>\n",
       "      <td>203</td>\n",
       "    </tr>\n",
       "  </tbody>\n",
       "</table>\n",
       "</div>"
      ],
      "text/plain": [
       "            hats_sold\n",
       "month                \n",
       "2005-11-01        141\n",
       "2005-12-01        157\n",
       "2006-01-01        185\n",
       "2006-02-01        199\n",
       "2006-03-01        203"
      ]
     },
     "execution_count": 41,
     "metadata": {},
     "output_type": "execute_result"
    }
   ],
   "source": [
    "import pandas as pd\n",
    "df = pd.read_csv('~/hat-sales.csv', index_col = ['month'], parse_dates = ['month'])\n",
    "df.head(5)"
   ]
  },
  {
   "cell_type": "markdown",
   "metadata": {},
   "source": [
    "Now let's plot it with `df.plot()`:"
   ]
  },
  {
   "cell_type": "code",
   "execution_count": 42,
   "metadata": {},
   "outputs": [
    {
     "data": {
      "text/plain": [
       "<matplotlib.axes._subplots.AxesSubplot at 0x7f592c08bc10>"
      ]
     },
     "execution_count": 42,
     "metadata": {},
     "output_type": "execute_result"
    },
    {
     "data": {
      "image/png": "[encoded data removed]",
      "text/html": [
       "\n",
       "\n",
       "<style>\n",
       "\n",
       "</style>\n",
       "\n",
       "<div id=\"fig_el202140020888521296874857546\"></div>\n",
       "<script>\n",
       "function mpld3_load_lib(url, callback){\n",
       "  var s = document.createElement('script');\n",
       "  s.src = url;\n",
       "  s.async = true;\n",
       "  s.onreadystatechange = s.onload = callback;\n",
       "  s.onerror = function(){console.warn(\"failed to load library \" + url);};\n",
       "  document.getElementsByTagName(\"head\")[0].appendChild(s);\n",
       "}\n",
       "\n",
       "if(typeof(mpld3) !== \"undefined\" && mpld3._mpld3IsLoaded){\n",
       "   // already loaded: just create the figure\n",
       "   !function(mpld3){\n",
       "       \n",
       "       mpld3.draw_figure(\"fig_el202140020888521296874857546\", {\"axes\": [{\"xlim\": [422.85, 580.15], \"yscale\": \"linear\", \"axesbg\": \"#FFFFFF\", \"texts\": [{\"v_baseline\": \"hanging\", \"h_anchor\": \"middle\", \"color\": \"#000000\", \"text\": \"month\", \"coordinates\": \"axes\", \"zorder\": 3, \"alpha\": 1, \"fontsize\": 10.0, \"position\": [0.49999999999999994, -0.09657836644591611], \"rotation\": -0.0, \"id\": \"el202140020990051792\"}, {\"v_baseline\": \"auto\", \"h_anchor\": \"start\", \"color\": \"#000000\", \"text\": \"hats_sold\", \"coordinates\": \"axes\", \"zorder\": 1000003.0, \"alpha\": 1, \"fontsize\": 10.0, \"position\": [0.11051373954599761, 0.9218175128771156], \"rotation\": -0.0, \"id\": \"el202140020967146640\"}], \"zoomable\": true, \"images\": [], \"xdomain\": [[2005, 2, 31, 0, 0, 0, 0], [2018, 4, 31, 0, 0, 0, 0]], \"ylim\": [101.35, 907.65], \"paths\": [{\"edgecolor\": \"#CCCCCC\", \"facecolor\": \"#FFFFFF\", \"edgewidth\": 1.0, \"pathcodes\": [\"M\", \"L\", \"S\", \"L\", \"S\", \"L\", \"S\", \"L\", \"S\", \"Z\"], \"yindex\": 1, \"coordinates\": \"axes\", \"dasharray\": \"none\", \"zorder\": 1000000.0, \"alpha\": 0.8, \"xindex\": 0, \"data\": \"data03\", \"id\": \"el202140020967320720\"}], \"sharey\": [], \"sharex\": [], \"axesbgalpha\": null, \"axes\": [{\"scale\": \"linear\", \"tickformat\": null, \"grid\": {\"gridOn\": false}, \"visible\": true, \"fontsize\": 10.0, \"position\": \"bottom\", \"nticks\": 6, \"tickvalues\": null}, {\"scale\": \"linear\", \"tickformat\": null, \"grid\": {\"gridOn\": false}, \"visible\": true, \"fontsize\": 10.0, \"position\": \"left\", \"nticks\": 10, \"tickvalues\": null}], \"lines\": [{\"drawstyle\": \"default\", \"color\": \"#1F77B4\", \"yindex\": 1, \"coordinates\": \"data\", \"dasharray\": \"none\", \"zorder\": 2, \"alpha\": 1, \"xindex\": 0, \"linewidth\": 1.5, \"data\": \"data01\", \"id\": \"el202140021269813456\"}, {\"drawstyle\": \"default\", \"color\": \"#1F77B4\", \"yindex\": 1, \"coordinates\": \"axes\", \"dasharray\": \"none\", \"zorder\": 1000002.0, \"alpha\": 1, \"xindex\": 0, \"linewidth\": 1.5, \"data\": \"data02\", \"id\": \"el202140020967147024\"}], \"markers\": [], \"id\": \"el202140020967586832\", \"ydomain\": [101.35, 907.65], \"collections\": [], \"xscale\": \"date\", \"bbox\": [0.125, 0.125, 0.775, 0.755]}], \"height\": 288.0, \"width\": 432.0, \"plugins\": [{\"type\": \"reset\"}, {\"enabled\": false, \"button\": true, \"type\": \"zoom\"}, {\"enabled\": false, \"button\": true, \"type\": \"boxzoom\"}], \"data\": {\"data02\": [[0.026881720430107503, 0.9379139072847682], [0.08661887694145756, 0.9379139072847682]], \"data03\": [[0.020908004778972505, 0.8900558774834437], [0.2572431302270012, 0.8900558774834437], [0.2632168458781362, 0.8900558774834437], [0.2632168458781362, 0.8992538171449596], [0.2632168458781362, 0.9678072111846947], [0.2632168458781362, 0.9770051508462105], [0.2572431302270012, 0.9770051508462105], [0.020908004778972505, 0.9770051508462105], [0.014934289127837508, 0.9770051508462105], [0.014934289127837508, 0.9678072111846947], [0.014934289127837508, 0.8992538171449596], [0.014934289127837508, 0.8900558774834437], [0.020908004778972505, 0.8900558774834437]], \"data01\": [[430.0, 141.0], [431.0, 157.0], [432.0, 185.0], [433.0, 199.0], [434.0, 203.0], [435.0, 189.0], [436.0, 207.0], [437.0, 207.0], [438.0, 171.0], [439.0, 150.0], [440.0, 138.0], [441.0, 165.0], [442.0, 145.0], [443.0, 168.0], [444.0, 197.0], [445.0, 208.0], [446.0, 210.0], [447.0, 209.0], [448.0, 238.0], [449.0, 238.0], [450.0, 199.0], [451.0, 168.0], [452.0, 152.0], [453.0, 196.0], [454.0, 183.0], [455.0, 200.0], [456.0, 249.0], [457.0, 251.0], [458.0, 289.0], [459.0, 249.0], [460.0, 279.0], [461.0, 279.0], [462.0, 232.0], [463.0, 204.0], [464.0, 194.0], [465.0, 232.0], [466.0, 215.0], [467.0, 239.0], [468.0, 270.0], [469.0, 279.0], [470.0, 307.0], [471.0, 305.0], [472.0, 322.0], [473.0, 339.0], [474.0, 263.0], [475.0, 241.0], [476.0, 229.0], [477.0, 272.0], [478.0, 247.0], [479.0, 261.0], [480.0, 330.0], [481.0, 362.0], [482.0, 385.0], [483.0, 340.0], [484.0, 370.0], [485.0, 381.0], [486.0, 299.0], [487.0, 266.0], [488.0, 239.0], [489.0, 281.0], [490.0, 257.0], [491.0, 250.0], [492.0, 329.0], [493.0, 350.0], [494.0, 393.0], [495.0, 370.0], [496.0, 423.0], [497.0, 410.0], [498.0, 326.0], [499.0, 289.0], [500.0, 270.0], [501.0, 321.0], [502.0, 305.0], [503.0, 310.0], [504.0, 374.0], [505.0, 414.0], [506.0, 454.0], [507.0, 441.0], [508.0, 510.0], [509.0, 486.0], [510.0, 393.0], [511.0, 345.0], [512.0, 315.0], [513.0, 389.0], [514.0, 358.0], [515.0, 368.0], [516.0, 444.0], [517.0, 482.0], [518.0, 534.0], [519.0, 524.0], [520.0, 578.0], [521.0, 567.0], [522.0, 447.0], [523.0, 386.0], [524.0, 360.0], [525.0, 428.0], [526.0, 397.0], [527.0, 400.0], [528.0, 498.0], [529.0, 536.0], [530.0, 596.0], [531.0, 591.0], [532.0, 651.0], [533.0, 654.0], [534.0, 509.0], [535.0, 437.0], [536.0, 406.0], [537.0, 470.0], [538.0, 428.0], [539.0, 423.0], [540.0, 507.0], [541.0, 536.0], [542.0, 610.0], [543.0, 609.0], [544.0, 687.0], [545.0, 707.0], [546.0, 509.0], [547.0, 452.0], [548.0, 412.0], [549.0, 472.0], [550.0, 454.0], [551.0, 455.0], [552.0, 568.0], [553.0, 610.0], [554.0, 706.0], [555.0, 661.0], [556.0, 767.0], [557.0, 783.0], [558.0, 583.0], [559.0, 513.0], [560.0, 481.0], [561.0, 567.0], [562.0, 525.0], [563.0, 520.0], [564.0, 587.0], [565.0, 710.0], [566.0, 793.0], [567.0, 749.0], [568.0, 871.0], [569.0, 848.0], [570.0, 640.0], [571.0, 581.0], [572.0, 519.0], [573.0, 605.0]]}, \"id\": \"el202140020888521296\"});\n",
       "   }(mpld3);\n",
       "}else if(typeof define === \"function\" && define.amd){\n",
       "   // require.js is available: use it to load d3/mpld3\n",
       "   require.config({paths: {d3: \"https://mpld3.github.io/js/d3.v3.min\"}});\n",
       "   require([\"d3\"], function(d3){\n",
       "      window.d3 = d3;\n",
       "      mpld3_load_lib(\"https://mpld3.github.io/js/mpld3.v0.3.js\", function(){\n",
       "         \n",
       "         mpld3.draw_figure(\"fig_el202140020888521296874857546\", {\"axes\": [{\"xlim\": [422.85, 580.15], \"yscale\": \"linear\", \"axesbg\": \"#FFFFFF\", \"texts\": [{\"v_baseline\": \"hanging\", \"h_anchor\": \"middle\", \"color\": \"#000000\", \"text\": \"month\", \"coordinates\": \"axes\", \"zorder\": 3, \"alpha\": 1, \"fontsize\": 10.0, \"position\": [0.49999999999999994, -0.09657836644591611], \"rotation\": -0.0, \"id\": \"el202140020990051792\"}, {\"v_baseline\": \"auto\", \"h_anchor\": \"start\", \"color\": \"#000000\", \"text\": \"hats_sold\", \"coordinates\": \"axes\", \"zorder\": 1000003.0, \"alpha\": 1, \"fontsize\": 10.0, \"position\": [0.11051373954599761, 0.9218175128771156], \"rotation\": -0.0, \"id\": \"el202140020967146640\"}], \"zoomable\": true, \"images\": [], \"xdomain\": [[2005, 2, 31, 0, 0, 0, 0], [2018, 4, 31, 0, 0, 0, 0]], \"ylim\": [101.35, 907.65], \"paths\": [{\"edgecolor\": \"#CCCCCC\", \"facecolor\": \"#FFFFFF\", \"edgewidth\": 1.0, \"pathcodes\": [\"M\", \"L\", \"S\", \"L\", \"S\", \"L\", \"S\", \"L\", \"S\", \"Z\"], \"yindex\": 1, \"coordinates\": \"axes\", \"dasharray\": \"none\", \"zorder\": 1000000.0, \"alpha\": 0.8, \"xindex\": 0, \"data\": \"data03\", \"id\": \"el202140020967320720\"}], \"sharey\": [], \"sharex\": [], \"axesbgalpha\": null, \"axes\": [{\"scale\": \"linear\", \"tickformat\": null, \"grid\": {\"gridOn\": false}, \"visible\": true, \"fontsize\": 10.0, \"position\": \"bottom\", \"nticks\": 6, \"tickvalues\": null}, {\"scale\": \"linear\", \"tickformat\": null, \"grid\": {\"gridOn\": false}, \"visible\": true, \"fontsize\": 10.0, \"position\": \"left\", \"nticks\": 10, \"tickvalues\": null}], \"lines\": [{\"drawstyle\": \"default\", \"color\": \"#1F77B4\", \"yindex\": 1, \"coordinates\": \"data\", \"dasharray\": \"none\", \"zorder\": 2, \"alpha\": 1, \"xindex\": 0, \"linewidth\": 1.5, \"data\": \"data01\", \"id\": \"el202140021269813456\"}, {\"drawstyle\": \"default\", \"color\": \"#1F77B4\", \"yindex\": 1, \"coordinates\": \"axes\", \"dasharray\": \"none\", \"zorder\": 1000002.0, \"alpha\": 1, \"xindex\": 0, \"linewidth\": 1.5, \"data\": \"data02\", \"id\": \"el202140020967147024\"}], \"markers\": [], \"id\": \"el202140020967586832\", \"ydomain\": [101.35, 907.65], \"collections\": [], \"xscale\": \"date\", \"bbox\": [0.125, 0.125, 0.775, 0.755]}], \"height\": 288.0, \"width\": 432.0, \"plugins\": [{\"type\": \"reset\"}, {\"enabled\": false, \"button\": true, \"type\": \"zoom\"}, {\"enabled\": false, \"button\": true, \"type\": \"boxzoom\"}], \"data\": {\"data02\": [[0.026881720430107503, 0.9379139072847682], [0.08661887694145756, 0.9379139072847682]], \"data03\": [[0.020908004778972505, 0.8900558774834437], [0.2572431302270012, 0.8900558774834437], [0.2632168458781362, 0.8900558774834437], [0.2632168458781362, 0.8992538171449596], [0.2632168458781362, 0.9678072111846947], [0.2632168458781362, 0.9770051508462105], [0.2572431302270012, 0.9770051508462105], [0.020908004778972505, 0.9770051508462105], [0.014934289127837508, 0.9770051508462105], [0.014934289127837508, 0.9678072111846947], [0.014934289127837508, 0.8992538171449596], [0.014934289127837508, 0.8900558774834437], [0.020908004778972505, 0.8900558774834437]], \"data01\": [[430.0, 141.0], [431.0, 157.0], [432.0, 185.0], [433.0, 199.0], [434.0, 203.0], [435.0, 189.0], [436.0, 207.0], [437.0, 207.0], [438.0, 171.0], [439.0, 150.0], [440.0, 138.0], [441.0, 165.0], [442.0, 145.0], [443.0, 168.0], [444.0, 197.0], [445.0, 208.0], [446.0, 210.0], [447.0, 209.0], [448.0, 238.0], [449.0, 238.0], [450.0, 199.0], [451.0, 168.0], [452.0, 152.0], [453.0, 196.0], [454.0, 183.0], [455.0, 200.0], [456.0, 249.0], [457.0, 251.0], [458.0, 289.0], [459.0, 249.0], [460.0, 279.0], [461.0, 279.0], [462.0, 232.0], [463.0, 204.0], [464.0, 194.0], [465.0, 232.0], [466.0, 215.0], [467.0, 239.0], [468.0, 270.0], [469.0, 279.0], [470.0, 307.0], [471.0, 305.0], [472.0, 322.0], [473.0, 339.0], [474.0, 263.0], [475.0, 241.0], [476.0, 229.0], [477.0, 272.0], [478.0, 247.0], [479.0, 261.0], [480.0, 330.0], [481.0, 362.0], [482.0, 385.0], [483.0, 340.0], [484.0, 370.0], [485.0, 381.0], [486.0, 299.0], [487.0, 266.0], [488.0, 239.0], [489.0, 281.0], [490.0, 257.0], [491.0, 250.0], [492.0, 329.0], [493.0, 350.0], [494.0, 393.0], [495.0, 370.0], [496.0, 423.0], [497.0, 410.0], [498.0, 326.0], [499.0, 289.0], [500.0, 270.0], [501.0, 321.0], [502.0, 305.0], [503.0, 310.0], [504.0, 374.0], [505.0, 414.0], [506.0, 454.0], [507.0, 441.0], [508.0, 510.0], [509.0, 486.0], [510.0, 393.0], [511.0, 345.0], [512.0, 315.0], [513.0, 389.0], [514.0, 358.0], [515.0, 368.0], [516.0, 444.0], [517.0, 482.0], [518.0, 534.0], [519.0, 524.0], [520.0, 578.0], [521.0, 567.0], [522.0, 447.0], [523.0, 386.0], [524.0, 360.0], [525.0, 428.0], [526.0, 397.0], [527.0, 400.0], [528.0, 498.0], [529.0, 536.0], [530.0, 596.0], [531.0, 591.0], [532.0, 651.0], [533.0, 654.0], [534.0, 509.0], [535.0, 437.0], [536.0, 406.0], [537.0, 470.0], [538.0, 428.0], [539.0, 423.0], [540.0, 507.0], [541.0, 536.0], [542.0, 610.0], [543.0, 609.0], [544.0, 687.0], [545.0, 707.0], [546.0, 509.0], [547.0, 452.0], [548.0, 412.0], [549.0, 472.0], [550.0, 454.0], [551.0, 455.0], [552.0, 568.0], [553.0, 610.0], [554.0, 706.0], [555.0, 661.0], [556.0, 767.0], [557.0, 783.0], [558.0, 583.0], [559.0, 513.0], [560.0, 481.0], [561.0, 567.0], [562.0, 525.0], [563.0, 520.0], [564.0, 587.0], [565.0, 710.0], [566.0, 793.0], [567.0, 749.0], [568.0, 871.0], [569.0, 848.0], [570.0, 640.0], [571.0, 581.0], [572.0, 519.0], [573.0, 605.0]]}, \"id\": \"el202140020888521296\"});\n",
       "      });\n",
       "    });\n",
       "}else{\n",
       "    // require.js not available: dynamically load d3 & mpld3\n",
       "    mpld3_load_lib(\"https://mpld3.github.io/js/d3.v3.min.js\", function(){\n",
       "         mpld3_load_lib(\"https://mpld3.github.io/js/mpld3.v0.3.js\", function(){\n",
       "                 \n",
       "                 mpld3.draw_figure(\"fig_el202140020888521296874857546\", {\"axes\": [{\"xlim\": [422.85, 580.15], \"yscale\": \"linear\", \"axesbg\": \"#FFFFFF\", \"texts\": [{\"v_baseline\": \"hanging\", \"h_anchor\": \"middle\", \"color\": \"#000000\", \"text\": \"month\", \"coordinates\": \"axes\", \"zorder\": 3, \"alpha\": 1, \"fontsize\": 10.0, \"position\": [0.49999999999999994, -0.09657836644591611], \"rotation\": -0.0, \"id\": \"el202140020990051792\"}, {\"v_baseline\": \"auto\", \"h_anchor\": \"start\", \"color\": \"#000000\", \"text\": \"hats_sold\", \"coordinates\": \"axes\", \"zorder\": 1000003.0, \"alpha\": 1, \"fontsize\": 10.0, \"position\": [0.11051373954599761, 0.9218175128771156], \"rotation\": -0.0, \"id\": \"el202140020967146640\"}], \"zoomable\": true, \"images\": [], \"xdomain\": [[2005, 2, 31, 0, 0, 0, 0], [2018, 4, 31, 0, 0, 0, 0]], \"ylim\": [101.35, 907.65], \"paths\": [{\"edgecolor\": \"#CCCCCC\", \"facecolor\": \"#FFFFFF\", \"edgewidth\": 1.0, \"pathcodes\": [\"M\", \"L\", \"S\", \"L\", \"S\", \"L\", \"S\", \"L\", \"S\", \"Z\"], \"yindex\": 1, \"coordinates\": \"axes\", \"dasharray\": \"none\", \"zorder\": 1000000.0, \"alpha\": 0.8, \"xindex\": 0, \"data\": \"data03\", \"id\": \"el202140020967320720\"}], \"sharey\": [], \"sharex\": [], \"axesbgalpha\": null, \"axes\": [{\"scale\": \"linear\", \"tickformat\": null, \"grid\": {\"gridOn\": false}, \"visible\": true, \"fontsize\": 10.0, \"position\": \"bottom\", \"nticks\": 6, \"tickvalues\": null}, {\"scale\": \"linear\", \"tickformat\": null, \"grid\": {\"gridOn\": false}, \"visible\": true, \"fontsize\": 10.0, \"position\": \"left\", \"nticks\": 10, \"tickvalues\": null}], \"lines\": [{\"drawstyle\": \"default\", \"color\": \"#1F77B4\", \"yindex\": 1, \"coordinates\": \"data\", \"dasharray\": \"none\", \"zorder\": 2, \"alpha\": 1, \"xindex\": 0, \"linewidth\": 1.5, \"data\": \"data01\", \"id\": \"el202140021269813456\"}, {\"drawstyle\": \"default\", \"color\": \"#1F77B4\", \"yindex\": 1, \"coordinates\": \"axes\", \"dasharray\": \"none\", \"zorder\": 1000002.0, \"alpha\": 1, \"xindex\": 0, \"linewidth\": 1.5, \"data\": \"data02\", \"id\": \"el202140020967147024\"}], \"markers\": [], \"id\": \"el202140020967586832\", \"ydomain\": [101.35, 907.65], \"collections\": [], \"xscale\": \"date\", \"bbox\": [0.125, 0.125, 0.775, 0.755]}], \"height\": 288.0, \"width\": 432.0, \"plugins\": [{\"type\": \"reset\"}, {\"enabled\": false, \"button\": true, \"type\": \"zoom\"}, {\"enabled\": false, \"button\": true, \"type\": \"boxzoom\"}], \"data\": {\"data02\": [[0.026881720430107503, 0.9379139072847682], [0.08661887694145756, 0.9379139072847682]], \"data03\": [[0.020908004778972505, 0.8900558774834437], [0.2572431302270012, 0.8900558774834437], [0.2632168458781362, 0.8900558774834437], [0.2632168458781362, 0.8992538171449596], [0.2632168458781362, 0.9678072111846947], [0.2632168458781362, 0.9770051508462105], [0.2572431302270012, 0.9770051508462105], [0.020908004778972505, 0.9770051508462105], [0.014934289127837508, 0.9770051508462105], [0.014934289127837508, 0.9678072111846947], [0.014934289127837508, 0.8992538171449596], [0.014934289127837508, 0.8900558774834437], [0.020908004778972505, 0.8900558774834437]], \"data01\": [[430.0, 141.0], [431.0, 157.0], [432.0, 185.0], [433.0, 199.0], [434.0, 203.0], [435.0, 189.0], [436.0, 207.0], [437.0, 207.0], [438.0, 171.0], [439.0, 150.0], [440.0, 138.0], [441.0, 165.0], [442.0, 145.0], [443.0, 168.0], [444.0, 197.0], [445.0, 208.0], [446.0, 210.0], [447.0, 209.0], [448.0, 238.0], [449.0, 238.0], [450.0, 199.0], [451.0, 168.0], [452.0, 152.0], [453.0, 196.0], [454.0, 183.0], [455.0, 200.0], [456.0, 249.0], [457.0, 251.0], [458.0, 289.0], [459.0, 249.0], [460.0, 279.0], [461.0, 279.0], [462.0, 232.0], [463.0, 204.0], [464.0, 194.0], [465.0, 232.0], [466.0, 215.0], [467.0, 239.0], [468.0, 270.0], [469.0, 279.0], [470.0, 307.0], [471.0, 305.0], [472.0, 322.0], [473.0, 339.0], [474.0, 263.0], [475.0, 241.0], [476.0, 229.0], [477.0, 272.0], [478.0, 247.0], [479.0, 261.0], [480.0, 330.0], [481.0, 362.0], [482.0, 385.0], [483.0, 340.0], [484.0, 370.0], [485.0, 381.0], [486.0, 299.0], [487.0, 266.0], [488.0, 239.0], [489.0, 281.0], [490.0, 257.0], [491.0, 250.0], [492.0, 329.0], [493.0, 350.0], [494.0, 393.0], [495.0, 370.0], [496.0, 423.0], [497.0, 410.0], [498.0, 326.0], [499.0, 289.0], [500.0, 270.0], [501.0, 321.0], [502.0, 305.0], [503.0, 310.0], [504.0, 374.0], [505.0, 414.0], [506.0, 454.0], [507.0, 441.0], [508.0, 510.0], [509.0, 486.0], [510.0, 393.0], [511.0, 345.0], [512.0, 315.0], [513.0, 389.0], [514.0, 358.0], [515.0, 368.0], [516.0, 444.0], [517.0, 482.0], [518.0, 534.0], [519.0, 524.0], [520.0, 578.0], [521.0, 567.0], [522.0, 447.0], [523.0, 386.0], [524.0, 360.0], [525.0, 428.0], [526.0, 397.0], [527.0, 400.0], [528.0, 498.0], [529.0, 536.0], [530.0, 596.0], [531.0, 591.0], [532.0, 651.0], [533.0, 654.0], [534.0, 509.0], [535.0, 437.0], [536.0, 406.0], [537.0, 470.0], [538.0, 428.0], [539.0, 423.0], [540.0, 507.0], [541.0, 536.0], [542.0, 610.0], [543.0, 609.0], [544.0, 687.0], [545.0, 707.0], [546.0, 509.0], [547.0, 452.0], [548.0, 412.0], [549.0, 472.0], [550.0, 454.0], [551.0, 455.0], [552.0, 568.0], [553.0, 610.0], [554.0, 706.0], [555.0, 661.0], [556.0, 767.0], [557.0, 783.0], [558.0, 583.0], [559.0, 513.0], [560.0, 481.0], [561.0, 567.0], [562.0, 525.0], [563.0, 520.0], [564.0, 587.0], [565.0, 710.0], [566.0, 793.0], [567.0, 749.0], [568.0, 871.0], [569.0, 848.0], [570.0, 640.0], [571.0, 581.0], [572.0, 519.0], [573.0, 605.0]]}, \"id\": \"el202140020888521296\"});\n",
       "            })\n",
       "         });\n",
       "}\n",
       "</script>"
      ],
      "text/plain": [
       "<matplotlib.figure.Figure at 0x7f5927524a50>"
      ]
     },
     "metadata": {},
     "output_type": "display_data"
    }
   ],
   "source": [
    "df.plot()"
   ]
  },
  {
   "cell_type": "markdown",
   "metadata": {},
   "source": [
    "What observations can we make about the behavior of the data that might help our predictions?\n",
    "\n",
    "When looking at time series data, it's important to look for patterns that our model can try to use to make a prediction. \n",
    "We do this by asking four central questions:\n",
    "\n",
    " 1. Is there a **Trend**?.........................The direction that the data is headed in, increasing or decreasing. Data with no up or down trend is said to be \"stationary\".\n",
    " 2. Is there **Changing Variance**?......Time series data tends to fluctuate a lot. Does the scale of those fluctuations change over time? \n",
    " 3. Is there **Seasonality**?..................Patterns associated with days, weeks, months\n",
    " 4. Are there **Long-run Cycles**?.......Patterns occuring beyond the scale of months, not described by seasonal change. \n",
    " \n",
    "So first of all, let's have a look at our **trend**.\n",
    "\n",
    "The trend between two points is defined as the difference between one number and a number after it. If one month I sell 200 hats and the next day I sell 220, I'm trending up by 220 hats a month!\n",
    "\n",
    "We want to know if that month-to-month trend is consistent over the entire time period.\n",
    "\n",
    "What we want is a record of all the differences between adjacent months. We can do this by subtracting the list of previous month sales from the list of current month sales. This method is called *differencing*.\n",
    "\n",
    "Below, create a new column in our dataframe by typing  **`df['diff_hats_sold']`** and set it equal to **`df.hats_sold`** minus **`df.hats_sold.shift()`**, which shifts the column by one (giving you the previous month's values).\n",
    "\n",
    "Have a look at the result with **`df.head(10)`**:"
   ]
  },
  {
   "cell_type": "code",
   "execution_count": 43,
   "metadata": {},
   "outputs": [
    {
     "data": {
      "text/html": [
       "<div>\n",
       "<style scoped>\n",
       "    .dataframe tbody tr th:only-of-type {\n",
       "        vertical-align: middle;\n",
       "    }\n",
       "\n",
       "    .dataframe tbody tr th {\n",
       "        vertical-align: top;\n",
       "    }\n",
       "\n",
       "    .dataframe thead th {\n",
       "        text-align: right;\n",
       "    }\n",
       "</style>\n",
       "<table border=\"1\" class=\"dataframe\">\n",
       "  <thead>\n",
       "    <tr style=\"text-align: right;\">\n",
       "      <th></th>\n",
       "      <th>hats_sold</th>\n",
       "      <th>diff_hats_sold</th>\n",
       "    </tr>\n",
       "    <tr>\n",
       "      <th>month</th>\n",
       "      <th></th>\n",
       "      <th></th>\n",
       "    </tr>\n",
       "  </thead>\n",
       "  <tbody>\n",
       "    <tr>\n",
       "      <th>2005-11-01</th>\n",
       "      <td>141</td>\n",
       "      <td>NaN</td>\n",
       "    </tr>\n",
       "    <tr>\n",
       "      <th>2005-12-01</th>\n",
       "      <td>157</td>\n",
       "      <td>16.0</td>\n",
       "    </tr>\n",
       "    <tr>\n",
       "      <th>2006-01-01</th>\n",
       "      <td>185</td>\n",
       "      <td>28.0</td>\n",
       "    </tr>\n",
       "    <tr>\n",
       "      <th>2006-02-01</th>\n",
       "      <td>199</td>\n",
       "      <td>14.0</td>\n",
       "    </tr>\n",
       "    <tr>\n",
       "      <th>2006-03-01</th>\n",
       "      <td>203</td>\n",
       "      <td>4.0</td>\n",
       "    </tr>\n",
       "    <tr>\n",
       "      <th>2006-04-01</th>\n",
       "      <td>189</td>\n",
       "      <td>-14.0</td>\n",
       "    </tr>\n",
       "    <tr>\n",
       "      <th>2006-05-01</th>\n",
       "      <td>207</td>\n",
       "      <td>18.0</td>\n",
       "    </tr>\n",
       "    <tr>\n",
       "      <th>2006-06-01</th>\n",
       "      <td>207</td>\n",
       "      <td>0.0</td>\n",
       "    </tr>\n",
       "    <tr>\n",
       "      <th>2006-07-01</th>\n",
       "      <td>171</td>\n",
       "      <td>-36.0</td>\n",
       "    </tr>\n",
       "    <tr>\n",
       "      <th>2006-08-01</th>\n",
       "      <td>150</td>\n",
       "      <td>-21.0</td>\n",
       "    </tr>\n",
       "  </tbody>\n",
       "</table>\n",
       "</div>"
      ],
      "text/plain": [
       "            hats_sold  diff_hats_sold\n",
       "month                                \n",
       "2005-11-01        141             NaN\n",
       "2005-12-01        157            16.0\n",
       "2006-01-01        185            28.0\n",
       "2006-02-01        199            14.0\n",
       "2006-03-01        203             4.0\n",
       "2006-04-01        189           -14.0\n",
       "2006-05-01        207            18.0\n",
       "2006-06-01        207             0.0\n",
       "2006-07-01        171           -36.0\n",
       "2006-08-01        150           -21.0"
      ]
     },
     "execution_count": 43,
     "metadata": {},
     "output_type": "execute_result"
    }
   ],
   "source": [
    "df['diff_hats_sold'] = df.hats_sold - df.hats_sold.shift()\n",
    "df.head(10)"
   ]
  },
  {
   "cell_type": "markdown",
   "metadata": {},
   "source": [
    "Now let's plot the result by writing **`df.plot(y='diff_hats_sold')`**:"
   ]
  },
  {
   "cell_type": "code",
   "execution_count": 44,
   "metadata": {},
   "outputs": [
    {
     "data": {
      "text/plain": [
       "<matplotlib.axes._subplots.AxesSubplot at 0x7f593cecae90>"
      ]
     },
     "execution_count": 44,
     "metadata": {},
     "output_type": "execute_result"
    },
    {
     "data": {
      "image/png": "[encoded data removed]",
      "text/html": [
       "\n",
       "\n",
       "<style>\n",
       "\n",
       "</style>\n",
       "\n",
       "<div id=\"fig_el2021400212509596969465614616\"></div>\n",
       "<script>\n",
       "function mpld3_load_lib(url, callback){\n",
       "  var s = document.createElement('script');\n",
       "  s.src = url;\n",
       "  s.async = true;\n",
       "  s.onreadystatechange = s.onload = callback;\n",
       "  s.onerror = function(){console.warn(\"failed to load library \" + url);};\n",
       "  document.getElementsByTagName(\"head\")[0].appendChild(s);\n",
       "}\n",
       "\n",
       "if(typeof(mpld3) !== \"undefined\" && mpld3._mpld3IsLoaded){\n",
       "   // already loaded: just create the figure\n",
       "   !function(mpld3){\n",
       "       \n",
       "       mpld3.draw_figure(\"fig_el2021400212509596969465614616\", {\"axes\": [{\"xlim\": [423.9, 580.1], \"yscale\": \"linear\", \"axesbg\": \"#FFFFFF\", \"texts\": [{\"v_baseline\": \"hanging\", \"h_anchor\": \"middle\", \"color\": \"#000000\", \"text\": \"month\", \"coordinates\": \"axes\", \"zorder\": 3, \"alpha\": 1, \"fontsize\": 10.0, \"position\": [0.49999999999999994, -0.09657836644591611], \"rotation\": -0.0, \"id\": \"el202140021247994064\"}, {\"v_baseline\": \"auto\", \"h_anchor\": \"start\", \"color\": \"#000000\", \"text\": \"diff_hats_sold\", \"coordinates\": \"axes\", \"zorder\": 1000003.0, \"alpha\": 1, \"fontsize\": 10.0, \"position\": [0.11051373954599761, 0.9218175128771156], \"rotation\": -0.0, \"id\": \"el202140021247477072\"}], \"zoomable\": true, \"images\": [], \"xdomain\": [[2005, 3, 30, 0, 0, 0, 0], [2018, 4, 31, 0, 0, 0, 0]], \"ylim\": [-224.55, 139.55], \"paths\": [{\"edgecolor\": \"#CCCCCC\", \"facecolor\": \"#FFFFFF\", \"edgewidth\": 1.0, \"pathcodes\": [\"M\", \"L\", \"S\", \"L\", \"S\", \"L\", \"S\", \"L\", \"S\", \"Z\"], \"yindex\": 1, \"coordinates\": \"axes\", \"dasharray\": \"none\", \"zorder\": 1000000.0, \"alpha\": 0.8, \"xindex\": 0, \"data\": \"data03\", \"id\": \"el202140021247892624\"}], \"sharey\": [], \"sharex\": [], \"axesbgalpha\": null, \"axes\": [{\"scale\": \"linear\", \"tickformat\": null, \"grid\": {\"gridOn\": false}, \"visible\": true, \"fontsize\": 10.0, \"position\": \"bottom\", \"nticks\": 6, \"tickvalues\": null}, {\"scale\": \"linear\", \"tickformat\": null, \"grid\": {\"gridOn\": false}, \"visible\": true, \"fontsize\": 10.0, \"position\": \"left\", \"nticks\": 9, \"tickvalues\": null}], \"lines\": [{\"drawstyle\": \"default\", \"color\": \"#1F77B4\", \"yindex\": 1, \"coordinates\": \"data\", \"dasharray\": \"none\", \"zorder\": 2, \"alpha\": 1, \"xindex\": 0, \"linewidth\": 1.5, \"data\": \"data01\", \"id\": \"el202140021248110480\"}, {\"drawstyle\": \"default\", \"color\": \"#1F77B4\", \"yindex\": 1, \"coordinates\": \"axes\", \"dasharray\": \"none\", \"zorder\": 1000002.0, \"alpha\": 1, \"xindex\": 0, \"linewidth\": 1.5, \"data\": \"data02\", \"id\": \"el202140021247477520\"}], \"markers\": [], \"id\": \"el202140021250961040\", \"ydomain\": [-224.55, 139.55], \"collections\": [], \"xscale\": \"date\", \"bbox\": [0.125, 0.125, 0.775, 0.755]}], \"height\": 288.0, \"width\": 432.0, \"plugins\": [{\"type\": \"reset\"}, {\"enabled\": false, \"button\": true, \"type\": \"zoom\"}, {\"enabled\": false, \"button\": true, \"type\": \"boxzoom\"}], \"data\": {\"data02\": [[0.026881720430107503, 0.9379139072847682], [0.08661887694145756, 0.9379139072847682]], \"data03\": [[0.020908004778972505, 0.8900558774834437], [0.3214605734767024, 0.8900558774834437], [0.32743428912783745, 0.8900558774834437], [0.32743428912783745, 0.8992538171449596], [0.32743428912783745, 0.9678072111846947], [0.32743428912783745, 0.9770051508462105], [0.3214605734767024, 0.9770051508462105], [0.020908004778972505, 0.9770051508462105], [0.014934289127837508, 0.9770051508462105], [0.014934289127837508, 0.9678072111846947], [0.014934289127837508, 0.8992538171449596], [0.014934289127837508, 0.8900558774834437], [0.020908004778972505, 0.8900558774834437]], \"data01\": [[430.0, NaN], [431.0, 16.0], [432.0, 28.0], [433.0, 14.0], [434.0, 4.0], [435.0, -14.0], [436.0, 18.0], [437.0, 0.0], [438.0, -36.0], [439.0, -21.0], [440.0, -12.0], [441.0, 27.0], [442.0, -20.0], [443.0, 23.0], [444.0, 29.0], [445.0, 11.0], [446.0, 2.0], [447.0, -1.0], [448.0, 29.0], [449.0, 0.0], [450.0, -39.0], [451.0, -31.0], [452.0, -16.0], [453.0, 44.0], [454.0, -13.0], [455.0, 17.0], [456.0, 49.0], [457.0, 2.0], [458.0, 38.0], [459.0, -40.0], [460.0, 30.0], [461.0, 0.0], [462.0, -47.0], [463.0, -28.0], [464.0, -10.0], [465.0, 38.0], [466.0, -17.0], [467.0, 24.0], [468.0, 31.0], [469.0, 9.0], [470.0, 28.0], [471.0, -2.0], [472.0, 17.0], [473.0, 17.0], [474.0, -76.0], [475.0, -22.0], [476.0, -12.0], [477.0, 43.0], [478.0, -25.0], [479.0, 14.0], [480.0, 69.0], [481.0, 32.0], [482.0, 23.0], [483.0, -45.0], [484.0, 30.0], [485.0, 11.0], [486.0, -82.0], [487.0, -33.0], [488.0, -27.0], [489.0, 42.0], [490.0, -24.0], [491.0, -7.0], [492.0, 79.0], [493.0, 21.0], [494.0, 43.0], [495.0, -23.0], [496.0, 53.0], [497.0, -13.0], [498.0, -84.0], [499.0, -37.0], [500.0, -19.0], [501.0, 51.0], [502.0, -16.0], [503.0, 5.0], [504.0, 64.0], [505.0, 40.0], [506.0, 40.0], [507.0, -13.0], [508.0, 69.0], [509.0, -24.0], [510.0, -93.0], [511.0, -48.0], [512.0, -30.0], [513.0, 74.0], [514.0, -31.0], [515.0, 10.0], [516.0, 76.0], [517.0, 38.0], [518.0, 52.0], [519.0, -10.0], [520.0, 54.0], [521.0, -11.0], [522.0, -120.0], [523.0, -61.0], [524.0, -26.0], [525.0, 68.0], [526.0, -31.0], [527.0, 3.0], [528.0, 98.0], [529.0, 38.0], [530.0, 60.0], [531.0, -5.0], [532.0, 60.0], [533.0, 3.0], [534.0, -145.0], [535.0, -72.0], [536.0, -31.0], [537.0, 64.0], [538.0, -42.0], [539.0, -5.0], [540.0, 84.0], [541.0, 29.0], [542.0, 74.0], [543.0, -1.0], [544.0, 78.0], [545.0, 20.0], [546.0, -198.0], [547.0, -57.0], [548.0, -40.0], [549.0, 60.0], [550.0, -18.0], [551.0, 1.0], [552.0, 113.0], [553.0, 42.0], [554.0, 96.0], [555.0, -45.0], [556.0, 106.0], [557.0, 16.0], [558.0, -200.0], [559.0, -70.0], [560.0, -32.0], [561.0, 86.0], [562.0, -42.0], [563.0, -5.0], [564.0, 67.0], [565.0, 123.0], [566.0, 83.0], [567.0, -44.0], [568.0, 122.0], [569.0, -23.0], [570.0, -208.0], [571.0, -59.0], [572.0, -62.0], [573.0, 86.0]]}, \"id\": \"el202140021250959696\"});\n",
       "   }(mpld3);\n",
       "}else if(typeof define === \"function\" && define.amd){\n",
       "   // require.js is available: use it to load d3/mpld3\n",
       "   require.config({paths: {d3: \"https://mpld3.github.io/js/d3.v3.min\"}});\n",
       "   require([\"d3\"], function(d3){\n",
       "      window.d3 = d3;\n",
       "      mpld3_load_lib(\"https://mpld3.github.io/js/mpld3.v0.3.js\", function(){\n",
       "         \n",
       "         mpld3.draw_figure(\"fig_el2021400212509596969465614616\", {\"axes\": [{\"xlim\": [423.9, 580.1], \"yscale\": \"linear\", \"axesbg\": \"#FFFFFF\", \"texts\": [{\"v_baseline\": \"hanging\", \"h_anchor\": \"middle\", \"color\": \"#000000\", \"text\": \"month\", \"coordinates\": \"axes\", \"zorder\": 3, \"alpha\": 1, \"fontsize\": 10.0, \"position\": [0.49999999999999994, -0.09657836644591611], \"rotation\": -0.0, \"id\": \"el202140021247994064\"}, {\"v_baseline\": \"auto\", \"h_anchor\": \"start\", \"color\": \"#000000\", \"text\": \"diff_hats_sold\", \"coordinates\": \"axes\", \"zorder\": 1000003.0, \"alpha\": 1, \"fontsize\": 10.0, \"position\": [0.11051373954599761, 0.9218175128771156], \"rotation\": -0.0, \"id\": \"el202140021247477072\"}], \"zoomable\": true, \"images\": [], \"xdomain\": [[2005, 3, 30, 0, 0, 0, 0], [2018, 4, 31, 0, 0, 0, 0]], \"ylim\": [-224.55, 139.55], \"paths\": [{\"edgecolor\": \"#CCCCCC\", \"facecolor\": \"#FFFFFF\", \"edgewidth\": 1.0, \"pathcodes\": [\"M\", \"L\", \"S\", \"L\", \"S\", \"L\", \"S\", \"L\", \"S\", \"Z\"], \"yindex\": 1, \"coordinates\": \"axes\", \"dasharray\": \"none\", \"zorder\": 1000000.0, \"alpha\": 0.8, \"xindex\": 0, \"data\": \"data03\", \"id\": \"el202140021247892624\"}], \"sharey\": [], \"sharex\": [], \"axesbgalpha\": null, \"axes\": [{\"scale\": \"linear\", \"tickformat\": null, \"grid\": {\"gridOn\": false}, \"visible\": true, \"fontsize\": 10.0, \"position\": \"bottom\", \"nticks\": 6, \"tickvalues\": null}, {\"scale\": \"linear\", \"tickformat\": null, \"grid\": {\"gridOn\": false}, \"visible\": true, \"fontsize\": 10.0, \"position\": \"left\", \"nticks\": 9, \"tickvalues\": null}], \"lines\": [{\"drawstyle\": \"default\", \"color\": \"#1F77B4\", \"yindex\": 1, \"coordinates\": \"data\", \"dasharray\": \"none\", \"zorder\": 2, \"alpha\": 1, \"xindex\": 0, \"linewidth\": 1.5, \"data\": \"data01\", \"id\": \"el202140021248110480\"}, {\"drawstyle\": \"default\", \"color\": \"#1F77B4\", \"yindex\": 1, \"coordinates\": \"axes\", \"dasharray\": \"none\", \"zorder\": 1000002.0, \"alpha\": 1, \"xindex\": 0, \"linewidth\": 1.5, \"data\": \"data02\", \"id\": \"el202140021247477520\"}], \"markers\": [], \"id\": \"el202140021250961040\", \"ydomain\": [-224.55, 139.55], \"collections\": [], \"xscale\": \"date\", \"bbox\": [0.125, 0.125, 0.775, 0.755]}], \"height\": 288.0, \"width\": 432.0, \"plugins\": [{\"type\": \"reset\"}, {\"enabled\": false, \"button\": true, \"type\": \"zoom\"}, {\"enabled\": false, \"button\": true, \"type\": \"boxzoom\"}], \"data\": {\"data02\": [[0.026881720430107503, 0.9379139072847682], [0.08661887694145756, 0.9379139072847682]], \"data03\": [[0.020908004778972505, 0.8900558774834437], [0.3214605734767024, 0.8900558774834437], [0.32743428912783745, 0.8900558774834437], [0.32743428912783745, 0.8992538171449596], [0.32743428912783745, 0.9678072111846947], [0.32743428912783745, 0.9770051508462105], [0.3214605734767024, 0.9770051508462105], [0.020908004778972505, 0.9770051508462105], [0.014934289127837508, 0.9770051508462105], [0.014934289127837508, 0.9678072111846947], [0.014934289127837508, 0.8992538171449596], [0.014934289127837508, 0.8900558774834437], [0.020908004778972505, 0.8900558774834437]], \"data01\": [[430.0, NaN], [431.0, 16.0], [432.0, 28.0], [433.0, 14.0], [434.0, 4.0], [435.0, -14.0], [436.0, 18.0], [437.0, 0.0], [438.0, -36.0], [439.0, -21.0], [440.0, -12.0], [441.0, 27.0], [442.0, -20.0], [443.0, 23.0], [444.0, 29.0], [445.0, 11.0], [446.0, 2.0], [447.0, -1.0], [448.0, 29.0], [449.0, 0.0], [450.0, -39.0], [451.0, -31.0], [452.0, -16.0], [453.0, 44.0], [454.0, -13.0], [455.0, 17.0], [456.0, 49.0], [457.0, 2.0], [458.0, 38.0], [459.0, -40.0], [460.0, 30.0], [461.0, 0.0], [462.0, -47.0], [463.0, -28.0], [464.0, -10.0], [465.0, 38.0], [466.0, -17.0], [467.0, 24.0], [468.0, 31.0], [469.0, 9.0], [470.0, 28.0], [471.0, -2.0], [472.0, 17.0], [473.0, 17.0], [474.0, -76.0], [475.0, -22.0], [476.0, -12.0], [477.0, 43.0], [478.0, -25.0], [479.0, 14.0], [480.0, 69.0], [481.0, 32.0], [482.0, 23.0], [483.0, -45.0], [484.0, 30.0], [485.0, 11.0], [486.0, -82.0], [487.0, -33.0], [488.0, -27.0], [489.0, 42.0], [490.0, -24.0], [491.0, -7.0], [492.0, 79.0], [493.0, 21.0], [494.0, 43.0], [495.0, -23.0], [496.0, 53.0], [497.0, -13.0], [498.0, -84.0], [499.0, -37.0], [500.0, -19.0], [501.0, 51.0], [502.0, -16.0], [503.0, 5.0], [504.0, 64.0], [505.0, 40.0], [506.0, 40.0], [507.0, -13.0], [508.0, 69.0], [509.0, -24.0], [510.0, -93.0], [511.0, -48.0], [512.0, -30.0], [513.0, 74.0], [514.0, -31.0], [515.0, 10.0], [516.0, 76.0], [517.0, 38.0], [518.0, 52.0], [519.0, -10.0], [520.0, 54.0], [521.0, -11.0], [522.0, -120.0], [523.0, -61.0], [524.0, -26.0], [525.0, 68.0], [526.0, -31.0], [527.0, 3.0], [528.0, 98.0], [529.0, 38.0], [530.0, 60.0], [531.0, -5.0], [532.0, 60.0], [533.0, 3.0], [534.0, -145.0], [535.0, -72.0], [536.0, -31.0], [537.0, 64.0], [538.0, -42.0], [539.0, -5.0], [540.0, 84.0], [541.0, 29.0], [542.0, 74.0], [543.0, -1.0], [544.0, 78.0], [545.0, 20.0], [546.0, -198.0], [547.0, -57.0], [548.0, -40.0], [549.0, 60.0], [550.0, -18.0], [551.0, 1.0], [552.0, 113.0], [553.0, 42.0], [554.0, 96.0], [555.0, -45.0], [556.0, 106.0], [557.0, 16.0], [558.0, -200.0], [559.0, -70.0], [560.0, -32.0], [561.0, 86.0], [562.0, -42.0], [563.0, -5.0], [564.0, 67.0], [565.0, 123.0], [566.0, 83.0], [567.0, -44.0], [568.0, 122.0], [569.0, -23.0], [570.0, -208.0], [571.0, -59.0], [572.0, -62.0], [573.0, 86.0]]}, \"id\": \"el202140021250959696\"});\n",
       "      });\n",
       "    });\n",
       "}else{\n",
       "    // require.js not available: dynamically load d3 & mpld3\n",
       "    mpld3_load_lib(\"https://mpld3.github.io/js/d3.v3.min.js\", function(){\n",
       "         mpld3_load_lib(\"https://mpld3.github.io/js/mpld3.v0.3.js\", function(){\n",
       "                 \n",
       "                 mpld3.draw_figure(\"fig_el2021400212509596969465614616\", {\"axes\": [{\"xlim\": [423.9, 580.1], \"yscale\": \"linear\", \"axesbg\": \"#FFFFFF\", \"texts\": [{\"v_baseline\": \"hanging\", \"h_anchor\": \"middle\", \"color\": \"#000000\", \"text\": \"month\", \"coordinates\": \"axes\", \"zorder\": 3, \"alpha\": 1, \"fontsize\": 10.0, \"position\": [0.49999999999999994, -0.09657836644591611], \"rotation\": -0.0, \"id\": \"el202140021247994064\"}, {\"v_baseline\": \"auto\", \"h_anchor\": \"start\", \"color\": \"#000000\", \"text\": \"diff_hats_sold\", \"coordinates\": \"axes\", \"zorder\": 1000003.0, \"alpha\": 1, \"fontsize\": 10.0, \"position\": [0.11051373954599761, 0.9218175128771156], \"rotation\": -0.0, \"id\": \"el202140021247477072\"}], \"zoomable\": true, \"images\": [], \"xdomain\": [[2005, 3, 30, 0, 0, 0, 0], [2018, 4, 31, 0, 0, 0, 0]], \"ylim\": [-224.55, 139.55], \"paths\": [{\"edgecolor\": \"#CCCCCC\", \"facecolor\": \"#FFFFFF\", \"edgewidth\": 1.0, \"pathcodes\": [\"M\", \"L\", \"S\", \"L\", \"S\", \"L\", \"S\", \"L\", \"S\", \"Z\"], \"yindex\": 1, \"coordinates\": \"axes\", \"dasharray\": \"none\", \"zorder\": 1000000.0, \"alpha\": 0.8, \"xindex\": 0, \"data\": \"data03\", \"id\": \"el202140021247892624\"}], \"sharey\": [], \"sharex\": [], \"axesbgalpha\": null, \"axes\": [{\"scale\": \"linear\", \"tickformat\": null, \"grid\": {\"gridOn\": false}, \"visible\": true, \"fontsize\": 10.0, \"position\": \"bottom\", \"nticks\": 6, \"tickvalues\": null}, {\"scale\": \"linear\", \"tickformat\": null, \"grid\": {\"gridOn\": false}, \"visible\": true, \"fontsize\": 10.0, \"position\": \"left\", \"nticks\": 9, \"tickvalues\": null}], \"lines\": [{\"drawstyle\": \"default\", \"color\": \"#1F77B4\", \"yindex\": 1, \"coordinates\": \"data\", \"dasharray\": \"none\", \"zorder\": 2, \"alpha\": 1, \"xindex\": 0, \"linewidth\": 1.5, \"data\": \"data01\", \"id\": \"el202140021248110480\"}, {\"drawstyle\": \"default\", \"color\": \"#1F77B4\", \"yindex\": 1, \"coordinates\": \"axes\", \"dasharray\": \"none\", \"zorder\": 1000002.0, \"alpha\": 1, \"xindex\": 0, \"linewidth\": 1.5, \"data\": \"data02\", \"id\": \"el202140021247477520\"}], \"markers\": [], \"id\": \"el202140021250961040\", \"ydomain\": [-224.55, 139.55], \"collections\": [], \"xscale\": \"date\", \"bbox\": [0.125, 0.125, 0.775, 0.755]}], \"height\": 288.0, \"width\": 432.0, \"plugins\": [{\"type\": \"reset\"}, {\"enabled\": false, \"button\": true, \"type\": \"zoom\"}, {\"enabled\": false, \"button\": true, \"type\": \"boxzoom\"}], \"data\": {\"data02\": [[0.026881720430107503, 0.9379139072847682], [0.08661887694145756, 0.9379139072847682]], \"data03\": [[0.020908004778972505, 0.8900558774834437], [0.3214605734767024, 0.8900558774834437], [0.32743428912783745, 0.8900558774834437], [0.32743428912783745, 0.8992538171449596], [0.32743428912783745, 0.9678072111846947], [0.32743428912783745, 0.9770051508462105], [0.3214605734767024, 0.9770051508462105], [0.020908004778972505, 0.9770051508462105], [0.014934289127837508, 0.9770051508462105], [0.014934289127837508, 0.9678072111846947], [0.014934289127837508, 0.8992538171449596], [0.014934289127837508, 0.8900558774834437], [0.020908004778972505, 0.8900558774834437]], \"data01\": [[430.0, NaN], [431.0, 16.0], [432.0, 28.0], [433.0, 14.0], [434.0, 4.0], [435.0, -14.0], [436.0, 18.0], [437.0, 0.0], [438.0, -36.0], [439.0, -21.0], [440.0, -12.0], [441.0, 27.0], [442.0, -20.0], [443.0, 23.0], [444.0, 29.0], [445.0, 11.0], [446.0, 2.0], [447.0, -1.0], [448.0, 29.0], [449.0, 0.0], [450.0, -39.0], [451.0, -31.0], [452.0, -16.0], [453.0, 44.0], [454.0, -13.0], [455.0, 17.0], [456.0, 49.0], [457.0, 2.0], [458.0, 38.0], [459.0, -40.0], [460.0, 30.0], [461.0, 0.0], [462.0, -47.0], [463.0, -28.0], [464.0, -10.0], [465.0, 38.0], [466.0, -17.0], [467.0, 24.0], [468.0, 31.0], [469.0, 9.0], [470.0, 28.0], [471.0, -2.0], [472.0, 17.0], [473.0, 17.0], [474.0, -76.0], [475.0, -22.0], [476.0, -12.0], [477.0, 43.0], [478.0, -25.0], [479.0, 14.0], [480.0, 69.0], [481.0, 32.0], [482.0, 23.0], [483.0, -45.0], [484.0, 30.0], [485.0, 11.0], [486.0, -82.0], [487.0, -33.0], [488.0, -27.0], [489.0, 42.0], [490.0, -24.0], [491.0, -7.0], [492.0, 79.0], [493.0, 21.0], [494.0, 43.0], [495.0, -23.0], [496.0, 53.0], [497.0, -13.0], [498.0, -84.0], [499.0, -37.0], [500.0, -19.0], [501.0, 51.0], [502.0, -16.0], [503.0, 5.0], [504.0, 64.0], [505.0, 40.0], [506.0, 40.0], [507.0, -13.0], [508.0, 69.0], [509.0, -24.0], [510.0, -93.0], [511.0, -48.0], [512.0, -30.0], [513.0, 74.0], [514.0, -31.0], [515.0, 10.0], [516.0, 76.0], [517.0, 38.0], [518.0, 52.0], [519.0, -10.0], [520.0, 54.0], [521.0, -11.0], [522.0, -120.0], [523.0, -61.0], [524.0, -26.0], [525.0, 68.0], [526.0, -31.0], [527.0, 3.0], [528.0, 98.0], [529.0, 38.0], [530.0, 60.0], [531.0, -5.0], [532.0, 60.0], [533.0, 3.0], [534.0, -145.0], [535.0, -72.0], [536.0, -31.0], [537.0, 64.0], [538.0, -42.0], [539.0, -5.0], [540.0, 84.0], [541.0, 29.0], [542.0, 74.0], [543.0, -1.0], [544.0, 78.0], [545.0, 20.0], [546.0, -198.0], [547.0, -57.0], [548.0, -40.0], [549.0, 60.0], [550.0, -18.0], [551.0, 1.0], [552.0, 113.0], [553.0, 42.0], [554.0, 96.0], [555.0, -45.0], [556.0, 106.0], [557.0, 16.0], [558.0, -200.0], [559.0, -70.0], [560.0, -32.0], [561.0, 86.0], [562.0, -42.0], [563.0, -5.0], [564.0, 67.0], [565.0, 123.0], [566.0, 83.0], [567.0, -44.0], [568.0, 122.0], [569.0, -23.0], [570.0, -208.0], [571.0, -59.0], [572.0, -62.0], [573.0, 86.0]]}, \"id\": \"el202140021250959696\"});\n",
       "            })\n",
       "         });\n",
       "}\n",
       "</script>"
      ],
      "text/plain": [
       "<matplotlib.figure.Figure at 0x7f593ceca950>"
      ]
     },
     "metadata": {},
     "output_type": "display_data"
    }
   ],
   "source": [
    "df.plot(y='diff_hats_sold')"
   ]
  },
  {
   "cell_type": "markdown",
   "metadata": {},
   "source": [
    "Interesting. So as we can see, differencing has eliminated our trend, so now the data is stationary. This is good, it means that the trend was simple, so we easily use it to predict the future. If wasn't stationary after differencing (still had some obvious trend) we would have to keep differencing until we induced stationarity.\n",
    "\n",
    "What is now obvious about how our data is changing over time? It looks like variance increases a lot.\n",
    "\n",
    "A common trick to controlling variance is to *take the log*. As we saw in the intro, this has the effect of keeping big changes in a consistent range.\n",
    "\n",
    "But wait! It looks like the differenced data has a lot of negative values - and you can't take the log of negative values. So rather than differencing and then logging, we're going to have to log first and then difference.\n",
    "\n",
    "Let's take the log of our original data. Create a new column called `'log_hats_sold'` and set it equal to the log of `df.hats_sold`.\n",
    "\n",
    "Then, on the second line, plot the column using **`df.plot(y='log_hats_sold')`**.\n",
    "\n",
    "*NOTE: recall that the function to call is `np.log()`*"
   ]
  },
  {
   "cell_type": "code",
   "execution_count": 45,
   "metadata": {},
   "outputs": [
    {
     "data": {
      "text/plain": [
       "<matplotlib.axes._subplots.AxesSubplot at 0x7f593cb59710>"
      ]
     },
     "execution_count": 45,
     "metadata": {},
     "output_type": "execute_result"
    },
    {
     "data": {
      "image/png": "[encoded data removed]",
      "text/html": [
       "\n",
       "\n",
       "<style>\n",
       "\n",
       "</style>\n",
       "\n",
       "<div id=\"fig_el2021400212475486248334056768\"></div>\n",
       "<script>\n",
       "function mpld3_load_lib(url, callback){\n",
       "  var s = document.createElement('script');\n",
       "  s.src = url;\n",
       "  s.async = true;\n",
       "  s.onreadystatechange = s.onload = callback;\n",
       "  s.onerror = function(){console.warn(\"failed to load library \" + url);};\n",
       "  document.getElementsByTagName(\"head\")[0].appendChild(s);\n",
       "}\n",
       "\n",
       "if(typeof(mpld3) !== \"undefined\" && mpld3._mpld3IsLoaded){\n",
       "   // already loaded: just create the figure\n",
       "   !function(mpld3){\n",
       "       \n",
       "       mpld3.draw_figure(\"fig_el2021400212475486248334056768\", {\"axes\": [{\"xlim\": [422.85, 580.15], \"yscale\": \"linear\", \"axesbg\": \"#FFFFFF\", \"texts\": [{\"v_baseline\": \"hanging\", \"h_anchor\": \"middle\", \"color\": \"#000000\", \"text\": \"month\", \"coordinates\": \"axes\", \"zorder\": 3, \"alpha\": 1, \"fontsize\": 10.0, \"position\": [0.49999999999999994, -0.09657836644591611], \"rotation\": -0.0, \"id\": \"el202140021246910992\"}, {\"v_baseline\": \"auto\", \"h_anchor\": \"start\", \"color\": \"#000000\", \"text\": \"log_hats_sold\", \"coordinates\": \"axes\", \"zorder\": 1000003.0, \"alpha\": 1, \"fontsize\": 10.0, \"position\": [0.11051373954599761, 0.9218175128771156], \"rotation\": -0.0, \"id\": \"el202140021246886224\"}], \"zoomable\": true, \"images\": [], \"xdomain\": [[2005, 2, 31, 0, 0, 0, 0], [2018, 4, 31, 0, 0, 0, 0]], \"ylim\": [4.83513427057244, 6.861761391437268], \"paths\": [{\"edgecolor\": \"#CCCCCC\", \"facecolor\": \"#FFFFFF\", \"edgewidth\": 1.0, \"pathcodes\": [\"M\", \"L\", \"S\", \"L\", \"S\", \"L\", \"S\", \"L\", \"S\", \"Z\"], \"yindex\": 1, \"coordinates\": \"axes\", \"dasharray\": \"none\", \"zorder\": 1000000.0, \"alpha\": 0.8, \"xindex\": 0, \"data\": \"data03\", \"id\": \"el202140021246789968\"}], \"sharey\": [], \"sharex\": [], \"axesbgalpha\": null, \"axes\": [{\"scale\": \"linear\", \"tickformat\": null, \"grid\": {\"gridOn\": false}, \"visible\": true, \"fontsize\": 10.0, \"position\": \"bottom\", \"nticks\": 6, \"tickvalues\": null}, {\"scale\": \"linear\", \"tickformat\": null, \"grid\": {\"gridOn\": false}, \"visible\": true, \"fontsize\": 10.0, \"position\": \"left\", \"nticks\": 10, \"tickvalues\": null}], \"lines\": [{\"drawstyle\": \"default\", \"color\": \"#1F77B4\", \"yindex\": 1, \"coordinates\": \"data\", \"dasharray\": \"none\", \"zorder\": 2, \"alpha\": 1, \"xindex\": 0, \"linewidth\": 1.5, \"data\": \"data01\", \"id\": \"el202140021246945488\"}, {\"drawstyle\": \"default\", \"color\": \"#1F77B4\", \"yindex\": 1, \"coordinates\": \"axes\", \"dasharray\": \"none\", \"zorder\": 1000002.0, \"alpha\": 1, \"xindex\": 0, \"linewidth\": 1.5, \"data\": \"data02\", \"id\": \"el202140021246886608\"}], \"markers\": [], \"id\": \"el202140021247350544\", \"ydomain\": [4.83513427057244, 6.861761391437268], \"collections\": [], \"xscale\": \"date\", \"bbox\": [0.125, 0.125, 0.775, 0.755]}], \"height\": 288.0, \"width\": 432.0, \"plugins\": [{\"type\": \"reset\"}, {\"enabled\": false, \"button\": true, \"type\": \"zoom\"}, {\"enabled\": false, \"button\": true, \"type\": \"boxzoom\"}], \"data\": {\"data02\": [[0.026881720430107503, 0.9379139072847682], [0.08661887694145756, 0.9379139072847682]], \"data03\": [[0.020908004778972505, 0.8900558774834437], [0.31772700119474306, 0.8900558774834437], [0.3237007168458781, 0.8900558774834437], [0.3237007168458781, 0.8992538171449596], [0.3237007168458781, 0.9678072111846947], [0.3237007168458781, 0.9770051508462105], [0.31772700119474306, 0.9770051508462105], [0.020908004778972505, 0.9770051508462105], [0.014934289127837508, 0.9770051508462105], [0.014934289127837508, 0.9678072111846947], [0.014934289127837508, 0.8992538171449596], [0.014934289127837508, 0.8900558774834437], [0.020908004778972505, 0.8900558774834437]], \"data01\": [[430.0, 4.948759890378168], [431.0, 5.056245805348308], [432.0, 5.220355825078324], [433.0, 5.293304824724492], [434.0, 5.313205979041787], [435.0, 5.241747015059643], [436.0, 5.332718793265369], [437.0, 5.332718793265369], [438.0, 5.14166355650266], [439.0, 5.0106352940962555], [440.0, 4.927253685157205], [441.0, 5.10594547390058], [442.0, 4.976733742420574], [443.0, 5.123963979403259], [444.0, 5.2832037287379885], [445.0, 5.337538079701318], [446.0, 5.3471075307174685], [447.0, 5.342334251964811], [448.0, 5.472270673671475], [449.0, 5.472270673671475], [450.0, 5.293304824724492], [451.0, 5.123963979403259], [452.0, 5.0238805208462765], [453.0, 5.278114659230517], [454.0, 5.209486152841421], [455.0, 5.298317366548036], [456.0, 5.517452896464707], [457.0, 5.5254529391317835], [458.0, 5.666426688112432], [459.0, 5.517452896464707], [460.0, 5.631211781821365], [461.0, 5.631211781821365], [462.0, 5.44673737166631], [463.0, 5.318119993844216], [464.0, 5.267858159063328], [465.0, 5.44673737166631], [466.0, 5.3706380281276624], [467.0, 5.476463551931511], [468.0, 5.598421958998375], [469.0, 5.631211781821365], [470.0, 5.726847747587197], [471.0, 5.720311776607412], [472.0, 5.7745515455444085], [473.0, 5.82600010738045], [474.0, 5.572154032177765], [475.0, 5.484796933490655], [476.0, 5.43372200355424], [477.0, 5.605802066295998], [478.0, 5.5093883366279774], [479.0, 5.564520407322694], [480.0, 5.799092654460526], [481.0, 5.8916442118257715], [482.0, 5.953243334287785], [483.0, 5.8289456176102075], [484.0, 5.91350300563827], [485.0, 5.942799375126701], [486.0, 5.700443573390687], [487.0, 5.583496308781699], [488.0, 5.476463551931511], [489.0, 5.638354669333745], [490.0, 5.54907608489522], [491.0, 5.521460917862246], [492.0, 5.796057750765372], [493.0, 5.857933154483459], [494.0, 5.973809611869261], [495.0, 5.91350300563827], [496.0, 6.0473721790462776], [497.0, 6.016157159698354], [498.0, 5.786897381366708], [499.0, 5.666426688112432], [500.0, 5.598421958998375], [501.0, 5.771441123130016], [502.0, 5.720311776607412], [503.0, 5.736572297479192], [504.0, 5.924255797414532], [505.0, 6.025865973825314], [506.0, 6.118097198041348], [507.0, 6.089044875446846], [508.0, 6.234410725718371], [509.0, 6.186208623900494], [510.0, 5.973809611869261], [511.0, 5.84354441703136], [512.0, 5.752572638825633], [513.0, 5.963579343618446], [514.0, 5.8805329864007], [515.0, 5.908082938168931], [516.0, 6.095824562432225], [517.0, 6.1779441140506], [518.0, 6.280395838960195], [519.0, 6.261491684321042], [520.0, 6.359573868672378], [521.0, 6.340359303727752], [522.0, 6.102558594613569], [523.0, 5.955837369464831], [524.0, 5.886104031450156], [525.0, 6.059123195581797], [526.0, 5.983936280687191], [527.0, 5.991464547107982], [528.0, 6.210600077024653], [529.0, 6.284134161070802], [530.0, 6.39024066706535], [531.0, 6.3818160174060985], [532.0, 6.478509642208569], [533.0, 6.483107351457199], [534.0, 6.2324480165505225], [535.0, 6.07993319509559], [536.0, 6.0063531596017325], [537.0, 6.152732694704104], [538.0, 6.059123195581797], [539.0, 6.0473721790462776], [540.0, 6.2285110035911835], [541.0, 6.284134161070802], [542.0, 6.413458957167357], [543.0, 6.411818267709897], [544.0, 6.532334292222349], [545.0, 6.561030665896573], [546.0, 6.2324480165505225], [547.0, 6.113682179832232], [548.0, 6.021023349349527], [549.0, 6.156978985585555], [550.0, 6.118097198041348], [551.0, 6.12029741895095], [552.0, 6.342121418721152], [553.0, 6.413458957167357], [554.0, 6.559615237493242], [555.0, 6.493753839851686], [556.0, 6.642486801367256], [557.0, 6.663132695990803], [558.0, 6.368187186350492], [559.0, 6.240275845170769], [560.0, 6.175867270105761], [561.0, 6.340359303727752], [562.0, 6.263398262591624], [563.0, 6.253828811575473], [564.0, 6.375024819828097], [565.0, 6.565264970035361], [566.0, 6.675823221634848], [567.0, 6.618738983517219], [568.0, 6.769641976852503], [569.0, 6.742880635791903], [570.0, 6.461468176353717], [571.0, 6.364750756851911], [572.0, 6.251903883165888], [573.0, 6.405228458030842]]}, \"id\": \"el202140021247548624\"});\n",
       "   }(mpld3);\n",
       "}else if(typeof define === \"function\" && define.amd){\n",
       "   // require.js is available: use it to load d3/mpld3\n",
       "   require.config({paths: {d3: \"https://mpld3.github.io/js/d3.v3.min\"}});\n",
       "   require([\"d3\"], function(d3){\n",
       "      window.d3 = d3;\n",
       "      mpld3_load_lib(\"https://mpld3.github.io/js/mpld3.v0.3.js\", function(){\n",
       "         \n",
       "         mpld3.draw_figure(\"fig_el2021400212475486248334056768\", {\"axes\": [{\"xlim\": [422.85, 580.15], \"yscale\": \"linear\", \"axesbg\": \"#FFFFFF\", \"texts\": [{\"v_baseline\": \"hanging\", \"h_anchor\": \"middle\", \"color\": \"#000000\", \"text\": \"month\", \"coordinates\": \"axes\", \"zorder\": 3, \"alpha\": 1, \"fontsize\": 10.0, \"position\": [0.49999999999999994, -0.09657836644591611], \"rotation\": -0.0, \"id\": \"el202140021246910992\"}, {\"v_baseline\": \"auto\", \"h_anchor\": \"start\", \"color\": \"#000000\", \"text\": \"log_hats_sold\", \"coordinates\": \"axes\", \"zorder\": 1000003.0, \"alpha\": 1, \"fontsize\": 10.0, \"position\": [0.11051373954599761, 0.9218175128771156], \"rotation\": -0.0, \"id\": \"el202140021246886224\"}], \"zoomable\": true, \"images\": [], \"xdomain\": [[2005, 2, 31, 0, 0, 0, 0], [2018, 4, 31, 0, 0, 0, 0]], \"ylim\": [4.83513427057244, 6.861761391437268], \"paths\": [{\"edgecolor\": \"#CCCCCC\", \"facecolor\": \"#FFFFFF\", \"edgewidth\": 1.0, \"pathcodes\": [\"M\", \"L\", \"S\", \"L\", \"S\", \"L\", \"S\", \"L\", \"S\", \"Z\"], \"yindex\": 1, \"coordinates\": \"axes\", \"dasharray\": \"none\", \"zorder\": 1000000.0, \"alpha\": 0.8, \"xindex\": 0, \"data\": \"data03\", \"id\": \"el202140021246789968\"}], \"sharey\": [], \"sharex\": [], \"axesbgalpha\": null, \"axes\": [{\"scale\": \"linear\", \"tickformat\": null, \"grid\": {\"gridOn\": false}, \"visible\": true, \"fontsize\": 10.0, \"position\": \"bottom\", \"nticks\": 6, \"tickvalues\": null}, {\"scale\": \"linear\", \"tickformat\": null, \"grid\": {\"gridOn\": false}, \"visible\": true, \"fontsize\": 10.0, \"position\": \"left\", \"nticks\": 10, \"tickvalues\": null}], \"lines\": [{\"drawstyle\": \"default\", \"color\": \"#1F77B4\", \"yindex\": 1, \"coordinates\": \"data\", \"dasharray\": \"none\", \"zorder\": 2, \"alpha\": 1, \"xindex\": 0, \"linewidth\": 1.5, \"data\": \"data01\", \"id\": \"el202140021246945488\"}, {\"drawstyle\": \"default\", \"color\": \"#1F77B4\", \"yindex\": 1, \"coordinates\": \"axes\", \"dasharray\": \"none\", \"zorder\": 1000002.0, \"alpha\": 1, \"xindex\": 0, \"linewidth\": 1.5, \"data\": \"data02\", \"id\": \"el202140021246886608\"}], \"markers\": [], \"id\": \"el202140021247350544\", \"ydomain\": [4.83513427057244, 6.861761391437268], \"collections\": [], \"xscale\": \"date\", \"bbox\": [0.125, 0.125, 0.775, 0.755]}], \"height\": 288.0, \"width\": 432.0, \"plugins\": [{\"type\": \"reset\"}, {\"enabled\": false, \"button\": true, \"type\": \"zoom\"}, {\"enabled\": false, \"button\": true, \"type\": \"boxzoom\"}], \"data\": {\"data02\": [[0.026881720430107503, 0.9379139072847682], [0.08661887694145756, 0.9379139072847682]], \"data03\": [[0.020908004778972505, 0.8900558774834437], [0.31772700119474306, 0.8900558774834437], [0.3237007168458781, 0.8900558774834437], [0.3237007168458781, 0.8992538171449596], [0.3237007168458781, 0.9678072111846947], [0.3237007168458781, 0.9770051508462105], [0.31772700119474306, 0.9770051508462105], [0.020908004778972505, 0.9770051508462105], [0.014934289127837508, 0.9770051508462105], [0.014934289127837508, 0.9678072111846947], [0.014934289127837508, 0.8992538171449596], [0.014934289127837508, 0.8900558774834437], [0.020908004778972505, 0.8900558774834437]], \"data01\": [[430.0, 4.948759890378168], [431.0, 5.056245805348308], [432.0, 5.220355825078324], [433.0, 5.293304824724492], [434.0, 5.313205979041787], [435.0, 5.241747015059643], [436.0, 5.332718793265369], [437.0, 5.332718793265369], [438.0, 5.14166355650266], [439.0, 5.0106352940962555], [440.0, 4.927253685157205], [441.0, 5.10594547390058], [442.0, 4.976733742420574], [443.0, 5.123963979403259], [444.0, 5.2832037287379885], [445.0, 5.337538079701318], [446.0, 5.3471075307174685], [447.0, 5.342334251964811], [448.0, 5.472270673671475], [449.0, 5.472270673671475], [450.0, 5.293304824724492], [451.0, 5.123963979403259], [452.0, 5.0238805208462765], [453.0, 5.278114659230517], [454.0, 5.209486152841421], [455.0, 5.298317366548036], [456.0, 5.517452896464707], [457.0, 5.5254529391317835], [458.0, 5.666426688112432], [459.0, 5.517452896464707], [460.0, 5.631211781821365], [461.0, 5.631211781821365], [462.0, 5.44673737166631], [463.0, 5.318119993844216], [464.0, 5.267858159063328], [465.0, 5.44673737166631], [466.0, 5.3706380281276624], [467.0, 5.476463551931511], [468.0, 5.598421958998375], [469.0, 5.631211781821365], [470.0, 5.726847747587197], [471.0, 5.720311776607412], [472.0, 5.7745515455444085], [473.0, 5.82600010738045], [474.0, 5.572154032177765], [475.0, 5.484796933490655], [476.0, 5.43372200355424], [477.0, 5.605802066295998], [478.0, 5.5093883366279774], [479.0, 5.564520407322694], [480.0, 5.799092654460526], [481.0, 5.8916442118257715], [482.0, 5.953243334287785], [483.0, 5.8289456176102075], [484.0, 5.91350300563827], [485.0, 5.942799375126701], [486.0, 5.700443573390687], [487.0, 5.583496308781699], [488.0, 5.476463551931511], [489.0, 5.638354669333745], [490.0, 5.54907608489522], [491.0, 5.521460917862246], [492.0, 5.796057750765372], [493.0, 5.857933154483459], [494.0, 5.973809611869261], [495.0, 5.91350300563827], [496.0, 6.0473721790462776], [497.0, 6.016157159698354], [498.0, 5.786897381366708], [499.0, 5.666426688112432], [500.0, 5.598421958998375], [501.0, 5.771441123130016], [502.0, 5.720311776607412], [503.0, 5.736572297479192], [504.0, 5.924255797414532], [505.0, 6.025865973825314], [506.0, 6.118097198041348], [507.0, 6.089044875446846], [508.0, 6.234410725718371], [509.0, 6.186208623900494], [510.0, 5.973809611869261], [511.0, 5.84354441703136], [512.0, 5.752572638825633], [513.0, 5.963579343618446], [514.0, 5.8805329864007], [515.0, 5.908082938168931], [516.0, 6.095824562432225], [517.0, 6.1779441140506], [518.0, 6.280395838960195], [519.0, 6.261491684321042], [520.0, 6.359573868672378], [521.0, 6.340359303727752], [522.0, 6.102558594613569], [523.0, 5.955837369464831], [524.0, 5.886104031450156], [525.0, 6.059123195581797], [526.0, 5.983936280687191], [527.0, 5.991464547107982], [528.0, 6.210600077024653], [529.0, 6.284134161070802], [530.0, 6.39024066706535], [531.0, 6.3818160174060985], [532.0, 6.478509642208569], [533.0, 6.483107351457199], [534.0, 6.2324480165505225], [535.0, 6.07993319509559], [536.0, 6.0063531596017325], [537.0, 6.152732694704104], [538.0, 6.059123195581797], [539.0, 6.0473721790462776], [540.0, 6.2285110035911835], [541.0, 6.284134161070802], [542.0, 6.413458957167357], [543.0, 6.411818267709897], [544.0, 6.532334292222349], [545.0, 6.561030665896573], [546.0, 6.2324480165505225], [547.0, 6.113682179832232], [548.0, 6.021023349349527], [549.0, 6.156978985585555], [550.0, 6.118097198041348], [551.0, 6.12029741895095], [552.0, 6.342121418721152], [553.0, 6.413458957167357], [554.0, 6.559615237493242], [555.0, 6.493753839851686], [556.0, 6.642486801367256], [557.0, 6.663132695990803], [558.0, 6.368187186350492], [559.0, 6.240275845170769], [560.0, 6.175867270105761], [561.0, 6.340359303727752], [562.0, 6.263398262591624], [563.0, 6.253828811575473], [564.0, 6.375024819828097], [565.0, 6.565264970035361], [566.0, 6.675823221634848], [567.0, 6.618738983517219], [568.0, 6.769641976852503], [569.0, 6.742880635791903], [570.0, 6.461468176353717], [571.0, 6.364750756851911], [572.0, 6.251903883165888], [573.0, 6.405228458030842]]}, \"id\": \"el202140021247548624\"});\n",
       "      });\n",
       "    });\n",
       "}else{\n",
       "    // require.js not available: dynamically load d3 & mpld3\n",
       "    mpld3_load_lib(\"https://mpld3.github.io/js/d3.v3.min.js\", function(){\n",
       "         mpld3_load_lib(\"https://mpld3.github.io/js/mpld3.v0.3.js\", function(){\n",
       "                 \n",
       "                 mpld3.draw_figure(\"fig_el2021400212475486248334056768\", {\"axes\": [{\"xlim\": [422.85, 580.15], \"yscale\": \"linear\", \"axesbg\": \"#FFFFFF\", \"texts\": [{\"v_baseline\": \"hanging\", \"h_anchor\": \"middle\", \"color\": \"#000000\", \"text\": \"month\", \"coordinates\": \"axes\", \"zorder\": 3, \"alpha\": 1, \"fontsize\": 10.0, \"position\": [0.49999999999999994, -0.09657836644591611], \"rotation\": -0.0, \"id\": \"el202140021246910992\"}, {\"v_baseline\": \"auto\", \"h_anchor\": \"start\", \"color\": \"#000000\", \"text\": \"log_hats_sold\", \"coordinates\": \"axes\", \"zorder\": 1000003.0, \"alpha\": 1, \"fontsize\": 10.0, \"position\": [0.11051373954599761, 0.9218175128771156], \"rotation\": -0.0, \"id\": \"el202140021246886224\"}], \"zoomable\": true, \"images\": [], \"xdomain\": [[2005, 2, 31, 0, 0, 0, 0], [2018, 4, 31, 0, 0, 0, 0]], \"ylim\": [4.83513427057244, 6.861761391437268], \"paths\": [{\"edgecolor\": \"#CCCCCC\", \"facecolor\": \"#FFFFFF\", \"edgewidth\": 1.0, \"pathcodes\": [\"M\", \"L\", \"S\", \"L\", \"S\", \"L\", \"S\", \"L\", \"S\", \"Z\"], \"yindex\": 1, \"coordinates\": \"axes\", \"dasharray\": \"none\", \"zorder\": 1000000.0, \"alpha\": 0.8, \"xindex\": 0, \"data\": \"data03\", \"id\": \"el202140021246789968\"}], \"sharey\": [], \"sharex\": [], \"axesbgalpha\": null, \"axes\": [{\"scale\": \"linear\", \"tickformat\": null, \"grid\": {\"gridOn\": false}, \"visible\": true, \"fontsize\": 10.0, \"position\": \"bottom\", \"nticks\": 6, \"tickvalues\": null}, {\"scale\": \"linear\", \"tickformat\": null, \"grid\": {\"gridOn\": false}, \"visible\": true, \"fontsize\": 10.0, \"position\": \"left\", \"nticks\": 10, \"tickvalues\": null}], \"lines\": [{\"drawstyle\": \"default\", \"color\": \"#1F77B4\", \"yindex\": 1, \"coordinates\": \"data\", \"dasharray\": \"none\", \"zorder\": 2, \"alpha\": 1, \"xindex\": 0, \"linewidth\": 1.5, \"data\": \"data01\", \"id\": \"el202140021246945488\"}, {\"drawstyle\": \"default\", \"color\": \"#1F77B4\", \"yindex\": 1, \"coordinates\": \"axes\", \"dasharray\": \"none\", \"zorder\": 1000002.0, \"alpha\": 1, \"xindex\": 0, \"linewidth\": 1.5, \"data\": \"data02\", \"id\": \"el202140021246886608\"}], \"markers\": [], \"id\": \"el202140021247350544\", \"ydomain\": [4.83513427057244, 6.861761391437268], \"collections\": [], \"xscale\": \"date\", \"bbox\": [0.125, 0.125, 0.775, 0.755]}], \"height\": 288.0, \"width\": 432.0, \"plugins\": [{\"type\": \"reset\"}, {\"enabled\": false, \"button\": true, \"type\": \"zoom\"}, {\"enabled\": false, \"button\": true, \"type\": \"boxzoom\"}], \"data\": {\"data02\": [[0.026881720430107503, 0.9379139072847682], [0.08661887694145756, 0.9379139072847682]], \"data03\": [[0.020908004778972505, 0.8900558774834437], [0.31772700119474306, 0.8900558774834437], [0.3237007168458781, 0.8900558774834437], [0.3237007168458781, 0.8992538171449596], [0.3237007168458781, 0.9678072111846947], [0.3237007168458781, 0.9770051508462105], [0.31772700119474306, 0.9770051508462105], [0.020908004778972505, 0.9770051508462105], [0.014934289127837508, 0.9770051508462105], [0.014934289127837508, 0.9678072111846947], [0.014934289127837508, 0.8992538171449596], [0.014934289127837508, 0.8900558774834437], [0.020908004778972505, 0.8900558774834437]], \"data01\": [[430.0, 4.948759890378168], [431.0, 5.056245805348308], [432.0, 5.220355825078324], [433.0, 5.293304824724492], [434.0, 5.313205979041787], [435.0, 5.241747015059643], [436.0, 5.332718793265369], [437.0, 5.332718793265369], [438.0, 5.14166355650266], [439.0, 5.0106352940962555], [440.0, 4.927253685157205], [441.0, 5.10594547390058], [442.0, 4.976733742420574], [443.0, 5.123963979403259], [444.0, 5.2832037287379885], [445.0, 5.337538079701318], [446.0, 5.3471075307174685], [447.0, 5.342334251964811], [448.0, 5.472270673671475], [449.0, 5.472270673671475], [450.0, 5.293304824724492], [451.0, 5.123963979403259], [452.0, 5.0238805208462765], [453.0, 5.278114659230517], [454.0, 5.209486152841421], [455.0, 5.298317366548036], [456.0, 5.517452896464707], [457.0, 5.5254529391317835], [458.0, 5.666426688112432], [459.0, 5.517452896464707], [460.0, 5.631211781821365], [461.0, 5.631211781821365], [462.0, 5.44673737166631], [463.0, 5.318119993844216], [464.0, 5.267858159063328], [465.0, 5.44673737166631], [466.0, 5.3706380281276624], [467.0, 5.476463551931511], [468.0, 5.598421958998375], [469.0, 5.631211781821365], [470.0, 5.726847747587197], [471.0, 5.720311776607412], [472.0, 5.7745515455444085], [473.0, 5.82600010738045], [474.0, 5.572154032177765], [475.0, 5.484796933490655], [476.0, 5.43372200355424], [477.0, 5.605802066295998], [478.0, 5.5093883366279774], [479.0, 5.564520407322694], [480.0, 5.799092654460526], [481.0, 5.8916442118257715], [482.0, 5.953243334287785], [483.0, 5.8289456176102075], [484.0, 5.91350300563827], [485.0, 5.942799375126701], [486.0, 5.700443573390687], [487.0, 5.583496308781699], [488.0, 5.476463551931511], [489.0, 5.638354669333745], [490.0, 5.54907608489522], [491.0, 5.521460917862246], [492.0, 5.796057750765372], [493.0, 5.857933154483459], [494.0, 5.973809611869261], [495.0, 5.91350300563827], [496.0, 6.0473721790462776], [497.0, 6.016157159698354], [498.0, 5.786897381366708], [499.0, 5.666426688112432], [500.0, 5.598421958998375], [501.0, 5.771441123130016], [502.0, 5.720311776607412], [503.0, 5.736572297479192], [504.0, 5.924255797414532], [505.0, 6.025865973825314], [506.0, 6.118097198041348], [507.0, 6.089044875446846], [508.0, 6.234410725718371], [509.0, 6.186208623900494], [510.0, 5.973809611869261], [511.0, 5.84354441703136], [512.0, 5.752572638825633], [513.0, 5.963579343618446], [514.0, 5.8805329864007], [515.0, 5.908082938168931], [516.0, 6.095824562432225], [517.0, 6.1779441140506], [518.0, 6.280395838960195], [519.0, 6.261491684321042], [520.0, 6.359573868672378], [521.0, 6.340359303727752], [522.0, 6.102558594613569], [523.0, 5.955837369464831], [524.0, 5.886104031450156], [525.0, 6.059123195581797], [526.0, 5.983936280687191], [527.0, 5.991464547107982], [528.0, 6.210600077024653], [529.0, 6.284134161070802], [530.0, 6.39024066706535], [531.0, 6.3818160174060985], [532.0, 6.478509642208569], [533.0, 6.483107351457199], [534.0, 6.2324480165505225], [535.0, 6.07993319509559], [536.0, 6.0063531596017325], [537.0, 6.152732694704104], [538.0, 6.059123195581797], [539.0, 6.0473721790462776], [540.0, 6.2285110035911835], [541.0, 6.284134161070802], [542.0, 6.413458957167357], [543.0, 6.411818267709897], [544.0, 6.532334292222349], [545.0, 6.561030665896573], [546.0, 6.2324480165505225], [547.0, 6.113682179832232], [548.0, 6.021023349349527], [549.0, 6.156978985585555], [550.0, 6.118097198041348], [551.0, 6.12029741895095], [552.0, 6.342121418721152], [553.0, 6.413458957167357], [554.0, 6.559615237493242], [555.0, 6.493753839851686], [556.0, 6.642486801367256], [557.0, 6.663132695990803], [558.0, 6.368187186350492], [559.0, 6.240275845170769], [560.0, 6.175867270105761], [561.0, 6.340359303727752], [562.0, 6.263398262591624], [563.0, 6.253828811575473], [564.0, 6.375024819828097], [565.0, 6.565264970035361], [566.0, 6.675823221634848], [567.0, 6.618738983517219], [568.0, 6.769641976852503], [569.0, 6.742880635791903], [570.0, 6.461468176353717], [571.0, 6.364750756851911], [572.0, 6.251903883165888], [573.0, 6.405228458030842]]}, \"id\": \"el202140021247548624\"});\n",
       "            })\n",
       "         });\n",
       "}\n",
       "</script>"
      ],
      "text/plain": [
       "<matplotlib.figure.Figure at 0x7f593cb89cd0>"
      ]
     },
     "metadata": {},
     "output_type": "display_data"
    }
   ],
   "source": [
    "df['log_hats_sold'] = np.log(df.hats_sold)\n",
    "df.plot(y='log_hats_sold')"
   ]
  },
  {
   "cell_type": "markdown",
   "metadata": {},
   "source": [
    "Excellent, should look like our variance is handled!\n",
    "\n",
    "Now let's take the difference of this new column, the same way we did before. The only difference is this time we're differencing the `'log_hats_sold'` column.\n",
    "\n",
    "Create a new column called `'difflog_hats_sold'`, set it equal to the `'log_hats_sold'` column differenced, and plot `'difflog_hats_sold'` on the second line:"
   ]
  },
  {
   "cell_type": "code",
   "execution_count": 46,
   "metadata": {},
   "outputs": [
    {
     "data": {
      "text/plain": [
       "<matplotlib.axes._subplots.AxesSubplot at 0x7f593ca893d0>"
      ]
     },
     "execution_count": 46,
     "metadata": {},
     "output_type": "execute_result"
    },
    {
     "data": {
      "image/png": "[encoded data removed]",
      "text/html": [
       "\n",
       "\n",
       "<style>\n",
       "\n",
       "</style>\n",
       "\n",
       "<div id=\"fig_el2021400212465338406119283121\"></div>\n",
       "<script>\n",
       "function mpld3_load_lib(url, callback){\n",
       "  var s = document.createElement('script');\n",
       "  s.src = url;\n",
       "  s.async = true;\n",
       "  s.onreadystatechange = s.onload = callback;\n",
       "  s.onerror = function(){console.warn(\"failed to load library \" + url);};\n",
       "  document.getElementsByTagName(\"head\")[0].appendChild(s);\n",
       "}\n",
       "\n",
       "if(typeof(mpld3) !== \"undefined\" && mpld3._mpld3IsLoaded){\n",
       "   // already loaded: just create the figure\n",
       "   !function(mpld3){\n",
       "       \n",
       "       mpld3.draw_figure(\"fig_el2021400212465338406119283121\", {\"axes\": [{\"xlim\": [423.9, 580.1], \"yscale\": \"linear\", \"axesbg\": \"#FFFFFF\", \"texts\": [{\"v_baseline\": \"hanging\", \"h_anchor\": \"middle\", \"color\": \"#000000\", \"text\": \"month\", \"coordinates\": \"axes\", \"zorder\": 3, \"alpha\": 1, \"fontsize\": 10.0, \"position\": [0.49999999999999994, -0.09657836644591611], \"rotation\": -0.0, \"id\": \"el202140021246945744\"}, {\"v_baseline\": \"auto\", \"h_anchor\": \"start\", \"color\": \"#000000\", \"text\": \"difflog_hats_sold\", \"coordinates\": \"axes\", \"zorder\": 1000003.0, \"alpha\": 1, \"fontsize\": 10.0, \"position\": [0.7225955794504182, 0.9218175128771156], \"rotation\": -0.0, \"id\": \"el202140020864248592\"}], \"zoomable\": true, \"images\": [], \"xdomain\": [[2005, 3, 30, 0, 0, 0, 0], [2018, 4, 31, 0, 0, 0, 0]], \"ylim\": [-0.35874162345850946, 0.3047558070155847], \"paths\": [{\"edgecolor\": \"#CCCCCC\", \"facecolor\": \"#FFFFFF\", \"edgewidth\": 1.0, \"pathcodes\": [\"M\", \"L\", \"S\", \"L\", \"S\", \"L\", \"S\", \"L\", \"S\", \"Z\"], \"yindex\": 1, \"coordinates\": \"axes\", \"dasharray\": \"none\", \"zorder\": 1000000.0, \"alpha\": 0.8, \"xindex\": 0, \"data\": \"data03\", \"id\": \"el202140020864246544\"}], \"sharey\": [], \"sharex\": [], \"axesbgalpha\": null, \"axes\": [{\"scale\": \"linear\", \"tickformat\": null, \"grid\": {\"gridOn\": false}, \"visible\": true, \"fontsize\": 10.0, \"position\": \"bottom\", \"nticks\": 6, \"tickvalues\": null}, {\"scale\": \"linear\", \"tickformat\": null, \"grid\": {\"gridOn\": false}, \"visible\": true, \"fontsize\": 10.0, \"position\": \"left\", \"nticks\": 9, \"tickvalues\": null}], \"lines\": [{\"drawstyle\": \"default\", \"color\": \"#1F77B4\", \"yindex\": 1, \"coordinates\": \"data\", \"dasharray\": \"none\", \"zorder\": 2, \"alpha\": 1, \"xindex\": 0, \"linewidth\": 1.5, \"data\": \"data01\", \"id\": \"el202140021246348368\"}, {\"drawstyle\": \"default\", \"color\": \"#1F77B4\", \"yindex\": 1, \"coordinates\": \"axes\", \"dasharray\": \"none\", \"zorder\": 1000002.0, \"alpha\": 1, \"xindex\": 0, \"linewidth\": 1.5, \"data\": \"data02\", \"id\": \"el202140020864248976\"}], \"markers\": [], \"id\": \"el202140021246497744\", \"ydomain\": [-0.35874162345850946, 0.3047558070155847], \"collections\": [], \"xscale\": \"date\", \"bbox\": [0.125, 0.125, 0.775, 0.755]}], \"height\": 288.0, \"width\": 432.0, \"plugins\": [{\"type\": \"reset\"}, {\"enabled\": false, \"button\": true, \"type\": \"zoom\"}, {\"enabled\": false, \"button\": true, \"type\": \"boxzoom\"}], \"data\": {\"data02\": [[0.6389635603345281, 0.9379139072847682], [0.6987007168458781, 0.9379139072847682]], \"data03\": [[0.632989844683393, 0.8900558774834437], [0.9790919952210274, 0.8900558774834437], [0.9850657108721624, 0.8900558774834437], [0.9850657108721624, 0.8992538171449596], [0.9850657108721624, 0.9678072111846947], [0.9850657108721624, 0.9770051508462105], [0.9790919952210274, 0.9770051508462105], [0.632989844683393, 0.9770051508462105], [0.627016129032258, 0.9770051508462105], [0.627016129032258, 0.9678072111846947], [0.627016129032258, 0.8992538171449596], [0.627016129032258, 0.8900558774834437], [0.632989844683393, 0.8900558774834437]], \"data01\": [[430.0, NaN], [431.0, 0.10748591497013926], [432.0, 0.1641100197300167], [433.0, 0.07294899964616786], [434.0, 0.01990115431729489], [435.0, -0.07145896398214457], [436.0, 0.09097177820572622], [437.0, 0.0], [438.0, -0.19105523676270852], [439.0, -0.13102826240640475], [440.0, -0.08338160893905044], [441.0, 0.1786917887433752], [442.0, -0.1292117314800061], [443.0, 0.14723023698268456], [444.0, 0.15923974933472973], [445.0, 0.05433435096332939], [446.0, 0.009569451016150587], [447.0, -0.004773278752657539], [448.0, 0.12993642170666408], [449.0, 0.0], [450.0, -0.17896584894698275], [451.0, -0.1693408453212335], [452.0, -0.10008345855698231], [453.0, 0.25423413838424036], [454.0, -0.06862850638909546], [455.0, 0.08883121370661495], [456.0, 0.21913552991667107], [457.0, 0.008000042667076102], [458.0, 0.14097374898064885], [459.0, -0.14897379164772495], [460.0, 0.11375888535665801], [461.0, 0.0], [462.0, -0.1844744101550555], [463.0, -0.12861737782209381], [464.0, -0.05026183478088786], [465.0, 0.17887921260298167], [466.0, -0.07609934353864745], [467.0, 0.10582552380384858], [468.0, 0.121958407066864], [469.0, 0.03278982282299037], [470.0, 0.09563596576583144], [471.0, -0.006535970979784977], [472.0, 0.05423976893699667], [473.0, 0.05144856183604141], [474.0, -0.2538460752026852], [475.0, -0.08735709868710995], [476.0, -0.051074929936414826], [477.0, 0.1720800627417578], [478.0, -0.09641372966802031], [479.0, 0.05513207069471626], [480.0, 0.23457224713783198], [481.0, 0.09255155736524578], [482.0, 0.061599122462013156], [483.0, -0.12429771667757716], [484.0, 0.08455738802806234], [485.0, 0.029296369488431395], [486.0, -0.24235580173601434], [487.0, -0.11694726460898774], [488.0, -0.1070327568501881], [489.0, 0.16189111740223439], [490.0, -0.08927858443852532], [491.0, -0.027615167032974064], [492.0, 0.27459683290312586], [493.0, 0.061875403718087085], [494.0, 0.11587645738580221], [495.0, -0.06030660623099138], [496.0, 0.13386917340800775], [497.0, -0.0312150193479237], [498.0, -0.22925977833164612], [499.0, -0.1204706932542754], [500.0, -0.0680047291140573], [501.0, 0.17301916413164076], [502.0, -0.051129346522603925], [503.0, 0.016260520871780315], [504.0, 0.18768349993534006], [505.0, 0.10161017641078196], [506.0, 0.09223122421603414], [507.0, -0.0290523225945023], [508.0, 0.14536585027152515], [509.0, -0.04820210181787754], [510.0, -0.21239901203123246], [511.0, -0.130265194837901], [512.0, -0.0909717782057271], [513.0, 0.2110067047928128], [514.0, -0.08304635721774556], [515.0, 0.02754995176823094], [516.0, 0.18774162426329344], [517.0, 0.08211955161837547], [518.0, 0.10245172490959487], [519.0, -0.01890415463915307], [520.0, 0.09808218435133575], [521.0, -0.019214564944626034], [522.0, -0.2378007091141825], [523.0, -0.1467212251487382], [524.0, -0.06973333801467518], [525.0, 0.17301916413164076], [526.0, -0.07518691489460583], [527.0, 0.007528266420790963], [528.0, 0.21913552991667107], [529.0, 0.07353408404614914], [530.0, 0.10610650599454807], [531.0, -0.008424649659251493], [532.0, 0.09669362480247035], [533.0, 0.004597709248630011], [534.0, -0.25065933490667636], [535.0, -0.15251482145493256], [536.0, -0.07358003549385739], [537.0, 0.14637953510237178], [538.0, -0.09360949912230776], [539.0, -0.011751016535519021], [540.0, 0.18113882454490593], [541.0, 0.055623157479618435], [542.0, 0.12932479609655534], [543.0, -0.0016406894574600983], [544.0, 0.12051602451245191], [545.0, 0.028696373674224063], [546.0, -0.32858264934605064], [547.0, -0.11876583671829088], [548.0, -0.09265883048270496], [549.0, 0.13595563623602835], [550.0, -0.03888178754420668], [551.0, 0.0022002209096019243], [552.0, 0.2218239997702014], [553.0, 0.0713375384462056], [554.0, 0.14615628032588468], [555.0, -0.06586139764155607], [556.0, 0.14873296151557014], [557.0, 0.020645894623546823], [558.0, -0.29494550964031063], [559.0, -0.1279113411797228], [560.0, -0.0644085750650083], [561.0, 0.1644920336219906], [562.0, -0.07696104113612812], [563.0, -0.009569451016150587], [564.0, 0.12119600825262378], [565.0, 0.1902401502072646], [566.0, 0.11055825159948629], [567.0, -0.057084238117628416], [568.0, 0.15090299333528367], [569.0, -0.026761341060599797], [570.0, -0.2814124594381857], [571.0, -0.09671741950180657], [572.0, -0.11284687368602242], [573.0, 0.15332457486495343]]}, \"id\": \"el202140021246533840\"});\n",
       "   }(mpld3);\n",
       "}else if(typeof define === \"function\" && define.amd){\n",
       "   // require.js is available: use it to load d3/mpld3\n",
       "   require.config({paths: {d3: \"https://mpld3.github.io/js/d3.v3.min\"}});\n",
       "   require([\"d3\"], function(d3){\n",
       "      window.d3 = d3;\n",
       "      mpld3_load_lib(\"https://mpld3.github.io/js/mpld3.v0.3.js\", function(){\n",
       "         \n",
       "         mpld3.draw_figure(\"fig_el2021400212465338406119283121\", {\"axes\": [{\"xlim\": [423.9, 580.1], \"yscale\": \"linear\", \"axesbg\": \"#FFFFFF\", \"texts\": [{\"v_baseline\": \"hanging\", \"h_anchor\": \"middle\", \"color\": \"#000000\", \"text\": \"month\", \"coordinates\": \"axes\", \"zorder\": 3, \"alpha\": 1, \"fontsize\": 10.0, \"position\": [0.49999999999999994, -0.09657836644591611], \"rotation\": -0.0, \"id\": \"el202140021246945744\"}, {\"v_baseline\": \"auto\", \"h_anchor\": \"start\", \"color\": \"#000000\", \"text\": \"difflog_hats_sold\", \"coordinates\": \"axes\", \"zorder\": 1000003.0, \"alpha\": 1, \"fontsize\": 10.0, \"position\": [0.7225955794504182, 0.9218175128771156], \"rotation\": -0.0, \"id\": \"el202140020864248592\"}], \"zoomable\": true, \"images\": [], \"xdomain\": [[2005, 3, 30, 0, 0, 0, 0], [2018, 4, 31, 0, 0, 0, 0]], \"ylim\": [-0.35874162345850946, 0.3047558070155847], \"paths\": [{\"edgecolor\": \"#CCCCCC\", \"facecolor\": \"#FFFFFF\", \"edgewidth\": 1.0, \"pathcodes\": [\"M\", \"L\", \"S\", \"L\", \"S\", \"L\", \"S\", \"L\", \"S\", \"Z\"], \"yindex\": 1, \"coordinates\": \"axes\", \"dasharray\": \"none\", \"zorder\": 1000000.0, \"alpha\": 0.8, \"xindex\": 0, \"data\": \"data03\", \"id\": \"el202140020864246544\"}], \"sharey\": [], \"sharex\": [], \"axesbgalpha\": null, \"axes\": [{\"scale\": \"linear\", \"tickformat\": null, \"grid\": {\"gridOn\": false}, \"visible\": true, \"fontsize\": 10.0, \"position\": \"bottom\", \"nticks\": 6, \"tickvalues\": null}, {\"scale\": \"linear\", \"tickformat\": null, \"grid\": {\"gridOn\": false}, \"visible\": true, \"fontsize\": 10.0, \"position\": \"left\", \"nticks\": 9, \"tickvalues\": null}], \"lines\": [{\"drawstyle\": \"default\", \"color\": \"#1F77B4\", \"yindex\": 1, \"coordinates\": \"data\", \"dasharray\": \"none\", \"zorder\": 2, \"alpha\": 1, \"xindex\": 0, \"linewidth\": 1.5, \"data\": \"data01\", \"id\": \"el202140021246348368\"}, {\"drawstyle\": \"default\", \"color\": \"#1F77B4\", \"yindex\": 1, \"coordinates\": \"axes\", \"dasharray\": \"none\", \"zorder\": 1000002.0, \"alpha\": 1, \"xindex\": 0, \"linewidth\": 1.5, \"data\": \"data02\", \"id\": \"el202140020864248976\"}], \"markers\": [], \"id\": \"el202140021246497744\", \"ydomain\": [-0.35874162345850946, 0.3047558070155847], \"collections\": [], \"xscale\": \"date\", \"bbox\": [0.125, 0.125, 0.775, 0.755]}], \"height\": 288.0, \"width\": 432.0, \"plugins\": [{\"type\": \"reset\"}, {\"enabled\": false, \"button\": true, \"type\": \"zoom\"}, {\"enabled\": false, \"button\": true, \"type\": \"boxzoom\"}], \"data\": {\"data02\": [[0.6389635603345281, 0.9379139072847682], [0.6987007168458781, 0.9379139072847682]], \"data03\": [[0.632989844683393, 0.8900558774834437], [0.9790919952210274, 0.8900558774834437], [0.9850657108721624, 0.8900558774834437], [0.9850657108721624, 0.8992538171449596], [0.9850657108721624, 0.9678072111846947], [0.9850657108721624, 0.9770051508462105], [0.9790919952210274, 0.9770051508462105], [0.632989844683393, 0.9770051508462105], [0.627016129032258, 0.9770051508462105], [0.627016129032258, 0.9678072111846947], [0.627016129032258, 0.8992538171449596], [0.627016129032258, 0.8900558774834437], [0.632989844683393, 0.8900558774834437]], \"data01\": [[430.0, NaN], [431.0, 0.10748591497013926], [432.0, 0.1641100197300167], [433.0, 0.07294899964616786], [434.0, 0.01990115431729489], [435.0, -0.07145896398214457], [436.0, 0.09097177820572622], [437.0, 0.0], [438.0, -0.19105523676270852], [439.0, -0.13102826240640475], [440.0, -0.08338160893905044], [441.0, 0.1786917887433752], [442.0, -0.1292117314800061], [443.0, 0.14723023698268456], [444.0, 0.15923974933472973], [445.0, 0.05433435096332939], [446.0, 0.009569451016150587], [447.0, -0.004773278752657539], [448.0, 0.12993642170666408], [449.0, 0.0], [450.0, -0.17896584894698275], [451.0, -0.1693408453212335], [452.0, -0.10008345855698231], [453.0, 0.25423413838424036], [454.0, -0.06862850638909546], [455.0, 0.08883121370661495], [456.0, 0.21913552991667107], [457.0, 0.008000042667076102], [458.0, 0.14097374898064885], [459.0, -0.14897379164772495], [460.0, 0.11375888535665801], [461.0, 0.0], [462.0, -0.1844744101550555], [463.0, -0.12861737782209381], [464.0, -0.05026183478088786], [465.0, 0.17887921260298167], [466.0, -0.07609934353864745], [467.0, 0.10582552380384858], [468.0, 0.121958407066864], [469.0, 0.03278982282299037], [470.0, 0.09563596576583144], [471.0, -0.006535970979784977], [472.0, 0.05423976893699667], [473.0, 0.05144856183604141], [474.0, -0.2538460752026852], [475.0, -0.08735709868710995], [476.0, -0.051074929936414826], [477.0, 0.1720800627417578], [478.0, -0.09641372966802031], [479.0, 0.05513207069471626], [480.0, 0.23457224713783198], [481.0, 0.09255155736524578], [482.0, 0.061599122462013156], [483.0, -0.12429771667757716], [484.0, 0.08455738802806234], [485.0, 0.029296369488431395], [486.0, -0.24235580173601434], [487.0, -0.11694726460898774], [488.0, -0.1070327568501881], [489.0, 0.16189111740223439], [490.0, -0.08927858443852532], [491.0, -0.027615167032974064], [492.0, 0.27459683290312586], [493.0, 0.061875403718087085], [494.0, 0.11587645738580221], [495.0, -0.06030660623099138], [496.0, 0.13386917340800775], [497.0, -0.0312150193479237], [498.0, -0.22925977833164612], [499.0, -0.1204706932542754], [500.0, -0.0680047291140573], [501.0, 0.17301916413164076], [502.0, -0.051129346522603925], [503.0, 0.016260520871780315], [504.0, 0.18768349993534006], [505.0, 0.10161017641078196], [506.0, 0.09223122421603414], [507.0, -0.0290523225945023], [508.0, 0.14536585027152515], [509.0, -0.04820210181787754], [510.0, -0.21239901203123246], [511.0, -0.130265194837901], [512.0, -0.0909717782057271], [513.0, 0.2110067047928128], [514.0, -0.08304635721774556], [515.0, 0.02754995176823094], [516.0, 0.18774162426329344], [517.0, 0.08211955161837547], [518.0, 0.10245172490959487], [519.0, -0.01890415463915307], [520.0, 0.09808218435133575], [521.0, -0.019214564944626034], [522.0, -0.2378007091141825], [523.0, -0.1467212251487382], [524.0, -0.06973333801467518], [525.0, 0.17301916413164076], [526.0, -0.07518691489460583], [527.0, 0.007528266420790963], [528.0, 0.21913552991667107], [529.0, 0.07353408404614914], [530.0, 0.10610650599454807], [531.0, -0.008424649659251493], [532.0, 0.09669362480247035], [533.0, 0.004597709248630011], [534.0, -0.25065933490667636], [535.0, -0.15251482145493256], [536.0, -0.07358003549385739], [537.0, 0.14637953510237178], [538.0, -0.09360949912230776], [539.0, -0.011751016535519021], [540.0, 0.18113882454490593], [541.0, 0.055623157479618435], [542.0, 0.12932479609655534], [543.0, -0.0016406894574600983], [544.0, 0.12051602451245191], [545.0, 0.028696373674224063], [546.0, -0.32858264934605064], [547.0, -0.11876583671829088], [548.0, -0.09265883048270496], [549.0, 0.13595563623602835], [550.0, -0.03888178754420668], [551.0, 0.0022002209096019243], [552.0, 0.2218239997702014], [553.0, 0.0713375384462056], [554.0, 0.14615628032588468], [555.0, -0.06586139764155607], [556.0, 0.14873296151557014], [557.0, 0.020645894623546823], [558.0, -0.29494550964031063], [559.0, -0.1279113411797228], [560.0, -0.0644085750650083], [561.0, 0.1644920336219906], [562.0, -0.07696104113612812], [563.0, -0.009569451016150587], [564.0, 0.12119600825262378], [565.0, 0.1902401502072646], [566.0, 0.11055825159948629], [567.0, -0.057084238117628416], [568.0, 0.15090299333528367], [569.0, -0.026761341060599797], [570.0, -0.2814124594381857], [571.0, -0.09671741950180657], [572.0, -0.11284687368602242], [573.0, 0.15332457486495343]]}, \"id\": \"el202140021246533840\"});\n",
       "      });\n",
       "    });\n",
       "}else{\n",
       "    // require.js not available: dynamically load d3 & mpld3\n",
       "    mpld3_load_lib(\"https://mpld3.github.io/js/d3.v3.min.js\", function(){\n",
       "         mpld3_load_lib(\"https://mpld3.github.io/js/mpld3.v0.3.js\", function(){\n",
       "                 \n",
       "                 mpld3.draw_figure(\"fig_el2021400212465338406119283121\", {\"axes\": [{\"xlim\": [423.9, 580.1], \"yscale\": \"linear\", \"axesbg\": \"#FFFFFF\", \"texts\": [{\"v_baseline\": \"hanging\", \"h_anchor\": \"middle\", \"color\": \"#000000\", \"text\": \"month\", \"coordinates\": \"axes\", \"zorder\": 3, \"alpha\": 1, \"fontsize\": 10.0, \"position\": [0.49999999999999994, -0.09657836644591611], \"rotation\": -0.0, \"id\": \"el202140021246945744\"}, {\"v_baseline\": \"auto\", \"h_anchor\": \"start\", \"color\": \"#000000\", \"text\": \"difflog_hats_sold\", \"coordinates\": \"axes\", \"zorder\": 1000003.0, \"alpha\": 1, \"fontsize\": 10.0, \"position\": [0.7225955794504182, 0.9218175128771156], \"rotation\": -0.0, \"id\": \"el202140020864248592\"}], \"zoomable\": true, \"images\": [], \"xdomain\": [[2005, 3, 30, 0, 0, 0, 0], [2018, 4, 31, 0, 0, 0, 0]], \"ylim\": [-0.35874162345850946, 0.3047558070155847], \"paths\": [{\"edgecolor\": \"#CCCCCC\", \"facecolor\": \"#FFFFFF\", \"edgewidth\": 1.0, \"pathcodes\": [\"M\", \"L\", \"S\", \"L\", \"S\", \"L\", \"S\", \"L\", \"S\", \"Z\"], \"yindex\": 1, \"coordinates\": \"axes\", \"dasharray\": \"none\", \"zorder\": 1000000.0, \"alpha\": 0.8, \"xindex\": 0, \"data\": \"data03\", \"id\": \"el202140020864246544\"}], \"sharey\": [], \"sharex\": [], \"axesbgalpha\": null, \"axes\": [{\"scale\": \"linear\", \"tickformat\": null, \"grid\": {\"gridOn\": false}, \"visible\": true, \"fontsize\": 10.0, \"position\": \"bottom\", \"nticks\": 6, \"tickvalues\": null}, {\"scale\": \"linear\", \"tickformat\": null, \"grid\": {\"gridOn\": false}, \"visible\": true, \"fontsize\": 10.0, \"position\": \"left\", \"nticks\": 9, \"tickvalues\": null}], \"lines\": [{\"drawstyle\": \"default\", \"color\": \"#1F77B4\", \"yindex\": 1, \"coordinates\": \"data\", \"dasharray\": \"none\", \"zorder\": 2, \"alpha\": 1, \"xindex\": 0, \"linewidth\": 1.5, \"data\": \"data01\", \"id\": \"el202140021246348368\"}, {\"drawstyle\": \"default\", \"color\": \"#1F77B4\", \"yindex\": 1, \"coordinates\": \"axes\", \"dasharray\": \"none\", \"zorder\": 1000002.0, \"alpha\": 1, \"xindex\": 0, \"linewidth\": 1.5, \"data\": \"data02\", \"id\": \"el202140020864248976\"}], \"markers\": [], \"id\": \"el202140021246497744\", \"ydomain\": [-0.35874162345850946, 0.3047558070155847], \"collections\": [], \"xscale\": \"date\", \"bbox\": [0.125, 0.125, 0.775, 0.755]}], \"height\": 288.0, \"width\": 432.0, \"plugins\": [{\"type\": \"reset\"}, {\"enabled\": false, \"button\": true, \"type\": \"zoom\"}, {\"enabled\": false, \"button\": true, \"type\": \"boxzoom\"}], \"data\": {\"data02\": [[0.6389635603345281, 0.9379139072847682], [0.6987007168458781, 0.9379139072847682]], \"data03\": [[0.632989844683393, 0.8900558774834437], [0.9790919952210274, 0.8900558774834437], [0.9850657108721624, 0.8900558774834437], [0.9850657108721624, 0.8992538171449596], [0.9850657108721624, 0.9678072111846947], [0.9850657108721624, 0.9770051508462105], [0.9790919952210274, 0.9770051508462105], [0.632989844683393, 0.9770051508462105], [0.627016129032258, 0.9770051508462105], [0.627016129032258, 0.9678072111846947], [0.627016129032258, 0.8992538171449596], [0.627016129032258, 0.8900558774834437], [0.632989844683393, 0.8900558774834437]], \"data01\": [[430.0, NaN], [431.0, 0.10748591497013926], [432.0, 0.1641100197300167], [433.0, 0.07294899964616786], [434.0, 0.01990115431729489], [435.0, -0.07145896398214457], [436.0, 0.09097177820572622], [437.0, 0.0], [438.0, -0.19105523676270852], [439.0, -0.13102826240640475], [440.0, -0.08338160893905044], [441.0, 0.1786917887433752], [442.0, -0.1292117314800061], [443.0, 0.14723023698268456], [444.0, 0.15923974933472973], [445.0, 0.05433435096332939], [446.0, 0.009569451016150587], [447.0, -0.004773278752657539], [448.0, 0.12993642170666408], [449.0, 0.0], [450.0, -0.17896584894698275], [451.0, -0.1693408453212335], [452.0, -0.10008345855698231], [453.0, 0.25423413838424036], [454.0, -0.06862850638909546], [455.0, 0.08883121370661495], [456.0, 0.21913552991667107], [457.0, 0.008000042667076102], [458.0, 0.14097374898064885], [459.0, -0.14897379164772495], [460.0, 0.11375888535665801], [461.0, 0.0], [462.0, -0.1844744101550555], [463.0, -0.12861737782209381], [464.0, -0.05026183478088786], [465.0, 0.17887921260298167], [466.0, -0.07609934353864745], [467.0, 0.10582552380384858], [468.0, 0.121958407066864], [469.0, 0.03278982282299037], [470.0, 0.09563596576583144], [471.0, -0.006535970979784977], [472.0, 0.05423976893699667], [473.0, 0.05144856183604141], [474.0, -0.2538460752026852], [475.0, -0.08735709868710995], [476.0, -0.051074929936414826], [477.0, 0.1720800627417578], [478.0, -0.09641372966802031], [479.0, 0.05513207069471626], [480.0, 0.23457224713783198], [481.0, 0.09255155736524578], [482.0, 0.061599122462013156], [483.0, -0.12429771667757716], [484.0, 0.08455738802806234], [485.0, 0.029296369488431395], [486.0, -0.24235580173601434], [487.0, -0.11694726460898774], [488.0, -0.1070327568501881], [489.0, 0.16189111740223439], [490.0, -0.08927858443852532], [491.0, -0.027615167032974064], [492.0, 0.27459683290312586], [493.0, 0.061875403718087085], [494.0, 0.11587645738580221], [495.0, -0.06030660623099138], [496.0, 0.13386917340800775], [497.0, -0.0312150193479237], [498.0, -0.22925977833164612], [499.0, -0.1204706932542754], [500.0, -0.0680047291140573], [501.0, 0.17301916413164076], [502.0, -0.051129346522603925], [503.0, 0.016260520871780315], [504.0, 0.18768349993534006], [505.0, 0.10161017641078196], [506.0, 0.09223122421603414], [507.0, -0.0290523225945023], [508.0, 0.14536585027152515], [509.0, -0.04820210181787754], [510.0, -0.21239901203123246], [511.0, -0.130265194837901], [512.0, -0.0909717782057271], [513.0, 0.2110067047928128], [514.0, -0.08304635721774556], [515.0, 0.02754995176823094], [516.0, 0.18774162426329344], [517.0, 0.08211955161837547], [518.0, 0.10245172490959487], [519.0, -0.01890415463915307], [520.0, 0.09808218435133575], [521.0, -0.019214564944626034], [522.0, -0.2378007091141825], [523.0, -0.1467212251487382], [524.0, -0.06973333801467518], [525.0, 0.17301916413164076], [526.0, -0.07518691489460583], [527.0, 0.007528266420790963], [528.0, 0.21913552991667107], [529.0, 0.07353408404614914], [530.0, 0.10610650599454807], [531.0, -0.008424649659251493], [532.0, 0.09669362480247035], [533.0, 0.004597709248630011], [534.0, -0.25065933490667636], [535.0, -0.15251482145493256], [536.0, -0.07358003549385739], [537.0, 0.14637953510237178], [538.0, -0.09360949912230776], [539.0, -0.011751016535519021], [540.0, 0.18113882454490593], [541.0, 0.055623157479618435], [542.0, 0.12932479609655534], [543.0, -0.0016406894574600983], [544.0, 0.12051602451245191], [545.0, 0.028696373674224063], [546.0, -0.32858264934605064], [547.0, -0.11876583671829088], [548.0, -0.09265883048270496], [549.0, 0.13595563623602835], [550.0, -0.03888178754420668], [551.0, 0.0022002209096019243], [552.0, 0.2218239997702014], [553.0, 0.0713375384462056], [554.0, 0.14615628032588468], [555.0, -0.06586139764155607], [556.0, 0.14873296151557014], [557.0, 0.020645894623546823], [558.0, -0.29494550964031063], [559.0, -0.1279113411797228], [560.0, -0.0644085750650083], [561.0, 0.1644920336219906], [562.0, -0.07696104113612812], [563.0, -0.009569451016150587], [564.0, 0.12119600825262378], [565.0, 0.1902401502072646], [566.0, 0.11055825159948629], [567.0, -0.057084238117628416], [568.0, 0.15090299333528367], [569.0, -0.026761341060599797], [570.0, -0.2814124594381857], [571.0, -0.09671741950180657], [572.0, -0.11284687368602242], [573.0, 0.15332457486495343]]}, \"id\": \"el202140021246533840\"});\n",
       "            })\n",
       "         });\n",
       "}\n",
       "</script>"
      ],
      "text/plain": [
       "<matplotlib.figure.Figure at 0x7f593ca920d0>"
      ]
     },
     "metadata": {},
     "output_type": "display_data"
    }
   ],
   "source": [
    "df['difflog_hats_sold'] = df.log_hats_sold - df.log_hats_sold.shift()\n",
    "df.plot(y='difflog_hats_sold')"
   ]
  },
  {
   "cell_type": "markdown",
   "metadata": {},
   "source": [
    "Ok, the data is now starting to look really predictable - so why is this useful?\n",
    "\n",
    "By eliminating the trend and variance, we've actually figured out how they work, and so can use them in our model to create predictions \n",
    "\n",
    "To model trend we differenced and to model variance, we logged. So far, so simple.\n",
    "\n",
    "Now, to model the seasonality that we can see, we will need a little help. A quick google search tells us that one of the best python models for time series forecasts is ARIMA:\n",
    "\n",
    " - The \"AR\" stands for Auto-Regressive, which means that previous values predict future values (if values are rising, they will probably continue to rise)\n",
    "\n",
    " - The \"I\" stands for Integrated, which means that it will do the differencing for us.\n",
    "\n",
    " - The \"MA\" stands for Moving Average, which is how it models seasonality and trend.\n",
    "\n",
    "First, let's import the model: "
   ]
  },
  {
   "cell_type": "code",
   "execution_count": 47,
   "metadata": {},
   "outputs": [
    {
     "name": "stderr",
     "output_type": "stream",
     "text": [
      "/home/nbuser/anaconda2_410/lib/python2.7/site-packages/statsmodels/compat/pandas.py:56: FutureWarning: The pandas.core.datetools module is deprecated and will be removed in a future version. Please use the pandas.tseries module instead.\n",
      "  from pandas.core import datetools\n"
     ]
    }
   ],
   "source": [
    "from statsmodels.tsa.arima_model import ARIMA"
   ]
  },
  {
   "cell_type": "markdown",
   "metadata": {},
   "source": [
    "This model is really a function which takes two main arguments:\n",
    " - The name of the data\n",
    " - A set of 3 parameters, (p,d,q). d tells the model how many times to difference the data and p and q control how complex the model is (higher numbers are more complex, and take longer to run)\n",
    " \n",
    "First we need to define our model, which is done on the first line below. Next, we fit the model, by feeding the data through it.\n",
    "\n",
    "Fit the model by creating a variable called `results_ARIMA` and setting it equal to `model.fit()`:"
   ]
  },
  {
   "cell_type": "code",
   "execution_count": 48,
   "metadata": {},
   "outputs": [
    {
     "name": "stderr",
     "output_type": "stream",
     "text": [
      "/home/nbuser/anaconda2_410/lib/python2.7/site-packages/statsmodels/tsa/tsatools.py:584: RuntimeWarning: overflow encountered in exp\n",
      "  newparams = ((1-np.exp(-params))/\n",
      "/home/nbuser/anaconda2_410/lib/python2.7/site-packages/statsmodels/tsa/tsatools.py:585: RuntimeWarning: overflow encountered in exp\n",
      "  (1+np.exp(-params))).copy()\n",
      "/home/nbuser/anaconda2_410/lib/python2.7/site-packages/statsmodels/tsa/tsatools.py:585: RuntimeWarning: invalid value encountered in divide\n",
      "  (1+np.exp(-params))).copy()\n",
      "/home/nbuser/anaconda2_410/lib/python2.7/site-packages/statsmodels/tsa/tsatools.py:586: RuntimeWarning: overflow encountered in exp\n",
      "  tmp = ((1-np.exp(-params))/\n",
      "/home/nbuser/anaconda2_410/lib/python2.7/site-packages/statsmodels/tsa/tsatools.py:587: RuntimeWarning: overflow encountered in exp\n",
      "  (1+np.exp(-params))).copy()\n",
      "/home/nbuser/anaconda2_410/lib/python2.7/site-packages/statsmodels/tsa/tsatools.py:587: RuntimeWarning: invalid value encountered in divide\n",
      "  (1+np.exp(-params))).copy()\n",
      "/home/nbuser/anaconda2_410/lib/python2.7/site-packages/statsmodels/tsa/tsatools.py:628: RuntimeWarning: overflow encountered in exp\n",
      "  newparams = ((1-np.exp(-params))/(1+np.exp(-params))).copy()\n",
      "/home/nbuser/anaconda2_410/lib/python2.7/site-packages/statsmodels/tsa/tsatools.py:628: RuntimeWarning: invalid value encountered in divide\n",
      "  newparams = ((1-np.exp(-params))/(1+np.exp(-params))).copy()\n",
      "/home/nbuser/anaconda2_410/lib/python2.7/site-packages/statsmodels/tsa/tsatools.py:629: RuntimeWarning: overflow encountered in exp\n",
      "  tmp = ((1-np.exp(-params))/(1+np.exp(-params))).copy()\n",
      "/home/nbuser/anaconda2_410/lib/python2.7/site-packages/statsmodels/tsa/tsatools.py:629: RuntimeWarning: invalid value encountered in divide\n",
      "  tmp = ((1-np.exp(-params))/(1+np.exp(-params))).copy()\n"
     ]
    }
   ],
   "source": [
    "model = ARIMA(df.log_hats_sold, order=(2, 1, 2))  \n",
    "results_ARIMA = model.fit()"
   ]
  },
  {
   "cell_type": "markdown",
   "metadata": {},
   "source": [
    "Now we're going to check if the fit was good by plotting `results_ARIMA`, which is our fitted model of the real data, against `df.difflog_hats_sold`:"
   ]
  },
  {
   "cell_type": "code",
   "execution_count": 58,
   "metadata": {},
   "outputs": [
    {
     "data": {
      "text/plain": [
       "'D.log_hats_sold'"
      ]
     },
     "execution_count": 58,
     "metadata": {},
     "output_type": "execute_result"
    }
   ],
   "source": [
    "import matplotlib.pyplot as plt\n",
    "plt.plot(df.difflog_hats_sold)\n",
    "plt.plot(results_ARIMA.fittedvalues, color='red')"
   ]
  },
  {
   "cell_type": "markdown",
   "metadata": {},
   "source": [
    "Looks good. Our model will never be able to capture some of the \"spikeyness\" of the data, as that can often be random, unpredictable noise.\n",
    "\n",
    "To convert this model back to our original data and pull the prediction, we have to reverse a lot of the steps we've taken. We've written some code below that does that automatically.\n",
    "\n"
   ]
  },
  {
   "cell_type": "code",
   "execution_count": 73,
   "metadata": {},
   "outputs": [
    {
     "data": {
      "application/vnd.jupyter.widget-view+json": {
       "model_id": "bb633cc1388f41a5bb584110b3836f3c",
       "version_major": 2,
       "version_minor": 0
      },
      "text/plain": [
       "A Jupyter Widget"
      ]
     },
     "metadata": {},
     "output_type": "display_data"
    }
   ],
   "source": [
    "def ARIMAforecast(series, params = [6,1, 2], steps = 20):   \n",
    "    \n",
    "    X = series                                                     #take the data\n",
    "    log_X = np.log(X)                                              #log the data\n",
    "    model = ARIMA(log_X, order=(params[0], params[1], params[2]))  #create ARIMA model\n",
    "    results_ARIMA = model.fit(disp =1)                              #fit ARIMA model\n",
    "    forecast = results_ARIMA.forecast(steps = steps)[0]            #forecast 'steps' number of steps\n",
    "    unlog_forecast = np.exp(forecast)                              #\"unlog\" the forecast\n",
    "    full_predict = np.append(X,unlog_forecast)                     #append it to the end of the column\n",
    "    return full_predict.tolist()                                   #return as list\n",
    "\n",
    "\n",
    "def plot_ARIMA(series, test_points, forecast_points, AR, I, MA = 2):\n",
    "    predictions = ARIMAforecast(series[:-test_points], params = [AR,I,MA], steps = forecast_points)\n",
    "    _,ax = plt.subplots()\n",
    "    _,_,_ = ax.plot(predictions, color = \"red\"), ax.plot(series.values, color = \"blue\"), plt.show()\n",
    "    \n",
    "from ipywidgets import interact, interactive, fixed, interact_manual\n",
    "def custom_ARIMA(series):    \n",
    "    interact(plot_ARIMA, series=fixed(series), test_points=(1,10,1), forecast_points=(1,50,1), AR=(1,9,1), I=(1,2,1), MA=(0,4,1))\n",
    "\n",
    "custom_ARIMA(df.hats_sold)    "
   ]
  },
  {
   "cell_type": "markdown",
   "metadata": {},
   "source": [
    "Does it look stationary now? If not, you can always difference again!\n",
    "\n",
    "Once you feel happy that your data is stationary we need to make sure that the variance is stationary too. Let's start by making a new column called `log_close` that is, you guessed it, the log of the `close` column! Then plot this new column as the y axis."
   ]
  },
  {
   "cell_type": "code",
   "execution_count": 74,
   "metadata": {},
   "outputs": [
    {
     "data": {
      "application/vnd.jupyter.widget-view+json": {
       "model_id": "1c518a3f3c604053b087632ca3b04790",
       "version_major": 2,
       "version_minor": 0
      },
      "text/plain": [
       "A Jupyter Widget"
      ]
     },
     "metadata": {},
     "output_type": "display_data"
    },
    {
     "data": {
      "text/html": [
       "<div>\n",
       "<style scoped>\n",
       "    .dataframe tbody tr th:only-of-type {\n",
       "        vertical-align: middle;\n",
       "    }\n",
       "\n",
       "    .dataframe tbody tr th {\n",
       "        vertical-align: top;\n",
       "    }\n",
       "\n",
       "    .dataframe thead th {\n",
       "        text-align: right;\n",
       "    }\n",
       "</style>\n",
       "<table border=\"1\" class=\"dataframe\">\n",
       "  <thead>\n",
       "    <tr style=\"text-align: right;\">\n",
       "      <th></th>\n",
       "      <th>KHC</th>\n",
       "      <th>WFC</th>\n",
       "      <th>AAPL</th>\n",
       "    </tr>\n",
       "  </thead>\n",
       "  <tbody>\n",
       "    <tr>\n",
       "      <th>2007-11-30</th>\n",
       "      <td>NaN</td>\n",
       "      <td>25.1664</td>\n",
       "      <td>23.4178</td>\n",
       "    </tr>\n",
       "    <tr>\n",
       "      <th>2007-12-31</th>\n",
       "      <td>NaN</td>\n",
       "      <td>23.4281</td>\n",
       "      <td>25.456</td>\n",
       "    </tr>\n",
       "    <tr>\n",
       "      <th>2008-01-31</th>\n",
       "      <td>NaN</td>\n",
       "      <td>26.4468</td>\n",
       "      <td>17.3956</td>\n",
       "    </tr>\n",
       "    <tr>\n",
       "      <th>2008-02-29</th>\n",
       "      <td>NaN</td>\n",
       "      <td>22.9169</td>\n",
       "      <td>16.0668</td>\n",
       "    </tr>\n",
       "    <tr>\n",
       "      <th>2008-03-31</th>\n",
       "      <td>NaN</td>\n",
       "      <td>22.815</td>\n",
       "      <td>18.4418</td>\n",
       "    </tr>\n",
       "  </tbody>\n",
       "</table>\n",
       "</div>"
      ],
      "text/plain": [
       "            KHC      WFC     AAPL\n",
       "2007-11-30  NaN  25.1664  23.4178\n",
       "2007-12-31  NaN  23.4281   25.456\n",
       "2008-01-31  NaN  26.4468  17.3956\n",
       "2008-02-29  NaN  22.9169  16.0668\n",
       "2008-03-31  NaN   22.815  18.4418"
      ]
     },
     "execution_count": 74,
     "metadata": {},
     "output_type": "execute_result"
    }
   ],
   "source": [
    "apple = data.copy()\n",
    "apple.columns = ['close']\n",
    "custom_ARIMA(apple.close)\n",
    "\n",
    "data3.head(5)"
   ]
  },
  {
   "cell_type": "markdown",
   "metadata": {},
   "source": [
    "Now let's bring the two together to calculate the difference of the `log_close` column and store it in another new column called `difflog_close`. Plot this new column as the y axis. "
   ]
  },
  {
   "cell_type": "markdown",
   "metadata": {},
   "source": [
    "Congratulations! We have built a model that can predict the future.\n",
    "\n",
    "This is a simplistic introduction to time series analysis, although these methods are the foundation to many of the cutting edge techniques used currently. If you'd like to like to investigate ARIMA further, we recommend following the introduction here:\n",
    "\n",
    "https://datascience.ibm.com/exchange/public/entry/view/815137c868b916821dec777bdc23013c\n",
    "\n",
    "## <font color='green'>You're now finished with this section! Let your facilitators know, and have a break.</font>\n",
    "\n",
    "![done](https://media.giphy.com/media/R6aNZ3Uc1aR1K/giphy.gif)"
   ]
  },
  {
   "cell_type": "markdown",
   "metadata": {},
   "source": [
    "## 4. Preparing for Visualization\n",
    "\n",
    "Let's get our data ready for a more snazzy visualization.\n",
    "\n",
    "Based on the [D3.js show reel](https://bl.ocks.org/mbostock/1256572), we need the data to be arranged like this:\n",
    "\n",
    "```\n",
    "symbol,date,price\n",
    "MSFT,Jan 2000,39.81\n",
    "MSFT,Feb 2000,36.35\n",
    "MSFT,Mar 2000,43.22\n",
    "MSFT,Apr 2000,28.37\n",
    "MSFT,May 2000,25.45```\n",
    "\n",
    "### 4.1 Replotting with forecasts\n",
    "\n",
    "First, we need to calculate our predictions for each stock (using the `params` values you've chosen) and append them to the end of our dataframe. We will predict 3 months ahead.\n",
    "\n",
    "Update `master_params` with the values you found above:"
   ]
  },
  {
   "cell_type": "code",
   "execution_count": 66,
   "metadata": {},
   "outputs": [
    {
     "data": {
      "text/html": [
       "<div>\n",
       "<style scoped>\n",
       "    .dataframe tbody tr th:only-of-type {\n",
       "        vertical-align: middle;\n",
       "    }\n",
       "\n",
       "    .dataframe tbody tr th {\n",
       "        vertical-align: top;\n",
       "    }\n",
       "\n",
       "    .dataframe thead th {\n",
       "        text-align: right;\n",
       "    }\n",
       "</style>\n",
       "<table border=\"1\" class=\"dataframe\">\n",
       "  <thead>\n",
       "    <tr style=\"text-align: right;\">\n",
       "      <th></th>\n",
       "      <th>KHC</th>\n",
       "      <th>WFC</th>\n",
       "      <th>AAPL</th>\n",
       "    </tr>\n",
       "  </thead>\n",
       "  <tbody>\n",
       "    <tr>\n",
       "      <th>2017-07-31</th>\n",
       "      <td>86.8326</td>\n",
       "      <td>53.5505</td>\n",
       "      <td>148.248</td>\n",
       "    </tr>\n",
       "    <tr>\n",
       "      <th>2017-08-31</th>\n",
       "      <td>80.75</td>\n",
       "      <td>51.07</td>\n",
       "      <td>164</td>\n",
       "    </tr>\n",
       "    <tr>\n",
       "      <th>2017-09-30</th>\n",
       "      <td>77.55</td>\n",
       "      <td>55.15</td>\n",
       "      <td>154.12</td>\n",
       "    </tr>\n",
       "    <tr>\n",
       "      <th>2017-10-31</th>\n",
       "      <td>77.33</td>\n",
       "      <td>56.14</td>\n",
       "      <td>169.04</td>\n",
       "    </tr>\n",
       "    <tr>\n",
       "      <th>2017-11-30</th>\n",
       "      <td>75.642</td>\n",
       "      <td>56.6278</td>\n",
       "      <td>172.336</td>\n",
       "    </tr>\n",
       "    <tr>\n",
       "      <th>2017-12-31</th>\n",
       "      <td>77.1958</td>\n",
       "      <td>57.1705</td>\n",
       "      <td>174.21</td>\n",
       "    </tr>\n",
       "    <tr>\n",
       "      <th>2018-01-31</th>\n",
       "      <td>75.4005</td>\n",
       "      <td>56.7604</td>\n",
       "      <td>181.38</td>\n",
       "    </tr>\n",
       "    <tr>\n",
       "      <th>2018-02-28</th>\n",
       "      <td>78.1765</td>\n",
       "      <td>57.2948</td>\n",
       "      <td>180.372</td>\n",
       "    </tr>\n",
       "    <tr>\n",
       "      <th>2018-03-31</th>\n",
       "      <td>78.1145</td>\n",
       "      <td>57.6121</td>\n",
       "      <td>184.962</td>\n",
       "    </tr>\n",
       "    <tr>\n",
       "      <th>2018-04-30</th>\n",
       "      <td>77.4259</td>\n",
       "      <td>57.2717</td>\n",
       "      <td>188.172</td>\n",
       "    </tr>\n",
       "  </tbody>\n",
       "</table>\n",
       "</div>"
      ],
      "text/plain": [
       "                KHC      WFC     AAPL\n",
       "2017-07-31  86.8326  53.5505  148.248\n",
       "2017-08-31    80.75    51.07      164\n",
       "2017-09-30    77.55    55.15   154.12\n",
       "2017-10-31    77.33    56.14   169.04\n",
       "2017-11-30   75.642  56.6278  172.336\n",
       "2017-12-31  77.1958  57.1705   174.21\n",
       "2018-01-31  75.4005  56.7604   181.38\n",
       "2018-02-28  78.1765  57.2948  180.372\n",
       "2018-03-31  78.1145  57.6121  184.962\n",
       "2018-04-30  77.4259  57.2717  188.172"
      ]
     },
     "execution_count": 66,
     "metadata": {},
     "output_type": "execute_result"
    }
   ],
   "source": [
    "import pandas as pd\n",
    "\n",
    "numberofmonths = 6 # how many predictions do we want to make?\n",
    "\n",
    "# Here we need to add numberofmonths onto the end of the dataframe using data.reindex:\n",
    "data3 = data2.reindex(pd.date_range(datetime.datetime.now().date(), periods=121 + numberofmonths, freq='MS')+pd.DateOffset(days=-1, months=-120),fill_value=\"NaN\")\n",
    "\n",
    "data3 = data3.iloc[1:]\n",
    "\n",
    "master_params = [7,1,0]\n",
    "\n",
    "for i, column in enumerate(data3):\n",
    "    if data3[column].isnull().values.any(): # select only the range of dates for which we have data\n",
    "        last_nan = np.where(data3[column].isnull().values)[0][-1]\n",
    "        stock = data3[column].iloc[(last_nan+1):-numberofmonths].values\n",
    "    else:\n",
    "        stock = data3[column].iloc[:-numberofmonths].values\n",
    "    \n",
    "    stock = stock.tolist()\n",
    "    forecast = ARIMAforecast(stock, params = master_params, steps = numberofmonths) # create our forecast\n",
    "    \n",
    "    col_forecast = pd.Series(forecast[-numberofmonths:], index = pd.date_range(start= datetime.datetime.now().date(), periods=numberofmonths, freq='MS') + pd.DateOffset(days=-1, months=1))\n",
    "    data3[column].iloc[-numberofmonths:] = col_forecast\n",
    "    \n",
    "\n",
    "data3.tail(10)"
   ]
  },
  {
   "cell_type": "markdown",
   "metadata": {},
   "source": [
    "How did your model fair on the other stocks? Let's visualize the results!\n",
    "\n",
    "Below, we create two overlapping plots, one with the existing data and one with our forecasts, marked in red."
   ]
  },
  {
   "cell_type": "code",
   "execution_count": 67,
   "metadata": {},
   "outputs": [
    {
     "data": {
      "image/png": "[encoded data removed]",
      "text/html": [
       "\n",
       "\n",
       "<style>\n",
       "\n",
       "</style>\n",
       "\n",
       "<div id=\"fig_el2021400203654555049454144750\"></div>\n",
       "<script>\n",
       "function mpld3_load_lib(url, callback){\n",
       "  var s = document.createElement('script');\n",
       "  s.src = url;\n",
       "  s.async = true;\n",
       "  s.onreadystatechange = s.onload = callback;\n",
       "  s.onerror = function(){console.warn(\"failed to load library \" + url);};\n",
       "  document.getElementsByTagName(\"head\")[0].appendChild(s);\n",
       "}\n",
       "\n",
       "if(typeof(mpld3) !== \"undefined\" && mpld3._mpld3IsLoaded){\n",
       "   // already loaded: just create the figure\n",
       "   !function(mpld3){\n",
       "       \n",
       "       mpld3.draw_figure(\"fig_el2021400203654555049454144750\", {\"axes\": [{\"xlim\": [732819.8, 737004.2], \"yscale\": \"linear\", \"axesbg\": \"#FFFFFF\", \"texts\": [], \"zoomable\": true, \"images\": [], \"xdomain\": [[2007, 4, 23, 19, 12, 0, 0.0], [2018, 10, 6, 4, 48, 0, 0.0]], \"ylim\": [1.0781779907054663, 197.0812239392292], \"paths\": [], \"sharey\": [], \"sharex\": [], \"axesbgalpha\": null, \"axes\": [{\"scale\": \"linear\", \"tickformat\": null, \"grid\": {\"gridOn\": false}, \"visible\": true, \"fontsize\": 10.0, \"position\": \"bottom\", \"nticks\": 5, \"tickvalues\": null}, {\"scale\": \"linear\", \"tickformat\": null, \"grid\": {\"gridOn\": false}, \"visible\": true, \"fontsize\": 10.0, \"position\": \"left\", \"nticks\": 9, \"tickvalues\": null}], \"lines\": [{\"drawstyle\": \"default\", \"color\": \"#1F77B4\", \"yindex\": 1, \"coordinates\": \"data\", \"dasharray\": \"none\", \"zorder\": 2, \"alpha\": 1, \"xindex\": 0, \"linewidth\": 1.5, \"data\": \"data01\", \"id\": \"el202140020363989072\"}, {\"drawstyle\": \"default\", \"color\": \"#FF7F0E\", \"yindex\": 2, \"coordinates\": \"data\", \"dasharray\": \"none\", \"zorder\": 2, \"alpha\": 1, \"xindex\": 0, \"linewidth\": 1.5, \"data\": \"data01\", \"id\": \"el202140020369124368\"}, {\"drawstyle\": \"default\", \"color\": \"#2CA02C\", \"yindex\": 3, \"coordinates\": \"data\", \"dasharray\": \"none\", \"zorder\": 2, \"alpha\": 1, \"xindex\": 0, \"linewidth\": 1.5, \"data\": \"data01\", \"id\": \"el202140020369272144\"}, {\"drawstyle\": \"default\", \"color\": \"#FF0000\", \"yindex\": 1, \"coordinates\": \"data\", \"dasharray\": \"none\", \"zorder\": 2, \"alpha\": 1, \"xindex\": 0, \"linewidth\": 1.5, \"data\": \"data02\", \"id\": \"el202140020365456720\"}, {\"drawstyle\": \"default\", \"color\": \"#FF0000\", \"yindex\": 2, \"coordinates\": \"data\", \"dasharray\": \"none\", \"zorder\": 2, \"alpha\": 1, \"xindex\": 0, \"linewidth\": 1.5, \"data\": \"data02\", \"id\": \"el202140020369271696\"}, {\"drawstyle\": \"default\", \"color\": \"#FF0000\", \"yindex\": 3, \"coordinates\": \"data\", \"dasharray\": \"none\", \"zorder\": 2, \"alpha\": 1, \"xindex\": 0, \"linewidth\": 1.5, \"data\": \"data02\", \"id\": \"el202140020369622672\"}], \"markers\": [], \"id\": \"el202140020365455760\", \"ydomain\": [1.0781779907054663, 197.0812239392292], \"collections\": [], \"xscale\": \"date\", \"bbox\": [0.125, 0.125, 0.775, 0.755]}], \"height\": 288.0, \"width\": 432.0, \"plugins\": [{\"type\": \"reset\"}, {\"enabled\": false, \"button\": true, \"type\": \"zoom\"}, {\"enabled\": false, \"button\": true, \"type\": \"boxzoom\"}], \"data\": {\"data02\": [[736633.0, 77.33, 56.14, 169.04], [736663.0, 75.64204803783991, 56.627814080426795, 172.33606468968537], [736694.0, 77.19584917842242, 57.17051744124312, 174.21047292408386], [736725.0, 75.40052494011736, 56.760425072231165, 181.38048904243846], [736753.0, 78.17649352242883, 57.294847638027996, 180.3723110213785], [736784.0, 78.11449667733906, 57.612063086164035, 184.96190313471715], [736814.0, 77.42591371580686, 57.27166033234445, 188.17199457793268]], \"data01\": [[733010.0, NaN, 25.166378433743, 23.417809718684], [733041.0, NaN, 23.428090191635, 25.456040769822], [733072.0, NaN, 26.446813969225, 17.395646600379], [733101.0, NaN, 22.916878264786, 16.066812485072], [733132.0, NaN, 22.814955781912, 18.441750052855], [733162.0, NaN, 23.324568196284, 22.354999454314], [733193.0, NaN, 21.839512782252, 24.257005731542], [733223.0, NaN, 18.813508472198, 21.518373720209], [733254.0, NaN, 23.978311640144, 20.427290389556], [733285.0, NaN, 24.247286432544, 21.786967849899], [733315.0, NaN, 30.062790215176, 14.606894153362], [733346.0, NaN, 27.275193360691, 13.826814551823], [733376.0, NaN, 23.390226016419, 11.909386602077], [733407.0, NaN, 23.867908029216, 10.968664578475], [733438.0, NaN, 15.302017020088, 11.582961200445], [733466.0, NaN, 9.987407352002, 11.477579771571], [733497.0, NaN, 11.753775263844, 13.509385125826], [733527.0, NaN, 16.516365381286, 16.170908774569], [733558.0, NaN, 21.087051779849, 17.453477872322], [733588.0, NaN, 20.061642203104, 18.304240139569], [733619.0, NaN, 20.227030844514, 20.997892272724], [733650.0, NaN, 22.798086403311, 21.6173294522], [733680.0, NaN, 23.344842835948, 23.820058343531], [733711.0, NaN, 22.798086403311, 24.22487724713], [733741.0, NaN, 23.272169314678, 25.691221275723], [733772.0, NaN, 22.400707910241, 27.081999108977], [733803.0, NaN, 23.595854979183, 24.682772406979], [733831.0, NaN, 22.731513444209, 26.296521922057], [733862.0, NaN, 25.874348880168, 30.200775347881], [733892.0, NaN, 27.528910392749, 33.553703981184], [733923.0, NaN, 23.890473279224, 33.012660303675], [733953.0, NaN, 21.31739686121, 32.325110737244], [733984.0, NaN, 23.091070896928, 33.060210460605], [734015.0, NaN, 19.64544591999, 31.24173824285], [734045.0, NaN, 20.95097130703, 36.465829808345], [734076.0, NaN, 21.739291748406, 38.680124954064], [734106.0, NaN, 22.741515837121, 39.98711169997], [734137.0, NaN, 25.900756184946, 41.453455728563], [734168.0, NaN, 27.095918538753, 43.607349323587], [734196.0, NaN, 27.003395476407, 45.392407917553], [734227.0, NaN, 26.601924878653, 44.788071125751], [734257.0, NaN, 24.42075159942, 44.996584989589], [734288.0, NaN, 23.899191524973, 44.701002932993], [734318.0, NaN, 23.638044208345, 43.138273451162], [734349.0, NaN, 23.536954924489, 50.182122373789], [734380.0, NaN, 22.083565037547, 49.456018626063], [734410.0, NaN, 20.408260103664, 49.00493470491], [734441.0, NaN, 21.922803452983, 52.019871682192], [734471.0, NaN, 21.984155875193, 49.118026970042], [734502.0, NaN, 23.429363337986, 52.048144748475], [734533.0, NaN, 24.832064698932, 58.664042258726], [734562.0, NaN, 26.70711138368, 69.711100339167], [734593.0, NaN, 29.227048519308, 77.050531318391], [734623.0, NaN, 28.606380382914, 75.049569309172], [734654.0, NaN, 27.617624986873, 74.246357198856], [734684.0, NaN, 28.815394058067, 75.052139587925], [734715.0, NaN, 29.13422467414, 78.491172559453], [734746.0, NaN, 29.514551732024, 85.857594115654], [734776.0, NaN, 29.948206620828, 86.098295836876], [734807.0, NaN, 29.219666407637, 76.83353816507], [734837.0, NaN, 28.821283697695, 75.896485214554], [734868.0, NaN, 29.842819654262, 69.009794690466], [734899.0, NaN, 30.627742687255, 59.065900168086], [734927.0, NaN, 30.8475800594, 57.562728311726], [734958.0, NaN, 32.527137582588, 57.727044210395], [734988.0, NaN, 33.397693576283, 57.742693343602], [735019.0, NaN, 35.935834675552, 59.041313847026], [735049.0, NaN, 36.57390621603, 52.056549256254], [735080.0, NaN, 38.550155570567, 59.40824208744], [735111.0, NaN, 36.657933387445, 64.384993720396], [735141.0, NaN, 36.872098528949, 63.001924723734], [735172.0, NaN, 38.094624545034, 69.074424870362], [735202.0, NaN, 39.559129248138, 73.914215436527], [735233.0, NaN, 40.799283686175, 74.572181819196], [735264.0, NaN, 40.745363928, 66.541004275586], [735292.0, NaN, 41.998867254847, 70.365411763138], [735323.0, NaN, 45.002663878847, 71.76940390268], [735353.0, NaN, 44.912188076919, 78.903021106928], [735384.0, NaN, 46.269189547841, 85.114261733663], [735414.0, NaN, 47.891071339789, 87.468686256501], [735445.0, NaN, 46.378529893365, 89.98177559584], [735476.0, NaN, 47.198262137537, 96.956206806577], [735506.0, NaN, 47.592804375467, 95.30085693427], [735537.0, NaN, 48.712203283084, 102.15873497669], [735567.0, NaN, 50.314422309488, 112.98399738955], [735598.0, NaN, 50.628425679261, 104.8614616317], [735629.0, NaN, 47.950161642963, 111.30248998705], [735657.0, NaN, 50.934686156653, 122.5157567099], [735688.0, NaN, 50.572128616936, 118.67223733001], [735718.0, NaN, 51.222872918992, 119.35892069317], [735749.0, NaN, 52.377573352296, 124.76735316852], [735779.0, NaN, 52.639648415531, 120.11778685264], [735810.0, 74.490493466069, 54.165299676508, 116.16733143492], [735841.0, 68.107200896496, 50.240631438077, 108.47643694077], [735871.0, 66.120037864559, 48.375331414687, 105.77318412236], [735902.0, 73.084481886868, 51.003708720373, 114.96039565823], [735932.0, 69.632842445394, 52.264738901248, 114.29538877569], [735963.0, 69.307892228966, 51.562816818001, 101.69680999602], [735994.0, 74.356433031791, 47.645332758797, 94.044912454993], [736023.0, 73.365775968595, 44.856276527438, 93.919781198699], [736054.0, 75.384149765237, 46.232939745672, 105.86737979984], [736084.0, 74.913958403412, 47.781685866184, 91.054300233386], [736115.0, 80.3716622509, 48.865637028736, 97.591938528951], [736145.0, 85.482445918496, 45.599578086949, 93.428693404443], [736176.0, 83.463251615041, 46.216179185104, 101.84313953637], [736207.0, 87.041420911462, 49.333677703594, 104.24847718874], [736237.0, 87.060873681807, 43.001874974707, 111.07719459177], [736268.0, 86.51619611213, 44.681939195715, 111.55864373242], [736298.0, 79.999518046349, 51.824163421622, 109.15491652711], [736329.0, 85.554904051527, 53.968814175464, 114.38945378366], [736360.0, 87.485082257911, 55.163551125094, 119.85115020417], [736388.0, 89.660206937187, 57.066697924081, 135.8803615489], [736419.0, 89.558241906473, 54.877892302252, 142.49633360184], [736449.0, 89.104582713906, 53.083466071743, 142.48641460326], [736480.0, 91.538593974175, 50.770723940011, 152.14268890314], [736510.0, 85.005796269727, 55.00989076097, 143.43800769724], [736541.0, 86.832596843615, 53.550505461951, 148.24848941629], [736572.0, 80.75, 51.07, 164.0], [736602.0, 77.55, 55.15, 154.12], [736633.0, 77.33, 56.14, 169.04]]}, \"id\": \"el202140020365455504\"});\n",
       "   }(mpld3);\n",
       "}else if(typeof define === \"function\" && define.amd){\n",
       "   // require.js is available: use it to load d3/mpld3\n",
       "   require.config({paths: {d3: \"https://mpld3.github.io/js/d3.v3.min\"}});\n",
       "   require([\"d3\"], function(d3){\n",
       "      window.d3 = d3;\n",
       "      mpld3_load_lib(\"https://mpld3.github.io/js/mpld3.v0.3.js\", function(){\n",
       "         \n",
       "         mpld3.draw_figure(\"fig_el2021400203654555049454144750\", {\"axes\": [{\"xlim\": [732819.8, 737004.2], \"yscale\": \"linear\", \"axesbg\": \"#FFFFFF\", \"texts\": [], \"zoomable\": true, \"images\": [], \"xdomain\": [[2007, 4, 23, 19, 12, 0, 0.0], [2018, 10, 6, 4, 48, 0, 0.0]], \"ylim\": [1.0781779907054663, 197.0812239392292], \"paths\": [], \"sharey\": [], \"sharex\": [], \"axesbgalpha\": null, \"axes\": [{\"scale\": \"linear\", \"tickformat\": null, \"grid\": {\"gridOn\": false}, \"visible\": true, \"fontsize\": 10.0, \"position\": \"bottom\", \"nticks\": 5, \"tickvalues\": null}, {\"scale\": \"linear\", \"tickformat\": null, \"grid\": {\"gridOn\": false}, \"visible\": true, \"fontsize\": 10.0, \"position\": \"left\", \"nticks\": 9, \"tickvalues\": null}], \"lines\": [{\"drawstyle\": \"default\", \"color\": \"#1F77B4\", \"yindex\": 1, \"coordinates\": \"data\", \"dasharray\": \"none\", \"zorder\": 2, \"alpha\": 1, \"xindex\": 0, \"linewidth\": 1.5, \"data\": \"data01\", \"id\": \"el202140020363989072\"}, {\"drawstyle\": \"default\", \"color\": \"#FF7F0E\", \"yindex\": 2, \"coordinates\": \"data\", \"dasharray\": \"none\", \"zorder\": 2, \"alpha\": 1, \"xindex\": 0, \"linewidth\": 1.5, \"data\": \"data01\", \"id\": \"el202140020369124368\"}, {\"drawstyle\": \"default\", \"color\": \"#2CA02C\", \"yindex\": 3, \"coordinates\": \"data\", \"dasharray\": \"none\", \"zorder\": 2, \"alpha\": 1, \"xindex\": 0, \"linewidth\": 1.5, \"data\": \"data01\", \"id\": \"el202140020369272144\"}, {\"drawstyle\": \"default\", \"color\": \"#FF0000\", \"yindex\": 1, \"coordinates\": \"data\", \"dasharray\": \"none\", \"zorder\": 2, \"alpha\": 1, \"xindex\": 0, \"linewidth\": 1.5, \"data\": \"data02\", \"id\": \"el202140020365456720\"}, {\"drawstyle\": \"default\", \"color\": \"#FF0000\", \"yindex\": 2, \"coordinates\": \"data\", \"dasharray\": \"none\", \"zorder\": 2, \"alpha\": 1, \"xindex\": 0, \"linewidth\": 1.5, \"data\": \"data02\", \"id\": \"el202140020369271696\"}, {\"drawstyle\": \"default\", \"color\": \"#FF0000\", \"yindex\": 3, \"coordinates\": \"data\", \"dasharray\": \"none\", \"zorder\": 2, \"alpha\": 1, \"xindex\": 0, \"linewidth\": 1.5, \"data\": \"data02\", \"id\": \"el202140020369622672\"}], \"markers\": [], \"id\": \"el202140020365455760\", \"ydomain\": [1.0781779907054663, 197.0812239392292], \"collections\": [], \"xscale\": \"date\", \"bbox\": [0.125, 0.125, 0.775, 0.755]}], \"height\": 288.0, \"width\": 432.0, \"plugins\": [{\"type\": \"reset\"}, {\"enabled\": false, \"button\": true, \"type\": \"zoom\"}, {\"enabled\": false, \"button\": true, \"type\": \"boxzoom\"}], \"data\": {\"data02\": [[736633.0, 77.33, 56.14, 169.04], [736663.0, 75.64204803783991, 56.627814080426795, 172.33606468968537], [736694.0, 77.19584917842242, 57.17051744124312, 174.21047292408386], [736725.0, 75.40052494011736, 56.760425072231165, 181.38048904243846], [736753.0, 78.17649352242883, 57.294847638027996, 180.3723110213785], [736784.0, 78.11449667733906, 57.612063086164035, 184.96190313471715], [736814.0, 77.42591371580686, 57.27166033234445, 188.17199457793268]], \"data01\": [[733010.0, NaN, 25.166378433743, 23.417809718684], [733041.0, NaN, 23.428090191635, 25.456040769822], [733072.0, NaN, 26.446813969225, 17.395646600379], [733101.0, NaN, 22.916878264786, 16.066812485072], [733132.0, NaN, 22.814955781912, 18.441750052855], [733162.0, NaN, 23.324568196284, 22.354999454314], [733193.0, NaN, 21.839512782252, 24.257005731542], [733223.0, NaN, 18.813508472198, 21.518373720209], [733254.0, NaN, 23.978311640144, 20.427290389556], [733285.0, NaN, 24.247286432544, 21.786967849899], [733315.0, NaN, 30.062790215176, 14.606894153362], [733346.0, NaN, 27.275193360691, 13.826814551823], [733376.0, NaN, 23.390226016419, 11.909386602077], [733407.0, NaN, 23.867908029216, 10.968664578475], [733438.0, NaN, 15.302017020088, 11.582961200445], [733466.0, NaN, 9.987407352002, 11.477579771571], [733497.0, NaN, 11.753775263844, 13.509385125826], [733527.0, NaN, 16.516365381286, 16.170908774569], [733558.0, NaN, 21.087051779849, 17.453477872322], [733588.0, NaN, 20.061642203104, 18.304240139569], [733619.0, NaN, 20.227030844514, 20.997892272724], [733650.0, NaN, 22.798086403311, 21.6173294522], [733680.0, NaN, 23.344842835948, 23.820058343531], [733711.0, NaN, 22.798086403311, 24.22487724713], [733741.0, NaN, 23.272169314678, 25.691221275723], [733772.0, NaN, 22.400707910241, 27.081999108977], [733803.0, NaN, 23.595854979183, 24.682772406979], [733831.0, NaN, 22.731513444209, 26.296521922057], [733862.0, NaN, 25.874348880168, 30.200775347881], [733892.0, NaN, 27.528910392749, 33.553703981184], [733923.0, NaN, 23.890473279224, 33.012660303675], [733953.0, NaN, 21.31739686121, 32.325110737244], [733984.0, NaN, 23.091070896928, 33.060210460605], [734015.0, NaN, 19.64544591999, 31.24173824285], [734045.0, NaN, 20.95097130703, 36.465829808345], [734076.0, NaN, 21.739291748406, 38.680124954064], [734106.0, NaN, 22.741515837121, 39.98711169997], [734137.0, NaN, 25.900756184946, 41.453455728563], [734168.0, NaN, 27.095918538753, 43.607349323587], [734196.0, NaN, 27.003395476407, 45.392407917553], [734227.0, NaN, 26.601924878653, 44.788071125751], [734257.0, NaN, 24.42075159942, 44.996584989589], [734288.0, NaN, 23.899191524973, 44.701002932993], [734318.0, NaN, 23.638044208345, 43.138273451162], [734349.0, NaN, 23.536954924489, 50.182122373789], [734380.0, NaN, 22.083565037547, 49.456018626063], [734410.0, NaN, 20.408260103664, 49.00493470491], [734441.0, NaN, 21.922803452983, 52.019871682192], [734471.0, NaN, 21.984155875193, 49.118026970042], [734502.0, NaN, 23.429363337986, 52.048144748475], [734533.0, NaN, 24.832064698932, 58.664042258726], [734562.0, NaN, 26.70711138368, 69.711100339167], [734593.0, NaN, 29.227048519308, 77.050531318391], [734623.0, NaN, 28.606380382914, 75.049569309172], [734654.0, NaN, 27.617624986873, 74.246357198856], [734684.0, NaN, 28.815394058067, 75.052139587925], [734715.0, NaN, 29.13422467414, 78.491172559453], [734746.0, NaN, 29.514551732024, 85.857594115654], [734776.0, NaN, 29.948206620828, 86.098295836876], [734807.0, NaN, 29.219666407637, 76.83353816507], [734837.0, NaN, 28.821283697695, 75.896485214554], [734868.0, NaN, 29.842819654262, 69.009794690466], [734899.0, NaN, 30.627742687255, 59.065900168086], [734927.0, NaN, 30.8475800594, 57.562728311726], [734958.0, NaN, 32.527137582588, 57.727044210395], [734988.0, NaN, 33.397693576283, 57.742693343602], [735019.0, NaN, 35.935834675552, 59.041313847026], [735049.0, NaN, 36.57390621603, 52.056549256254], [735080.0, NaN, 38.550155570567, 59.40824208744], [735111.0, NaN, 36.657933387445, 64.384993720396], [735141.0, NaN, 36.872098528949, 63.001924723734], [735172.0, NaN, 38.094624545034, 69.074424870362], [735202.0, NaN, 39.559129248138, 73.914215436527], [735233.0, NaN, 40.799283686175, 74.572181819196], [735264.0, NaN, 40.745363928, 66.541004275586], [735292.0, NaN, 41.998867254847, 70.365411763138], [735323.0, NaN, 45.002663878847, 71.76940390268], [735353.0, NaN, 44.912188076919, 78.903021106928], [735384.0, NaN, 46.269189547841, 85.114261733663], [735414.0, NaN, 47.891071339789, 87.468686256501], [735445.0, NaN, 46.378529893365, 89.98177559584], [735476.0, NaN, 47.198262137537, 96.956206806577], [735506.0, NaN, 47.592804375467, 95.30085693427], [735537.0, NaN, 48.712203283084, 102.15873497669], [735567.0, NaN, 50.314422309488, 112.98399738955], [735598.0, NaN, 50.628425679261, 104.8614616317], [735629.0, NaN, 47.950161642963, 111.30248998705], [735657.0, NaN, 50.934686156653, 122.5157567099], [735688.0, NaN, 50.572128616936, 118.67223733001], [735718.0, NaN, 51.222872918992, 119.35892069317], [735749.0, NaN, 52.377573352296, 124.76735316852], [735779.0, NaN, 52.639648415531, 120.11778685264], [735810.0, 74.490493466069, 54.165299676508, 116.16733143492], [735841.0, 68.107200896496, 50.240631438077, 108.47643694077], [735871.0, 66.120037864559, 48.375331414687, 105.77318412236], [735902.0, 73.084481886868, 51.003708720373, 114.96039565823], [735932.0, 69.632842445394, 52.264738901248, 114.29538877569], [735963.0, 69.307892228966, 51.562816818001, 101.69680999602], [735994.0, 74.356433031791, 47.645332758797, 94.044912454993], [736023.0, 73.365775968595, 44.856276527438, 93.919781198699], [736054.0, 75.384149765237, 46.232939745672, 105.86737979984], [736084.0, 74.913958403412, 47.781685866184, 91.054300233386], [736115.0, 80.3716622509, 48.865637028736, 97.591938528951], [736145.0, 85.482445918496, 45.599578086949, 93.428693404443], [736176.0, 83.463251615041, 46.216179185104, 101.84313953637], [736207.0, 87.041420911462, 49.333677703594, 104.24847718874], [736237.0, 87.060873681807, 43.001874974707, 111.07719459177], [736268.0, 86.51619611213, 44.681939195715, 111.55864373242], [736298.0, 79.999518046349, 51.824163421622, 109.15491652711], [736329.0, 85.554904051527, 53.968814175464, 114.38945378366], [736360.0, 87.485082257911, 55.163551125094, 119.85115020417], [736388.0, 89.660206937187, 57.066697924081, 135.8803615489], [736419.0, 89.558241906473, 54.877892302252, 142.49633360184], [736449.0, 89.104582713906, 53.083466071743, 142.48641460326], [736480.0, 91.538593974175, 50.770723940011, 152.14268890314], [736510.0, 85.005796269727, 55.00989076097, 143.43800769724], [736541.0, 86.832596843615, 53.550505461951, 148.24848941629], [736572.0, 80.75, 51.07, 164.0], [736602.0, 77.55, 55.15, 154.12], [736633.0, 77.33, 56.14, 169.04]]}, \"id\": \"el202140020365455504\"});\n",
       "      });\n",
       "    });\n",
       "}else{\n",
       "    // require.js not available: dynamically load d3 & mpld3\n",
       "    mpld3_load_lib(\"https://mpld3.github.io/js/d3.v3.min.js\", function(){\n",
       "         mpld3_load_lib(\"https://mpld3.github.io/js/mpld3.v0.3.js\", function(){\n",
       "                 \n",
       "                 mpld3.draw_figure(\"fig_el2021400203654555049454144750\", {\"axes\": [{\"xlim\": [732819.8, 737004.2], \"yscale\": \"linear\", \"axesbg\": \"#FFFFFF\", \"texts\": [], \"zoomable\": true, \"images\": [], \"xdomain\": [[2007, 4, 23, 19, 12, 0, 0.0], [2018, 10, 6, 4, 48, 0, 0.0]], \"ylim\": [1.0781779907054663, 197.0812239392292], \"paths\": [], \"sharey\": [], \"sharex\": [], \"axesbgalpha\": null, \"axes\": [{\"scale\": \"linear\", \"tickformat\": null, \"grid\": {\"gridOn\": false}, \"visible\": true, \"fontsize\": 10.0, \"position\": \"bottom\", \"nticks\": 5, \"tickvalues\": null}, {\"scale\": \"linear\", \"tickformat\": null, \"grid\": {\"gridOn\": false}, \"visible\": true, \"fontsize\": 10.0, \"position\": \"left\", \"nticks\": 9, \"tickvalues\": null}], \"lines\": [{\"drawstyle\": \"default\", \"color\": \"#1F77B4\", \"yindex\": 1, \"coordinates\": \"data\", \"dasharray\": \"none\", \"zorder\": 2, \"alpha\": 1, \"xindex\": 0, \"linewidth\": 1.5, \"data\": \"data01\", \"id\": \"el202140020363989072\"}, {\"drawstyle\": \"default\", \"color\": \"#FF7F0E\", \"yindex\": 2, \"coordinates\": \"data\", \"dasharray\": \"none\", \"zorder\": 2, \"alpha\": 1, \"xindex\": 0, \"linewidth\": 1.5, \"data\": \"data01\", \"id\": \"el202140020369124368\"}, {\"drawstyle\": \"default\", \"color\": \"#2CA02C\", \"yindex\": 3, \"coordinates\": \"data\", \"dasharray\": \"none\", \"zorder\": 2, \"alpha\": 1, \"xindex\": 0, \"linewidth\": 1.5, \"data\": \"data01\", \"id\": \"el202140020369272144\"}, {\"drawstyle\": \"default\", \"color\": \"#FF0000\", \"yindex\": 1, \"coordinates\": \"data\", \"dasharray\": \"none\", \"zorder\": 2, \"alpha\": 1, \"xindex\": 0, \"linewidth\": 1.5, \"data\": \"data02\", \"id\": \"el202140020365456720\"}, {\"drawstyle\": \"default\", \"color\": \"#FF0000\", \"yindex\": 2, \"coordinates\": \"data\", \"dasharray\": \"none\", \"zorder\": 2, \"alpha\": 1, \"xindex\": 0, \"linewidth\": 1.5, \"data\": \"data02\", \"id\": \"el202140020369271696\"}, {\"drawstyle\": \"default\", \"color\": \"#FF0000\", \"yindex\": 3, \"coordinates\": \"data\", \"dasharray\": \"none\", \"zorder\": 2, \"alpha\": 1, \"xindex\": 0, \"linewidth\": 1.5, \"data\": \"data02\", \"id\": \"el202140020369622672\"}], \"markers\": [], \"id\": \"el202140020365455760\", \"ydomain\": [1.0781779907054663, 197.0812239392292], \"collections\": [], \"xscale\": \"date\", \"bbox\": [0.125, 0.125, 0.775, 0.755]}], \"height\": 288.0, \"width\": 432.0, \"plugins\": [{\"type\": \"reset\"}, {\"enabled\": false, \"button\": true, \"type\": \"zoom\"}, {\"enabled\": false, \"button\": true, \"type\": \"boxzoom\"}], \"data\": {\"data02\": [[736633.0, 77.33, 56.14, 169.04], [736663.0, 75.64204803783991, 56.627814080426795, 172.33606468968537], [736694.0, 77.19584917842242, 57.17051744124312, 174.21047292408386], [736725.0, 75.40052494011736, 56.760425072231165, 181.38048904243846], [736753.0, 78.17649352242883, 57.294847638027996, 180.3723110213785], [736784.0, 78.11449667733906, 57.612063086164035, 184.96190313471715], [736814.0, 77.42591371580686, 57.27166033234445, 188.17199457793268]], \"data01\": [[733010.0, NaN, 25.166378433743, 23.417809718684], [733041.0, NaN, 23.428090191635, 25.456040769822], [733072.0, NaN, 26.446813969225, 17.395646600379], [733101.0, NaN, 22.916878264786, 16.066812485072], [733132.0, NaN, 22.814955781912, 18.441750052855], [733162.0, NaN, 23.324568196284, 22.354999454314], [733193.0, NaN, 21.839512782252, 24.257005731542], [733223.0, NaN, 18.813508472198, 21.518373720209], [733254.0, NaN, 23.978311640144, 20.427290389556], [733285.0, NaN, 24.247286432544, 21.786967849899], [733315.0, NaN, 30.062790215176, 14.606894153362], [733346.0, NaN, 27.275193360691, 13.826814551823], [733376.0, NaN, 23.390226016419, 11.909386602077], [733407.0, NaN, 23.867908029216, 10.968664578475], [733438.0, NaN, 15.302017020088, 11.582961200445], [733466.0, NaN, 9.987407352002, 11.477579771571], [733497.0, NaN, 11.753775263844, 13.509385125826], [733527.0, NaN, 16.516365381286, 16.170908774569], [733558.0, NaN, 21.087051779849, 17.453477872322], [733588.0, NaN, 20.061642203104, 18.304240139569], [733619.0, NaN, 20.227030844514, 20.997892272724], [733650.0, NaN, 22.798086403311, 21.6173294522], [733680.0, NaN, 23.344842835948, 23.820058343531], [733711.0, NaN, 22.798086403311, 24.22487724713], [733741.0, NaN, 23.272169314678, 25.691221275723], [733772.0, NaN, 22.400707910241, 27.081999108977], [733803.0, NaN, 23.595854979183, 24.682772406979], [733831.0, NaN, 22.731513444209, 26.296521922057], [733862.0, NaN, 25.874348880168, 30.200775347881], [733892.0, NaN, 27.528910392749, 33.553703981184], [733923.0, NaN, 23.890473279224, 33.012660303675], [733953.0, NaN, 21.31739686121, 32.325110737244], [733984.0, NaN, 23.091070896928, 33.060210460605], [734015.0, NaN, 19.64544591999, 31.24173824285], [734045.0, NaN, 20.95097130703, 36.465829808345], [734076.0, NaN, 21.739291748406, 38.680124954064], [734106.0, NaN, 22.741515837121, 39.98711169997], [734137.0, NaN, 25.900756184946, 41.453455728563], [734168.0, NaN, 27.095918538753, 43.607349323587], [734196.0, NaN, 27.003395476407, 45.392407917553], [734227.0, NaN, 26.601924878653, 44.788071125751], [734257.0, NaN, 24.42075159942, 44.996584989589], [734288.0, NaN, 23.899191524973, 44.701002932993], [734318.0, NaN, 23.638044208345, 43.138273451162], [734349.0, NaN, 23.536954924489, 50.182122373789], [734380.0, NaN, 22.083565037547, 49.456018626063], [734410.0, NaN, 20.408260103664, 49.00493470491], [734441.0, NaN, 21.922803452983, 52.019871682192], [734471.0, NaN, 21.984155875193, 49.118026970042], [734502.0, NaN, 23.429363337986, 52.048144748475], [734533.0, NaN, 24.832064698932, 58.664042258726], [734562.0, NaN, 26.70711138368, 69.711100339167], [734593.0, NaN, 29.227048519308, 77.050531318391], [734623.0, NaN, 28.606380382914, 75.049569309172], [734654.0, NaN, 27.617624986873, 74.246357198856], [734684.0, NaN, 28.815394058067, 75.052139587925], [734715.0, NaN, 29.13422467414, 78.491172559453], [734746.0, NaN, 29.514551732024, 85.857594115654], [734776.0, NaN, 29.948206620828, 86.098295836876], [734807.0, NaN, 29.219666407637, 76.83353816507], [734837.0, NaN, 28.821283697695, 75.896485214554], [734868.0, NaN, 29.842819654262, 69.009794690466], [734899.0, NaN, 30.627742687255, 59.065900168086], [734927.0, NaN, 30.8475800594, 57.562728311726], [734958.0, NaN, 32.527137582588, 57.727044210395], [734988.0, NaN, 33.397693576283, 57.742693343602], [735019.0, NaN, 35.935834675552, 59.041313847026], [735049.0, NaN, 36.57390621603, 52.056549256254], [735080.0, NaN, 38.550155570567, 59.40824208744], [735111.0, NaN, 36.657933387445, 64.384993720396], [735141.0, NaN, 36.872098528949, 63.001924723734], [735172.0, NaN, 38.094624545034, 69.074424870362], [735202.0, NaN, 39.559129248138, 73.914215436527], [735233.0, NaN, 40.799283686175, 74.572181819196], [735264.0, NaN, 40.745363928, 66.541004275586], [735292.0, NaN, 41.998867254847, 70.365411763138], [735323.0, NaN, 45.002663878847, 71.76940390268], [735353.0, NaN, 44.912188076919, 78.903021106928], [735384.0, NaN, 46.269189547841, 85.114261733663], [735414.0, NaN, 47.891071339789, 87.468686256501], [735445.0, NaN, 46.378529893365, 89.98177559584], [735476.0, NaN, 47.198262137537, 96.956206806577], [735506.0, NaN, 47.592804375467, 95.30085693427], [735537.0, NaN, 48.712203283084, 102.15873497669], [735567.0, NaN, 50.314422309488, 112.98399738955], [735598.0, NaN, 50.628425679261, 104.8614616317], [735629.0, NaN, 47.950161642963, 111.30248998705], [735657.0, NaN, 50.934686156653, 122.5157567099], [735688.0, NaN, 50.572128616936, 118.67223733001], [735718.0, NaN, 51.222872918992, 119.35892069317], [735749.0, NaN, 52.377573352296, 124.76735316852], [735779.0, NaN, 52.639648415531, 120.11778685264], [735810.0, 74.490493466069, 54.165299676508, 116.16733143492], [735841.0, 68.107200896496, 50.240631438077, 108.47643694077], [735871.0, 66.120037864559, 48.375331414687, 105.77318412236], [735902.0, 73.084481886868, 51.003708720373, 114.96039565823], [735932.0, 69.632842445394, 52.264738901248, 114.29538877569], [735963.0, 69.307892228966, 51.562816818001, 101.69680999602], [735994.0, 74.356433031791, 47.645332758797, 94.044912454993], [736023.0, 73.365775968595, 44.856276527438, 93.919781198699], [736054.0, 75.384149765237, 46.232939745672, 105.86737979984], [736084.0, 74.913958403412, 47.781685866184, 91.054300233386], [736115.0, 80.3716622509, 48.865637028736, 97.591938528951], [736145.0, 85.482445918496, 45.599578086949, 93.428693404443], [736176.0, 83.463251615041, 46.216179185104, 101.84313953637], [736207.0, 87.041420911462, 49.333677703594, 104.24847718874], [736237.0, 87.060873681807, 43.001874974707, 111.07719459177], [736268.0, 86.51619611213, 44.681939195715, 111.55864373242], [736298.0, 79.999518046349, 51.824163421622, 109.15491652711], [736329.0, 85.554904051527, 53.968814175464, 114.38945378366], [736360.0, 87.485082257911, 55.163551125094, 119.85115020417], [736388.0, 89.660206937187, 57.066697924081, 135.8803615489], [736419.0, 89.558241906473, 54.877892302252, 142.49633360184], [736449.0, 89.104582713906, 53.083466071743, 142.48641460326], [736480.0, 91.538593974175, 50.770723940011, 152.14268890314], [736510.0, 85.005796269727, 55.00989076097, 143.43800769724], [736541.0, 86.832596843615, 53.550505461951, 148.24848941629], [736572.0, 80.75, 51.07, 164.0], [736602.0, 77.55, 55.15, 154.12], [736633.0, 77.33, 56.14, 169.04]]}, \"id\": \"el202140020365455504\"});\n",
       "            })\n",
       "         });\n",
       "}\n",
       "</script>"
      ],
      "text/plain": [
       "<matplotlib.figure.Figure at 0x7f590824f090>"
      ]
     },
     "metadata": {},
     "output_type": "display_data"
    }
   ],
   "source": [
    "fig, ax = plt.subplots()\n",
    "_ = ax.plot(data3.iloc[:-numberofmonths])\n",
    "_ = ax.plot(data3.iloc[-(numberofmonths+1):], color = \"Red\")"
   ]
  },
  {
   "cell_type": "markdown",
   "metadata": {},
   "source": [
    "What do you notice about our forecasts?\n",
    "\n",
    "### 4.2 Exporting for further visualization\n",
    "\n",
    "Next, we want to rearrange all of the data to be more like what we need for D3. Python comes with a function called `unstack()` that does just that!\n",
    "\n",
    "Below, make a variable called **`datalist`** and set it equal to **`data3.unstack()`**.\n",
    "\n",
    "Then show the top 10 rows of the datalist. (Hint, you've used this type of function before)"
   ]
  },
  {
   "cell_type": "code",
   "execution_count": 68,
   "metadata": {
    "collapsed": true
   },
   "outputs": [],
   "source": [
    "datalist=data3.unstack()"
   ]
  },
  {
   "cell_type": "markdown",
   "metadata": {},
   "source": [
    "Almost there! We've done the hard work, now we just need it in a CSV format.\n",
    "\n",
    "We've written this bit of code to clean the data a bit more and to output the data in a comma-separated value format."
   ]
  },
  {
   "cell_type": "code",
   "execution_count": 69,
   "metadata": {},
   "outputs": [
    {
     "name": "stdout",
     "output_type": "stream",
     "text": [
      "symbol,date,price\n",
      "KHC,Nov 2007,\n",
      "KHC,Dec 2007,\n",
      "KHC,Jan 2008,\n",
      "KHC,Feb 2008,\n",
      "KHC,Mar 2008,\n",
      "KHC,Apr 2008,\n",
      "KHC,May 2008,\n",
      "KHC,Jun 2008,\n",
      "KHC,Jul 2008,\n",
      "KHC,Aug 2008,\n",
      "KHC,Sep 2008,\n",
      "KHC,Oct 2008,\n",
      "KHC,Nov 2008,\n",
      "KHC,Dec 2008,\n",
      "KHC,Jan 2009,\n",
      "KHC,Feb 2009,\n",
      "KHC,Mar 2009,\n",
      "KHC,Apr 2009,\n",
      "KHC,May 2009,\n",
      "KHC,Jun 2009,\n",
      "KHC,Jul 2009,\n",
      "KHC,Aug 2009,\n",
      "KHC,Sep 2009,\n",
      "KHC,Oct 2009,\n",
      "KHC,Nov 2009,\n",
      "KHC,Dec 2009,\n",
      "KHC,Jan 2010,\n",
      "KHC,Feb 2010,\n",
      "KHC,Mar 2010,\n",
      "KHC,Apr 2010,\n",
      "KHC,May 2010,\n",
      "KHC,Jun 2010,\n",
      "KHC,Jul 2010,\n",
      "KHC,Aug 2010,\n",
      "KHC,Sep 2010,\n",
      "KHC,Oct 2010,\n",
      "KHC,Nov 2010,\n",
      "KHC,Dec 2010,\n",
      "KHC,Jan 2011,\n",
      "KHC,Feb 2011,\n",
      "KHC,Mar 2011,\n",
      "KHC,Apr 2011,\n",
      "KHC,May 2011,\n",
      "KHC,Jun 2011,\n",
      "KHC,Jul 2011,\n",
      "KHC,Aug 2011,\n",
      "KHC,Sep 2011,\n",
      "KHC,Oct 2011,\n",
      "KHC,Nov 2011,\n",
      "KHC,Dec 2011,\n",
      "KHC,Jan 2012,\n",
      "KHC,Feb 2012,\n",
      "KHC,Mar 2012,\n",
      "KHC,Apr 2012,\n",
      "KHC,May 2012,\n",
      "KHC,Jun 2012,\n",
      "KHC,Jul 2012,\n",
      "KHC,Aug 2012,\n",
      "KHC,Sep 2012,\n",
      "KHC,Oct 2012,\n",
      "KHC,Nov 2012,\n",
      "KHC,Dec 2012,\n",
      "KHC,Jan 2013,\n",
      "KHC,Feb 2013,\n",
      "KHC,Mar 2013,\n",
      "KHC,Apr 2013,\n",
      "KHC,May 2013,\n",
      "KHC,Jun 2013,\n",
      "KHC,Jul 2013,\n",
      "KHC,Aug 2013,\n",
      "KHC,Sep 2013,\n",
      "KHC,Oct 2013,\n",
      "KHC,Nov 2013,\n",
      "KHC,Dec 2013,\n",
      "KHC,Jan 2014,\n",
      "KHC,Feb 2014,\n",
      "KHC,Mar 2014,\n",
      "KHC,Apr 2014,\n",
      "KHC,May 2014,\n",
      "KHC,Jun 2014,\n",
      "KHC,Jul 2014,\n",
      "KHC,Aug 2014,\n",
      "KHC,Sep 2014,\n",
      "KHC,Oct 2014,\n",
      "KHC,Nov 2014,\n",
      "KHC,Dec 2014,\n",
      "KHC,Jan 2015,\n",
      "KHC,Feb 2015,\n",
      "KHC,Mar 2015,\n",
      "KHC,Apr 2015,\n",
      "KHC,May 2015,\n",
      "KHC,Jun 2015,\n",
      "KHC,Jul 2015,74.490493466069\n",
      "KHC,Aug 2015,68.107200896496\n",
      "KHC,Sep 2015,66.120037864559\n",
      "KHC,Oct 2015,73.084481886868\n",
      "KHC,Nov 2015,69.632842445394\n",
      "KHC,Dec 2015,69.307892228966\n",
      "KHC,Jan 2016,74.356433031791\n",
      "KHC,Feb 2016,73.365775968595\n",
      "KHC,Mar 2016,75.384149765237\n",
      "KHC,Apr 2016,74.913958403412\n",
      "KHC,May 2016,80.3716622509\n",
      "KHC,Jun 2016,85.482445918496\n",
      "KHC,Jul 2016,83.463251615041\n",
      "KHC,Aug 2016,87.041420911462\n",
      "KHC,Sep 2016,87.060873681807\n",
      "KHC,Oct 2016,86.51619611213\n",
      "KHC,Nov 2016,79.999518046349\n",
      "KHC,Dec 2016,85.554904051527\n",
      "KHC,Jan 2017,87.485082257911\n",
      "KHC,Feb 2017,89.660206937187\n",
      "KHC,Mar 2017,89.558241906473\n",
      "KHC,Apr 2017,89.104582713906\n",
      "KHC,May 2017,91.538593974175\n",
      "KHC,Jun 2017,85.005796269727\n",
      "KHC,Jul 2017,86.832596843615\n",
      "KHC,Aug 2017,80.75\n",
      "KHC,Sep 2017,77.55\n",
      "KHC,Oct 2017,77.33\n",
      "KHC,Nov 2017,75.64204803783991\n",
      "KHC,Dec 2017,77.19584917842242\n",
      "KHC,Jan 2018,75.40052494011736\n",
      "KHC,Feb 2018,78.17649352242883\n",
      "KHC,Mar 2018,78.11449667733906\n",
      "KHC,Apr 2018,77.42591371580686\n",
      "WFC,Nov 2007,25.166378433743\n",
      "WFC,Dec 2007,23.428090191635\n",
      "WFC,Jan 2008,26.446813969225\n",
      "WFC,Feb 2008,22.916878264786\n",
      "WFC,Mar 2008,22.814955781912\n",
      "WFC,Apr 2008,23.324568196284\n",
      "WFC,May 2008,21.839512782252\n",
      "WFC,Jun 2008,18.813508472198\n",
      "WFC,Jul 2008,23.978311640144\n",
      "WFC,Aug 2008,24.247286432544\n",
      "WFC,Sep 2008,30.062790215176\n",
      "WFC,Oct 2008,27.275193360691\n",
      "WFC,Nov 2008,23.390226016419\n",
      "WFC,Dec 2008,23.867908029216\n",
      "WFC,Jan 2009,15.302017020088\n",
      "WFC,Feb 2009,9.987407352002\n",
      "WFC,Mar 2009,11.753775263844\n",
      "WFC,Apr 2009,16.516365381286\n",
      "WFC,May 2009,21.087051779849\n",
      "WFC,Jun 2009,20.061642203104\n",
      "WFC,Jul 2009,20.227030844514\n",
      "WFC,Aug 2009,22.798086403311\n",
      "WFC,Sep 2009,23.344842835948\n",
      "WFC,Oct 2009,22.798086403311\n",
      "WFC,Nov 2009,23.272169314678\n",
      "WFC,Dec 2009,22.400707910241\n",
      "WFC,Jan 2010,23.595854979183\n",
      "WFC,Feb 2010,22.731513444209\n",
      "WFC,Mar 2010,25.874348880168\n",
      "WFC,Apr 2010,27.528910392749\n",
      "WFC,May 2010,23.890473279224\n",
      "WFC,Jun 2010,21.31739686121\n",
      "WFC,Jul 2010,23.091070896928\n",
      "WFC,Aug 2010,19.64544591999\n",
      "WFC,Sep 2010,20.95097130703\n",
      "WFC,Oct 2010,21.739291748406\n",
      "WFC,Nov 2010,22.741515837121\n",
      "WFC,Dec 2010,25.900756184946\n",
      "WFC,Jan 2011,27.095918538753\n",
      "WFC,Feb 2011,27.003395476407\n",
      "WFC,Mar 2011,26.601924878653\n",
      "WFC,Apr 2011,24.42075159942\n",
      "WFC,May 2011,23.899191524973\n",
      "WFC,Jun 2011,23.638044208345\n",
      "WFC,Jul 2011,23.536954924489\n",
      "WFC,Aug 2011,22.083565037547\n",
      "WFC,Sep 2011,20.408260103664\n",
      "WFC,Oct 2011,21.922803452983\n",
      "WFC,Nov 2011,21.984155875193\n",
      "WFC,Dec 2011,23.429363337986\n",
      "WFC,Jan 2012,24.832064698932\n",
      "WFC,Feb 2012,26.70711138368\n",
      "WFC,Mar 2012,29.227048519308\n",
      "WFC,Apr 2012,28.606380382914\n",
      "WFC,May 2012,27.617624986873\n",
      "WFC,Jun 2012,28.815394058067\n",
      "WFC,Jul 2012,29.13422467414\n",
      "WFC,Aug 2012,29.514551732024\n",
      "WFC,Sep 2012,29.948206620828\n",
      "WFC,Oct 2012,29.219666407637\n",
      "WFC,Nov 2012,28.821283697695\n",
      "WFC,Dec 2012,29.842819654262\n",
      "WFC,Jan 2013,30.627742687255\n",
      "WFC,Feb 2013,30.8475800594\n",
      "WFC,Mar 2013,32.527137582588\n",
      "WFC,Apr 2013,33.397693576283\n",
      "WFC,May 2013,35.935834675552\n",
      "WFC,Jun 2013,36.57390621603\n",
      "WFC,Jul 2013,38.550155570567\n",
      "WFC,Aug 2013,36.657933387445\n",
      "WFC,Sep 2013,36.872098528949\n",
      "WFC,Oct 2013,38.094624545034\n",
      "WFC,Nov 2013,39.559129248138\n",
      "WFC,Dec 2013,40.799283686175\n",
      "WFC,Jan 2014,40.745363928\n",
      "WFC,Feb 2014,41.998867254847\n",
      "WFC,Mar 2014,45.002663878847\n",
      "WFC,Apr 2014,44.912188076919\n",
      "WFC,May 2014,46.269189547841\n",
      "WFC,Jun 2014,47.891071339789\n",
      "WFC,Jul 2014,46.378529893365\n",
      "WFC,Aug 2014,47.198262137537\n",
      "WFC,Sep 2014,47.592804375467\n",
      "WFC,Oct 2014,48.712203283084\n",
      "WFC,Nov 2014,50.314422309488\n",
      "WFC,Dec 2014,50.628425679261\n",
      "WFC,Jan 2015,47.950161642963\n",
      "WFC,Feb 2015,50.934686156653\n",
      "WFC,Mar 2015,50.572128616936\n",
      "WFC,Apr 2015,51.222872918992\n",
      "WFC,May 2015,52.377573352296\n",
      "WFC,Jun 2015,52.639648415531\n",
      "WFC,Jul 2015,54.165299676508\n",
      "WFC,Aug 2015,50.240631438077\n",
      "WFC,Sep 2015,48.375331414687\n",
      "WFC,Oct 2015,51.003708720373\n",
      "WFC,Nov 2015,52.264738901248\n",
      "WFC,Dec 2015,51.562816818001\n",
      "WFC,Jan 2016,47.645332758797\n",
      "WFC,Feb 2016,44.856276527438\n",
      "WFC,Mar 2016,46.232939745672\n",
      "WFC,Apr 2016,47.781685866184\n",
      "WFC,May 2016,48.865637028736\n",
      "WFC,Jun 2016,45.599578086949\n",
      "WFC,Jul 2016,46.216179185104\n",
      "WFC,Aug 2016,49.333677703594\n",
      "WFC,Sep 2016,43.001874974707\n",
      "WFC,Oct 2016,44.681939195715\n",
      "WFC,Nov 2016,51.824163421622\n",
      "WFC,Dec 2016,53.968814175464\n",
      "WFC,Jan 2017,55.163551125094\n",
      "WFC,Feb 2017,57.066697924081\n",
      "WFC,Mar 2017,54.877892302252\n",
      "WFC,Apr 2017,53.083466071743\n",
      "WFC,May 2017,50.770723940011\n",
      "WFC,Jun 2017,55.00989076097\n",
      "WFC,Jul 2017,53.550505461951\n",
      "WFC,Aug 2017,51.07\n",
      "WFC,Sep 2017,55.15\n",
      "WFC,Oct 2017,56.14\n",
      "WFC,Nov 2017,56.627814080426795\n",
      "WFC,Dec 2017,57.17051744124312\n",
      "WFC,Jan 2018,56.760425072231165\n",
      "WFC,Feb 2018,57.294847638027996\n",
      "WFC,Mar 2018,57.612063086164035\n",
      "WFC,Apr 2018,57.27166033234445\n",
      "AAPL,Nov 2007,23.417809718684\n",
      "AAPL,Dec 2007,25.456040769822\n",
      "AAPL,Jan 2008,17.395646600379\n",
      "AAPL,Feb 2008,16.066812485072\n",
      "AAPL,Mar 2008,18.441750052855\n",
      "AAPL,Apr 2008,22.354999454314\n",
      "AAPL,May 2008,24.257005731542\n",
      "AAPL,Jun 2008,21.518373720209\n",
      "AAPL,Jul 2008,20.427290389556\n",
      "AAPL,Aug 2008,21.786967849899\n",
      "AAPL,Sep 2008,14.606894153362\n",
      "AAPL,Oct 2008,13.826814551823\n",
      "AAPL,Nov 2008,11.909386602077\n",
      "AAPL,Dec 2008,10.968664578475\n",
      "AAPL,Jan 2009,11.582961200445\n",
      "AAPL,Feb 2009,11.477579771571\n",
      "AAPL,Mar 2009,13.509385125826\n",
      "AAPL,Apr 2009,16.170908774569\n",
      "AAPL,May 2009,17.453477872322\n",
      "AAPL,Jun 2009,18.304240139569\n",
      "AAPL,Jul 2009,20.997892272724\n",
      "AAPL,Aug 2009,21.6173294522\n",
      "AAPL,Sep 2009,23.820058343531\n",
      "AAPL,Oct 2009,24.22487724713\n",
      "AAPL,Nov 2009,25.691221275723\n",
      "AAPL,Dec 2009,27.081999108977\n",
      "AAPL,Jan 2010,24.682772406979\n",
      "AAPL,Feb 2010,26.296521922057\n",
      "AAPL,Mar 2010,30.200775347881\n",
      "AAPL,Apr 2010,33.553703981184\n",
      "AAPL,May 2010,33.012660303675\n",
      "AAPL,Jun 2010,32.325110737244\n",
      "AAPL,Jul 2010,33.060210460605\n",
      "AAPL,Aug 2010,31.24173824285\n",
      "AAPL,Sep 2010,36.465829808345\n",
      "AAPL,Oct 2010,38.680124954064\n",
      "AAPL,Nov 2010,39.98711169997\n",
      "AAPL,Dec 2010,41.453455728563\n",
      "AAPL,Jan 2011,43.607349323587\n",
      "AAPL,Feb 2011,45.392407917553\n",
      "AAPL,Mar 2011,44.788071125751\n",
      "AAPL,Apr 2011,44.996584989589\n",
      "AAPL,May 2011,44.701002932993\n",
      "AAPL,Jun 2011,43.138273451162\n",
      "AAPL,Jul 2011,50.182122373789\n",
      "AAPL,Aug 2011,49.456018626063\n",
      "AAPL,Sep 2011,49.00493470491\n",
      "AAPL,Oct 2011,52.019871682192\n",
      "AAPL,Nov 2011,49.118026970042\n",
      "AAPL,Dec 2011,52.048144748475\n",
      "AAPL,Jan 2012,58.664042258726\n",
      "AAPL,Feb 2012,69.711100339167\n",
      "AAPL,Mar 2012,77.050531318391\n",
      "AAPL,Apr 2012,75.049569309172\n",
      "AAPL,May 2012,74.246357198856\n",
      "AAPL,Jun 2012,75.052139587925\n",
      "AAPL,Jul 2012,78.491172559453\n",
      "AAPL,Aug 2012,85.857594115654\n",
      "AAPL,Sep 2012,86.098295836876\n",
      "AAPL,Oct 2012,76.83353816507\n",
      "AAPL,Nov 2012,75.896485214554\n",
      "AAPL,Dec 2012,69.009794690466\n",
      "AAPL,Jan 2013,59.065900168086\n",
      "AAPL,Feb 2013,57.562728311726\n",
      "AAPL,Mar 2013,57.727044210395\n",
      "AAPL,Apr 2013,57.742693343602\n",
      "AAPL,May 2013,59.041313847026\n",
      "AAPL,Jun 2013,52.056549256254\n",
      "AAPL,Jul 2013,59.40824208744\n",
      "AAPL,Aug 2013,64.384993720396\n",
      "AAPL,Sep 2013,63.001924723734\n",
      "AAPL,Oct 2013,69.074424870362\n",
      "AAPL,Nov 2013,73.914215436527\n",
      "AAPL,Dec 2013,74.572181819196\n",
      "AAPL,Jan 2014,66.541004275586\n",
      "AAPL,Feb 2014,70.365411763138\n",
      "AAPL,Mar 2014,71.76940390268\n",
      "AAPL,Apr 2014,78.903021106928\n",
      "AAPL,May 2014,85.114261733663\n",
      "AAPL,Jun 2014,87.468686256501\n",
      "AAPL,Jul 2014,89.98177559584\n",
      "AAPL,Aug 2014,96.956206806577\n",
      "AAPL,Sep 2014,95.30085693427\n",
      "AAPL,Oct 2014,102.15873497669\n",
      "AAPL,Nov 2014,112.98399738955\n",
      "AAPL,Dec 2014,104.8614616317\n",
      "AAPL,Jan 2015,111.30248998705\n",
      "AAPL,Feb 2015,122.5157567099\n",
      "AAPL,Mar 2015,118.67223733001\n",
      "AAPL,Apr 2015,119.35892069317\n",
      "AAPL,May 2015,124.76735316852\n",
      "AAPL,Jun 2015,120.11778685264\n",
      "AAPL,Jul 2015,116.16733143492\n",
      "AAPL,Aug 2015,108.47643694077\n",
      "AAPL,Sep 2015,105.77318412236\n",
      "AAPL,Oct 2015,114.96039565823\n",
      "AAPL,Nov 2015,114.29538877569\n",
      "AAPL,Dec 2015,101.69680999602\n",
      "AAPL,Jan 2016,94.044912454993\n",
      "AAPL,Feb 2016,93.919781198699\n",
      "AAPL,Mar 2016,105.86737979984\n",
      "AAPL,Apr 2016,91.054300233386\n",
      "AAPL,May 2016,97.591938528951\n",
      "AAPL,Jun 2016,93.428693404443\n",
      "AAPL,Jul 2016,101.84313953637\n",
      "AAPL,Aug 2016,104.24847718874\n",
      "AAPL,Sep 2016,111.07719459177\n",
      "AAPL,Oct 2016,111.55864373242\n",
      "AAPL,Nov 2016,109.15491652711\n",
      "AAPL,Dec 2016,114.38945378366\n",
      "AAPL,Jan 2017,119.85115020417\n",
      "AAPL,Feb 2017,135.8803615489\n",
      "AAPL,Mar 2017,142.49633360184\n",
      "AAPL,Apr 2017,142.48641460326\n",
      "AAPL,May 2017,152.14268890314\n",
      "AAPL,Jun 2017,143.43800769724\n",
      "AAPL,Jul 2017,148.24848941629\n",
      "AAPL,Aug 2017,164.0\n",
      "AAPL,Sep 2017,154.12\n",
      "AAPL,Oct 2017,169.04\n",
      "AAPL,Nov 2017,172.33606468968537\n",
      "AAPL,Dec 2017,174.21047292408386\n",
      "AAPL,Jan 2018,181.38048904243846\n",
      "AAPL,Feb 2018,180.3723110213785\n",
      "AAPL,Mar 2018,184.96190313471715\n",
      "AAPL,Apr 2018,188.17199457793268\n",
      "\n"
     ]
    }
   ],
   "source": [
    "csv = datalist.to_csv(header=True, index_label=['symbol','date','price'], date_format='%b %Y', index=True)\n",
    "csv = csv.replace(\"price,0\",\"price\") # remove addition of ',0' on first line\n",
    "print csv"
   ]
  },
  {
   "cell_type": "markdown",
   "metadata": {},
   "source": [
    "We could copy & paste this into a new CSV file for our D3.js visualization, or we could write code to do that for us.\n",
    "\n",
    "To make the downloadable file, we've got to bring in a library called `base64` which will encode the file. Then we use that to create the file and add a bit of HTML to make it so we can download the file.\n",
    "\n",
    "Run the cell below, and download the resulting **`stocks.csv`** file."
   ]
  },
  {
   "cell_type": "code",
   "execution_count": 70,
   "metadata": {},
   "outputs": [
    {
     "data": {
      "text/html": [
       "<a download=\"stocks.csv\" href=\"data:text/csv;base64,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\" target=\"_blank\">stocks.csv</a>"
      ],
      "text/plain": [
       "<IPython.core.display.HTML object>"
      ]
     },
     "execution_count": 70,
     "metadata": {},
     "output_type": "execute_result"
    }
   ],
   "source": [
    "import base64\n",
    "from IPython.display import HTML\n",
    "\n",
    "b64 = base64.b64encode(csv.encode())\n",
    "payload = b64.decode()\n",
    "html = '<a download=\"{filename}\" href=\"data:text/csv;base64,{payload}\" target=\"_blank\">{filename}</a>'\n",
    "html = html.format(payload=payload,title=\"stocks.csv\",filename=\"stocks.csv\")\n",
    "HTML(html)\n"
   ]
  },
  {
   "cell_type": "markdown",
   "metadata": {},
   "source": [
    "Now you can import this file into your D3.js visualization."
   ]
  },
  {
   "cell_type": "markdown",
   "metadata": {},
   "source": [
    "## <font color='green'>You're done!</font>\n",
    "\n",
    "![done](https://media.giphy.com/media/15BuyagtKucHm/giphy.gif)"
   ]
  }
 ],
 "metadata": {
  "kernelspec": {
   "display_name": "Python 2",
   "language": "python",
   "name": "python2"
  },
  "language_info": {
   "codemirror_mode": {
    "name": "ipython",
    "version": 2
   },
   "file_extension": ".py",
   "mimetype": "text/x-python",
   "name": "python",
   "nbconvert_exporter": "python",
   "pygments_lexer": "ipython2",
   "version": "2.7.14"
  },
  "widgets": {
   "state": {},
   "version": "1.1.2"
  }
 },
 "nbformat": 4,
 "nbformat_minor": 2
}
